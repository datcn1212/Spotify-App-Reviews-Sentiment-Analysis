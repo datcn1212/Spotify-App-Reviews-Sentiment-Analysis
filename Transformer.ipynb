{
  "cells": [
    {
      "cell_type": "code",
      "source": [
        "import numpy as np\n",
        "import pandas as pd\n",
        "import matplotlib.pyplot as plt\n",
        "import seaborn as sns\n",
        "from wordcloud import WordCloud"
      ],
      "metadata": {
        "id": "cSWzqMhaS4El"
      },
      "execution_count": 1,
      "outputs": []
    },
    {
      "cell_type": "code",
      "source": [
        "\n",
        "from google.colab import files\n",
        "import io\n",
        "uploaded = files.upload()\n",
        "stf = pd.read_csv(io.BytesIO(uploaded['reviews.csv']))\n",
        "print(stf)"
      ],
      "metadata": {
        "colab": {
          "base_uri": "https://localhost:8080/",
          "height": 566
        },
        "id": "TaEmsGsaS9XE",
        "outputId": "89e63285-6109-48a9-cc8f-b9adb9690629"
      },
      "execution_count": 3,
      "outputs": [
        {
          "output_type": "display_data",
          "data": {
            "text/plain": [
              "<IPython.core.display.HTML object>"
            ],
            "text/html": [
              "\n",
              "     <input type=\"file\" id=\"files-56446e46-93d5-4904-92c9-5e2e039cd533\" name=\"files[]\" multiple disabled\n",
              "        style=\"border:none\" />\n",
              "     <output id=\"result-56446e46-93d5-4904-92c9-5e2e039cd533\">\n",
              "      Upload widget is only available when the cell has been executed in the\n",
              "      current browser session. Please rerun this cell to enable.\n",
              "      </output>\n",
              "      <script>// Copyright 2017 Google LLC\n",
              "//\n",
              "// Licensed under the Apache License, Version 2.0 (the \"License\");\n",
              "// you may not use this file except in compliance with the License.\n",
              "// You may obtain a copy of the License at\n",
              "//\n",
              "//      http://www.apache.org/licenses/LICENSE-2.0\n",
              "//\n",
              "// Unless required by applicable law or agreed to in writing, software\n",
              "// distributed under the License is distributed on an \"AS IS\" BASIS,\n",
              "// WITHOUT WARRANTIES OR CONDITIONS OF ANY KIND, either express or implied.\n",
              "// See the License for the specific language governing permissions and\n",
              "// limitations under the License.\n",
              "\n",
              "/**\n",
              " * @fileoverview Helpers for google.colab Python module.\n",
              " */\n",
              "(function(scope) {\n",
              "function span(text, styleAttributes = {}) {\n",
              "  const element = document.createElement('span');\n",
              "  element.textContent = text;\n",
              "  for (const key of Object.keys(styleAttributes)) {\n",
              "    element.style[key] = styleAttributes[key];\n",
              "  }\n",
              "  return element;\n",
              "}\n",
              "\n",
              "// Max number of bytes which will be uploaded at a time.\n",
              "const MAX_PAYLOAD_SIZE = 100 * 1024;\n",
              "\n",
              "function _uploadFiles(inputId, outputId) {\n",
              "  const steps = uploadFilesStep(inputId, outputId);\n",
              "  const outputElement = document.getElementById(outputId);\n",
              "  // Cache steps on the outputElement to make it available for the next call\n",
              "  // to uploadFilesContinue from Python.\n",
              "  outputElement.steps = steps;\n",
              "\n",
              "  return _uploadFilesContinue(outputId);\n",
              "}\n",
              "\n",
              "// This is roughly an async generator (not supported in the browser yet),\n",
              "// where there are multiple asynchronous steps and the Python side is going\n",
              "// to poll for completion of each step.\n",
              "// This uses a Promise to block the python side on completion of each step,\n",
              "// then passes the result of the previous step as the input to the next step.\n",
              "function _uploadFilesContinue(outputId) {\n",
              "  const outputElement = document.getElementById(outputId);\n",
              "  const steps = outputElement.steps;\n",
              "\n",
              "  const next = steps.next(outputElement.lastPromiseValue);\n",
              "  return Promise.resolve(next.value.promise).then((value) => {\n",
              "    // Cache the last promise value to make it available to the next\n",
              "    // step of the generator.\n",
              "    outputElement.lastPromiseValue = value;\n",
              "    return next.value.response;\n",
              "  });\n",
              "}\n",
              "\n",
              "/**\n",
              " * Generator function which is called between each async step of the upload\n",
              " * process.\n",
              " * @param {string} inputId Element ID of the input file picker element.\n",
              " * @param {string} outputId Element ID of the output display.\n",
              " * @return {!Iterable<!Object>} Iterable of next steps.\n",
              " */\n",
              "function* uploadFilesStep(inputId, outputId) {\n",
              "  const inputElement = document.getElementById(inputId);\n",
              "  inputElement.disabled = false;\n",
              "\n",
              "  const outputElement = document.getElementById(outputId);\n",
              "  outputElement.innerHTML = '';\n",
              "\n",
              "  const pickedPromise = new Promise((resolve) => {\n",
              "    inputElement.addEventListener('change', (e) => {\n",
              "      resolve(e.target.files);\n",
              "    });\n",
              "  });\n",
              "\n",
              "  const cancel = document.createElement('button');\n",
              "  inputElement.parentElement.appendChild(cancel);\n",
              "  cancel.textContent = 'Cancel upload';\n",
              "  const cancelPromise = new Promise((resolve) => {\n",
              "    cancel.onclick = () => {\n",
              "      resolve(null);\n",
              "    };\n",
              "  });\n",
              "\n",
              "  // Wait for the user to pick the files.\n",
              "  const files = yield {\n",
              "    promise: Promise.race([pickedPromise, cancelPromise]),\n",
              "    response: {\n",
              "      action: 'starting',\n",
              "    }\n",
              "  };\n",
              "\n",
              "  cancel.remove();\n",
              "\n",
              "  // Disable the input element since further picks are not allowed.\n",
              "  inputElement.disabled = true;\n",
              "\n",
              "  if (!files) {\n",
              "    return {\n",
              "      response: {\n",
              "        action: 'complete',\n",
              "      }\n",
              "    };\n",
              "  }\n",
              "\n",
              "  for (const file of files) {\n",
              "    const li = document.createElement('li');\n",
              "    li.append(span(file.name, {fontWeight: 'bold'}));\n",
              "    li.append(span(\n",
              "        `(${file.type || 'n/a'}) - ${file.size} bytes, ` +\n",
              "        `last modified: ${\n",
              "            file.lastModifiedDate ? file.lastModifiedDate.toLocaleDateString() :\n",
              "                                    'n/a'} - `));\n",
              "    const percent = span('0% done');\n",
              "    li.appendChild(percent);\n",
              "\n",
              "    outputElement.appendChild(li);\n",
              "\n",
              "    const fileDataPromise = new Promise((resolve) => {\n",
              "      const reader = new FileReader();\n",
              "      reader.onload = (e) => {\n",
              "        resolve(e.target.result);\n",
              "      };\n",
              "      reader.readAsArrayBuffer(file);\n",
              "    });\n",
              "    // Wait for the data to be ready.\n",
              "    let fileData = yield {\n",
              "      promise: fileDataPromise,\n",
              "      response: {\n",
              "        action: 'continue',\n",
              "      }\n",
              "    };\n",
              "\n",
              "    // Use a chunked sending to avoid message size limits. See b/62115660.\n",
              "    let position = 0;\n",
              "    do {\n",
              "      const length = Math.min(fileData.byteLength - position, MAX_PAYLOAD_SIZE);\n",
              "      const chunk = new Uint8Array(fileData, position, length);\n",
              "      position += length;\n",
              "\n",
              "      const base64 = btoa(String.fromCharCode.apply(null, chunk));\n",
              "      yield {\n",
              "        response: {\n",
              "          action: 'append',\n",
              "          file: file.name,\n",
              "          data: base64,\n",
              "        },\n",
              "      };\n",
              "\n",
              "      let percentDone = fileData.byteLength === 0 ?\n",
              "          100 :\n",
              "          Math.round((position / fileData.byteLength) * 100);\n",
              "      percent.textContent = `${percentDone}% done`;\n",
              "\n",
              "    } while (position < fileData.byteLength);\n",
              "  }\n",
              "\n",
              "  // All done.\n",
              "  yield {\n",
              "    response: {\n",
              "      action: 'complete',\n",
              "    }\n",
              "  };\n",
              "}\n",
              "\n",
              "scope.google = scope.google || {};\n",
              "scope.google.colab = scope.google.colab || {};\n",
              "scope.google.colab._files = {\n",
              "  _uploadFiles,\n",
              "  _uploadFilesContinue,\n",
              "};\n",
              "})(self);\n",
              "</script> "
            ]
          },
          "metadata": {}
        },
        {
          "output_type": "stream",
          "name": "stdout",
          "text": [
            "Saving reviews.csv to reviews (1).csv\n",
            "            Time_submitted                                             Review  \\\n",
            "0      2022-07-09 15:00:00  Great music service, the audio is high quality...   \n",
            "1      2022-07-09 14:21:22  Please ignore previous negative rating. This a...   \n",
            "2      2022-07-09 13:27:32  This pop-up \"Get the best Spotify experience o...   \n",
            "3      2022-07-09 13:26:45    Really buggy and terrible to use as of recently   \n",
            "4      2022-07-09 13:20:49  Dear Spotify why do I get songs that I didn't ...   \n",
            "...                    ...                                                ...   \n",
            "61589  2022-01-01 03:01:29  Even though it was communicated that lyrics fe...   \n",
            "61590  2022-01-01 02:13:40  Use to be sooo good back when I had it, and wh...   \n",
            "61591  2022-01-01 01:02:29  This app would be good if not for it taking ov...   \n",
            "61592  2022-01-01 00:49:23  The app is good hard to navigate and won't jus...   \n",
            "61593  2022-01-01 00:19:09  Its good but sometimes it doesnt load the musi...   \n",
            "\n",
            "       Rating  Total_thumbsup Reply  \n",
            "0           5               2   NaN  \n",
            "1           5               1   NaN  \n",
            "2           4               0   NaN  \n",
            "3           1               1   NaN  \n",
            "4           1               1   NaN  \n",
            "...       ...             ...   ...  \n",
            "61589       1               6   NaN  \n",
            "61590       1               0   NaN  \n",
            "61591       2              10   NaN  \n",
            "61592       2               1   NaN  \n",
            "61593       4               0   NaN  \n",
            "\n",
            "[61594 rows x 5 columns]\n"
          ]
        }
      ]
    },
    {
      "cell_type": "code",
      "source": [
        "import gensim\n",
        "from gensim.parsing.preprocessing import strip_non_alphanum, strip_multiple_whitespaces, preprocess_string, split_alphanum, strip_short, strip_numeric\n",
        "import re \n",
        "import nltk\n",
        "from nltk.corpus import stopwords\n",
        "nltk.download('stopwords')\n",
        "stop_words = stopwords.words('english')"
      ],
      "metadata": {
        "colab": {
          "base_uri": "https://localhost:8080/"
        },
        "id": "2iaWwaXNTBQ9",
        "outputId": "5c0afbc2-45a3-447d-94be-e7c7089e1a6e"
      },
      "execution_count": 4,
      "outputs": [
        {
          "output_type": "stream",
          "name": "stderr",
          "text": [
            "[nltk_data] Downloading package stopwords to /root/nltk_data...\n",
            "[nltk_data]   Unzipping corpora/stopwords.zip.\n"
          ]
        }
      ]
    },
    {
      "cell_type": "code",
      "source": [
        "def lower_case(docs):\n",
        "  return [doc.lower() for doc in docs]\n",
        "\n",
        "def remove_punc(docs):\n",
        "  # Loai bo dau cau & ki tu dac biet\n",
        "  return [strip_non_alphanum(doc).strip() for doc in docs]\n",
        "\n",
        "def separate_num(docs):\n",
        "  # Tach cac so va chu lien nhau\n",
        "  return [split_alphanum(doc) for doc in docs]\n",
        "\n",
        "def remove_one_letter_word(docs):\n",
        "  return [strip_short(doc) for doc in docs]\n",
        "\n",
        "def remove_number(docs):\n",
        "  return [strip_numeric(doc) for doc in docs]\n",
        "\n",
        "def replace_multiple_whitespaces(docs):\n",
        "  # Thay the nhieu spaces bang mot space\n",
        "  return [strip_multiple_whitespaces(doc) for doc in docs]\n",
        "\n",
        "def remove_stopwords(docs):\n",
        "    return [\" \".join([word for word in doc.split() if word not in stop_words]) for doc in docs]\n",
        "\n",
        "doc = lower_case(stf['Review'])\n",
        "doc = remove_punc(doc)\n",
        "doc = separate_num(doc)\n",
        "doc = remove_one_letter_word(doc)\n",
        "doc = remove_number(doc)\n",
        "doc = replace_multiple_whitespaces(doc)\n",
        "doc = remove_stopwords(doc)\n",
        "\n",
        "stf['Review'] = doc"
      ],
      "metadata": {
        "id": "2sjB9S0STDos"
      },
      "execution_count": 5,
      "outputs": []
    },
    {
      "cell_type": "code",
      "source": [
        "stf1 = stf.copy()\n",
        "rate = [1,2,3,4,5]\n",
        "sentiment = [0, 0, 1, 1, 1]\n",
        "for i in range(5):\n",
        "    stf1[\"Rating\"].replace(rate[i], sentiment[i],inplace=True)"
      ],
      "metadata": {
        "id": "4949pXw0TEDd"
      },
      "execution_count": 6,
      "outputs": []
    },
    {
      "cell_type": "code",
      "source": [
        "stf1.head()"
      ],
      "metadata": {
        "colab": {
          "base_uri": "https://localhost:8080/",
          "height": 206
        },
        "id": "XrPkhtVdTFxM",
        "outputId": "481f8a0e-e8bc-4bb3-dc3d-00650749e636"
      },
      "execution_count": 61,
      "outputs": [
        {
          "output_type": "execute_result",
          "data": {
            "text/plain": [
              "        Time_submitted                                             Review  \\\n",
              "0  2022-07-09 15:00:00  great music service audio high quality app eas...   \n",
              "1  2022-07-09 14:21:22  please ignore previous negative rating app sup...   \n",
              "2  2022-07-09 13:27:32  pop get best spotify experience android annoyi...   \n",
              "3  2022-07-09 13:26:45                 really buggy terrible use recently   \n",
              "4  2022-07-09 13:20:49   dear spotify get songs put playlist shuffle play   \n",
              "\n",
              "   Rating  Total_thumbsup Reply  \n",
              "0       1               2   NaN  \n",
              "1       1               1   NaN  \n",
              "2       1               0   NaN  \n",
              "3       0               1   NaN  \n",
              "4       0               1   NaN  "
            ],
            "text/html": [
              "\n",
              "  <div id=\"df-f055158c-6de7-4ea7-a8ca-17588a7bb20a\">\n",
              "    <div class=\"colab-df-container\">\n",
              "      <div>\n",
              "<style scoped>\n",
              "    .dataframe tbody tr th:only-of-type {\n",
              "        vertical-align: middle;\n",
              "    }\n",
              "\n",
              "    .dataframe tbody tr th {\n",
              "        vertical-align: top;\n",
              "    }\n",
              "\n",
              "    .dataframe thead th {\n",
              "        text-align: right;\n",
              "    }\n",
              "</style>\n",
              "<table border=\"1\" class=\"dataframe\">\n",
              "  <thead>\n",
              "    <tr style=\"text-align: right;\">\n",
              "      <th></th>\n",
              "      <th>Time_submitted</th>\n",
              "      <th>Review</th>\n",
              "      <th>Rating</th>\n",
              "      <th>Total_thumbsup</th>\n",
              "      <th>Reply</th>\n",
              "    </tr>\n",
              "  </thead>\n",
              "  <tbody>\n",
              "    <tr>\n",
              "      <th>0</th>\n",
              "      <td>2022-07-09 15:00:00</td>\n",
              "      <td>great music service audio high quality app eas...</td>\n",
              "      <td>1</td>\n",
              "      <td>2</td>\n",
              "      <td>NaN</td>\n",
              "    </tr>\n",
              "    <tr>\n",
              "      <th>1</th>\n",
              "      <td>2022-07-09 14:21:22</td>\n",
              "      <td>please ignore previous negative rating app sup...</td>\n",
              "      <td>1</td>\n",
              "      <td>1</td>\n",
              "      <td>NaN</td>\n",
              "    </tr>\n",
              "    <tr>\n",
              "      <th>2</th>\n",
              "      <td>2022-07-09 13:27:32</td>\n",
              "      <td>pop get best spotify experience android annoyi...</td>\n",
              "      <td>1</td>\n",
              "      <td>0</td>\n",
              "      <td>NaN</td>\n",
              "    </tr>\n",
              "    <tr>\n",
              "      <th>3</th>\n",
              "      <td>2022-07-09 13:26:45</td>\n",
              "      <td>really buggy terrible use recently</td>\n",
              "      <td>0</td>\n",
              "      <td>1</td>\n",
              "      <td>NaN</td>\n",
              "    </tr>\n",
              "    <tr>\n",
              "      <th>4</th>\n",
              "      <td>2022-07-09 13:20:49</td>\n",
              "      <td>dear spotify get songs put playlist shuffle play</td>\n",
              "      <td>0</td>\n",
              "      <td>1</td>\n",
              "      <td>NaN</td>\n",
              "    </tr>\n",
              "  </tbody>\n",
              "</table>\n",
              "</div>\n",
              "      <button class=\"colab-df-convert\" onclick=\"convertToInteractive('df-f055158c-6de7-4ea7-a8ca-17588a7bb20a')\"\n",
              "              title=\"Convert this dataframe to an interactive table.\"\n",
              "              style=\"display:none;\">\n",
              "        \n",
              "  <svg xmlns=\"http://www.w3.org/2000/svg\" height=\"24px\"viewBox=\"0 0 24 24\"\n",
              "       width=\"24px\">\n",
              "    <path d=\"M0 0h24v24H0V0z\" fill=\"none\"/>\n",
              "    <path d=\"M18.56 5.44l.94 2.06.94-2.06 2.06-.94-2.06-.94-.94-2.06-.94 2.06-2.06.94zm-11 1L8.5 8.5l.94-2.06 2.06-.94-2.06-.94L8.5 2.5l-.94 2.06-2.06.94zm10 10l.94 2.06.94-2.06 2.06-.94-2.06-.94-.94-2.06-.94 2.06-2.06.94z\"/><path d=\"M17.41 7.96l-1.37-1.37c-.4-.4-.92-.59-1.43-.59-.52 0-1.04.2-1.43.59L10.3 9.45l-7.72 7.72c-.78.78-.78 2.05 0 2.83L4 21.41c.39.39.9.59 1.41.59.51 0 1.02-.2 1.41-.59l7.78-7.78 2.81-2.81c.8-.78.8-2.07 0-2.86zM5.41 20L4 18.59l7.72-7.72 1.47 1.35L5.41 20z\"/>\n",
              "  </svg>\n",
              "      </button>\n",
              "      \n",
              "  <style>\n",
              "    .colab-df-container {\n",
              "      display:flex;\n",
              "      flex-wrap:wrap;\n",
              "      gap: 12px;\n",
              "    }\n",
              "\n",
              "    .colab-df-convert {\n",
              "      background-color: #E8F0FE;\n",
              "      border: none;\n",
              "      border-radius: 50%;\n",
              "      cursor: pointer;\n",
              "      display: none;\n",
              "      fill: #1967D2;\n",
              "      height: 32px;\n",
              "      padding: 0 0 0 0;\n",
              "      width: 32px;\n",
              "    }\n",
              "\n",
              "    .colab-df-convert:hover {\n",
              "      background-color: #E2EBFA;\n",
              "      box-shadow: 0px 1px 2px rgba(60, 64, 67, 0.3), 0px 1px 3px 1px rgba(60, 64, 67, 0.15);\n",
              "      fill: #174EA6;\n",
              "    }\n",
              "\n",
              "    [theme=dark] .colab-df-convert {\n",
              "      background-color: #3B4455;\n",
              "      fill: #D2E3FC;\n",
              "    }\n",
              "\n",
              "    [theme=dark] .colab-df-convert:hover {\n",
              "      background-color: #434B5C;\n",
              "      box-shadow: 0px 1px 3px 1px rgba(0, 0, 0, 0.15);\n",
              "      filter: drop-shadow(0px 1px 2px rgba(0, 0, 0, 0.3));\n",
              "      fill: #FFFFFF;\n",
              "    }\n",
              "  </style>\n",
              "\n",
              "      <script>\n",
              "        const buttonEl =\n",
              "          document.querySelector('#df-f055158c-6de7-4ea7-a8ca-17588a7bb20a button.colab-df-convert');\n",
              "        buttonEl.style.display =\n",
              "          google.colab.kernel.accessAllowed ? 'block' : 'none';\n",
              "\n",
              "        async function convertToInteractive(key) {\n",
              "          const element = document.querySelector('#df-f055158c-6de7-4ea7-a8ca-17588a7bb20a');\n",
              "          const dataTable =\n",
              "            await google.colab.kernel.invokeFunction('convertToInteractive',\n",
              "                                                     [key], {});\n",
              "          if (!dataTable) return;\n",
              "\n",
              "          const docLinkHtml = 'Like what you see? Visit the ' +\n",
              "            '<a target=\"_blank\" href=https://colab.research.google.com/notebooks/data_table.ipynb>data table notebook</a>'\n",
              "            + ' to learn more about interactive tables.';\n",
              "          element.innerHTML = '';\n",
              "          dataTable['output_type'] = 'display_data';\n",
              "          await google.colab.output.renderOutput(dataTable, element);\n",
              "          const docLink = document.createElement('div');\n",
              "          docLink.innerHTML = docLinkHtml;\n",
              "          element.appendChild(docLink);\n",
              "        }\n",
              "      </script>\n",
              "    </div>\n",
              "  </div>\n",
              "  "
            ]
          },
          "metadata": {},
          "execution_count": 61
        }
      ]
    },
    {
      "cell_type": "code",
      "source": [],
      "metadata": {
        "id": "c8hU9h6mTHJO"
      },
      "execution_count": 7,
      "outputs": []
    },
    {
      "cell_type": "markdown",
      "metadata": {
        "id": "o3KewE3erK1z"
      },
      "source": [
        "## Setup"
      ]
    },
    {
      "cell_type": "code",
      "execution_count": 8,
      "metadata": {
        "id": "z_Wk-hjlrK10"
      },
      "outputs": [],
      "source": [
        "import tensorflow as tf\n",
        "from tensorflow import keras\n",
        "from tensorflow.keras import layers"
      ]
    },
    {
      "cell_type": "markdown",
      "metadata": {
        "id": "f6frT-esrK11"
      },
      "source": [
        "## Transformer block as a layer"
      ]
    },
    {
      "cell_type": "code",
      "execution_count": 9,
      "metadata": {
        "id": "oW3bohQsrK11"
      },
      "outputs": [],
      "source": [
        "class TransformerBlock(layers.Layer):\n",
        "    def __init__(self, embed_dim, num_heads, ff_dim, rate=0.1):\n",
        "        super().__init__()\n",
        "        self.att = layers.MultiHeadAttention(num_heads=num_heads, key_dim=embed_dim)\n",
        "        self.ffn = keras.Sequential(\n",
        "            [layers.Dense(ff_dim, activation=\"relu\"), layers.Dense(embed_dim),]\n",
        "        )\n",
        "        self.layernorm1 = layers.LayerNormalization(epsilon=1e-6)\n",
        "        self.layernorm2 = layers.LayerNormalization(epsilon=1e-6)\n",
        "        self.dropout1 = layers.Dropout(rate)\n",
        "        self.dropout2 = layers.Dropout(rate)\n",
        "\n",
        "    def call(self, inputs, training):\n",
        "        attn_output = self.att(inputs, inputs)\n",
        "        attn_output = self.dropout1(attn_output, training=training)\n",
        "        out1 = self.layernorm1(inputs + attn_output)\n",
        "        ffn_output = self.ffn(out1)\n",
        "        ffn_output = self.dropout2(ffn_output, training=training)\n",
        "        return self.layernorm2(out1 + ffn_output)"
      ]
    },
    {
      "cell_type": "markdown",
      "metadata": {
        "id": "kavAboswrK12"
      },
      "source": [
        "## Embedding layer\n",
        "\n",
        "Two seperate embedding layers, one for tokens, one for token index (positions)."
      ]
    },
    {
      "cell_type": "code",
      "execution_count": 10,
      "metadata": {
        "id": "XDHsTnavrK12"
      },
      "outputs": [],
      "source": [
        "class TokenAndPositionEmbedding(layers.Layer):\n",
        "    def __init__(self, maxlen, vocab_size, embed_dim):\n",
        "        super().__init__()\n",
        "        self.token_emb = layers.Embedding(input_dim=vocab_size, output_dim=embed_dim)\n",
        "        self.pos_emb = layers.Embedding(input_dim=maxlen, output_dim=embed_dim)\n",
        "\n",
        "    def call(self, x):\n",
        "        maxlen = tf.shape(x)[-1]\n",
        "        positions = tf.range(start=0, limit=maxlen, delta=1)\n",
        "        positions = self.pos_emb(positions)\n",
        "        x = self.token_emb(x)\n",
        "        return x + positions"
      ]
    },
    {
      "cell_type": "markdown",
      "metadata": {
        "id": "mvaQ9C9krK13"
      },
      "source": [
        "## Prepare dataset"
      ]
    },
    {
      "cell_type": "code",
      "source": [
        "from sklearn.model_selection import train_test_split\n",
        "from tensorflow.keras.preprocessing.text import Tokenizer\n",
        "from tensorflow.keras.preprocessing.sequence import pad_sequences\n",
        "\n",
        "x_train, x_test, y_train, y_test = train_test_split(stf1['Review'], stf1['Rating'], test_size=0.2, random_state=42)\n",
        "print(x_train[0])\n",
        "\n",
        "# Tokenize data\n",
        "tokenizer = Tokenizer()\n",
        "tokenizer.fit_on_texts(x_train)\n",
        "print(x_train[0:1])\n",
        "x_train = tokenizer.texts_to_sequences(x_train)\n",
        "x_test = tokenizer.texts_to_sequences(x_test)\n",
        "print(x_train[0])\n",
        "\n",
        "# Pad the sequences to make all inputs the same length\n",
        "max_length = max([len(s) for s in x_train])\n",
        "print(max_length)\n",
        "\n",
        "x_train = pad_sequences(x_train, maxlen=max_length, padding='post')\n",
        "x_test = pad_sequences(x_test, maxlen=max_length, padding='post')\n",
        "\n",
        "x_val, y_val = x_train[:10000], y_train[:10000]\n",
        "x_train_, y_train_ = x_train[10000:], y_train[10000:]"
      ],
      "metadata": {
        "colab": {
          "base_uri": "https://localhost:8080/"
        },
        "id": "6RMXgUz0cUft",
        "outputId": "5a85a21c-10f4-4cf7-d5f0-efa965085f16"
      },
      "execution_count": 62,
      "outputs": [
        {
          "output_type": "stream",
          "name": "stdout",
          "text": [
            "great music service audio high quality app easy use also quick friendly support\n",
            "3305    man spotify great know put covid warning appro...\n",
            "Name: Review, dtype: object\n",
            "[816, 3, 13, 71, 162, 1062, 1418, 2717, 516, 317, 285, 61]\n",
            "311\n"
          ]
        }
      ]
    },
    {
      "cell_type": "code",
      "execution_count": 63,
      "metadata": {
        "id": "aBXYKU0OrK13",
        "colab": {
          "base_uri": "https://localhost:8080/"
        },
        "outputId": "5a8bf4c8-9749-41c6-c9fe-1fdb0f25bee9"
      },
      "outputs": [
        {
          "output_type": "stream",
          "name": "stdout",
          "text": [
            "49275 Training sequences\n",
            "10000 Validation sequences\n"
          ]
        }
      ],
      "source": [
        "vocab_size = 20000  # Only consider the top 20k words\n",
        "maxlen = max_length  # Only consider the first 200 words of each movie review\n",
        "print(len(x_train), \"Training sequences\")\n",
        "print(len(x_val), \"Validation sequences\")"
      ]
    },
    {
      "cell_type": "markdown",
      "metadata": {
        "id": "sUAXZal1rK14"
      },
      "source": [
        "## Create model "
      ]
    },
    {
      "cell_type": "code",
      "execution_count": 32,
      "metadata": {
        "id": "fJStiJZQrK14"
      },
      "outputs": [],
      "source": [
        "embed_dim = 32  # Embedding size for each token\n",
        "num_heads = 2  # Number of attention heads\n",
        "ff_dim = 32  # Hidden layer size in feed forward network inside transformer\n",
        "\n",
        "inputs = layers.Input(shape=(maxlen,))\n",
        "embedding_layer = TokenAndPositionEmbedding(maxlen, vocab_size, embed_dim)\n",
        "x = embedding_layer(inputs)\n",
        "transformer_block = TransformerBlock(embed_dim, num_heads, ff_dim)\n",
        "x = transformer_block(x)\n",
        "x = layers.GlobalAveragePooling1D()(x)\n",
        "x = layers.Dropout(0.1)(x)\n",
        "x = layers.Dense(20, activation=\"relu\")(x)\n",
        "x = layers.Dropout(0.1)(x)\n",
        "outputs = layers.Dense(2, activation=\"softmax\")(x)\n",
        "\n",
        "model = keras.Model(inputs=inputs, outputs=outputs)"
      ]
    },
    {
      "cell_type": "code",
      "source": [
        "print(x_train[0])"
      ],
      "metadata": {
        "colab": {
          "base_uri": "https://localhost:8080/"
        },
        "id": "9CfDGmvXekDf",
        "outputId": "85c8f15a-8d7d-4697-d218-daf84dbe9e9f"
      },
      "execution_count": 29,
      "outputs": [
        {
          "output_type": "stream",
          "name": "stdout",
          "text": [
            "[ 816    3   13   71  162 1062 1418 2717  516  317  285   61    0    0\n",
            "    0    0    0    0    0    0    0    0    0    0    0    0    0    0\n",
            "    0    0    0    0    0    0    0    0    0    0    0    0    0    0\n",
            "    0    0    0    0    0    0    0    0    0    0    0    0    0    0\n",
            "    0    0    0    0    0    0    0    0    0    0    0    0    0    0\n",
            "    0    0    0    0    0    0    0    0    0    0    0    0    0    0\n",
            "    0    0    0    0    0    0    0    0    0    0    0    0    0    0\n",
            "    0    0    0    0    0    0    0    0    0    0    0    0    0    0\n",
            "    0    0    0    0    0    0    0    0    0    0    0    0    0    0\n",
            "    0    0    0    0    0    0    0    0    0    0    0    0    0    0\n",
            "    0    0    0    0    0    0    0    0    0    0    0    0    0    0\n",
            "    0    0    0    0    0    0    0    0    0    0    0    0    0    0\n",
            "    0    0    0    0    0    0    0    0    0    0    0    0    0    0\n",
            "    0    0    0    0    0    0    0    0    0    0    0    0    0    0\n",
            "    0    0    0    0    0    0    0    0    0    0    0    0    0    0\n",
            "    0    0    0    0    0    0    0    0    0    0    0    0    0    0\n",
            "    0    0    0    0    0    0    0    0    0    0    0    0    0    0\n",
            "    0    0    0    0    0    0    0    0    0    0    0    0    0    0\n",
            "    0    0    0    0    0    0    0    0    0    0    0    0    0    0\n",
            "    0    0    0    0    0    0    0    0    0    0    0    0    0    0\n",
            "    0    0    0    0    0    0    0    0    0    0    0    0    0    0\n",
            "    0    0    0    0    0    0    0    0    0    0    0    0    0    0\n",
            "    0    0    0]\n"
          ]
        }
      ]
    },
    {
      "cell_type": "markdown",
      "metadata": {
        "id": "iu9lqDkwrK14"
      },
      "source": [
        "## Train and Evaluate"
      ]
    },
    {
      "cell_type": "code",
      "execution_count": 35,
      "metadata": {
        "id": "e7UOt8VNrK15",
        "colab": {
          "base_uri": "https://localhost:8080/"
        },
        "outputId": "893fccf7-c7a4-4f2b-9037-a7170087b03a"
      },
      "outputs": [
        {
          "output_type": "stream",
          "name": "stdout",
          "text": [
            "Epoch 1/20\n",
            "1540/1540 [==============================] - 43s 25ms/step - loss: 0.2692 - accuracy: 0.8812 - val_loss: 0.2483 - val_accuracy: 0.8992\n",
            "Epoch 2/20\n",
            "1540/1540 [==============================] - 21s 13ms/step - loss: 0.2541 - accuracy: 0.8875 - val_loss: 0.2137 - val_accuracy: 0.9071\n",
            "Epoch 3/20\n",
            "1540/1540 [==============================] - 21s 14ms/step - loss: 0.2371 - accuracy: 0.8944 - val_loss: 0.2053 - val_accuracy: 0.9081\n",
            "Epoch 4/20\n",
            "1540/1540 [==============================] - 20s 13ms/step - loss: 0.2252 - accuracy: 0.8992 - val_loss: 0.1904 - val_accuracy: 0.9156\n",
            "Epoch 5/20\n",
            "1540/1540 [==============================] - 19s 12ms/step - loss: 0.2140 - accuracy: 0.9027 - val_loss: 0.1923 - val_accuracy: 0.9143\n",
            "Epoch 6/20\n",
            "1540/1540 [==============================] - 20s 13ms/step - loss: 0.2046 - accuracy: 0.9061 - val_loss: 0.1800 - val_accuracy: 0.9177\n",
            "Epoch 7/20\n",
            "1540/1540 [==============================] - 20s 13ms/step - loss: 0.1971 - accuracy: 0.9080 - val_loss: 0.1760 - val_accuracy: 0.9169\n",
            "Epoch 8/20\n",
            "1540/1540 [==============================] - 19s 12ms/step - loss: 0.1912 - accuracy: 0.9098 - val_loss: 0.1683 - val_accuracy: 0.9218\n",
            "Epoch 9/20\n",
            "1540/1540 [==============================] - 19s 12ms/step - loss: 0.1835 - accuracy: 0.9126 - val_loss: 0.1634 - val_accuracy: 0.9250\n",
            "Epoch 10/20\n",
            "1540/1540 [==============================] - 19s 12ms/step - loss: 0.1798 - accuracy: 0.9139 - val_loss: 0.1611 - val_accuracy: 0.9239\n",
            "Epoch 11/20\n",
            "1540/1540 [==============================] - 18s 12ms/step - loss: 0.1728 - accuracy: 0.9159 - val_loss: 0.1600 - val_accuracy: 0.9233\n",
            "Epoch 12/20\n",
            "1540/1540 [==============================] - 19s 13ms/step - loss: 0.1664 - accuracy: 0.9189 - val_loss: 0.1439 - val_accuracy: 0.9318\n",
            "Epoch 13/20\n",
            "1540/1540 [==============================] - 21s 14ms/step - loss: 0.1623 - accuracy: 0.9220 - val_loss: 0.1413 - val_accuracy: 0.9324\n",
            "Epoch 14/20\n",
            "1540/1540 [==============================] - 18s 12ms/step - loss: 0.1580 - accuracy: 0.9236 - val_loss: 0.1321 - val_accuracy: 0.9380\n",
            "Epoch 15/20\n",
            "1540/1540 [==============================] - 18s 12ms/step - loss: 0.1515 - accuracy: 0.9279 - val_loss: 0.1318 - val_accuracy: 0.9395\n",
            "Epoch 16/20\n",
            "1540/1540 [==============================] - 19s 12ms/step - loss: 0.1476 - accuracy: 0.9308 - val_loss: 0.1234 - val_accuracy: 0.9431\n",
            "Epoch 17/20\n",
            "1540/1540 [==============================] - 20s 13ms/step - loss: 0.1431 - accuracy: 0.9332 - val_loss: 0.1264 - val_accuracy: 0.9431\n",
            "Epoch 18/20\n",
            "1540/1540 [==============================] - 18s 12ms/step - loss: 0.1402 - accuracy: 0.9356 - val_loss: 0.1258 - val_accuracy: 0.9427\n",
            "Epoch 19/20\n",
            "1540/1540 [==============================] - 18s 12ms/step - loss: 0.1368 - accuracy: 0.9369 - val_loss: 0.1165 - val_accuracy: 0.9476\n",
            "Epoch 20/20\n",
            "1540/1540 [==============================] - 19s 12ms/step - loss: 0.1330 - accuracy: 0.9388 - val_loss: 0.1182 - val_accuracy: 0.9458\n"
          ]
        }
      ],
      "source": [
        "model.compile(\n",
        "    optimizer=\"adam\", loss=\"sparse_categorical_crossentropy\", metrics=[\"accuracy\"]\n",
        ")\n",
        "history = model.fit(\n",
        "    x_train, y_train, batch_size=32, epochs=20, verbose=1, validation_data=(x_val, y_val)\n",
        ")"
      ]
    },
    {
      "cell_type": "code",
      "source": [
        "def plot_training_hist(history):\n",
        "    '''Function to plot history for accuracy and loss'''\n",
        "    \n",
        "    fig, ax = plt.subplots(1, 2, figsize=(15,4))\n",
        "    \n",
        "    ax[0].plot(history.history['accuracy'])\n",
        "    ax[0].plot(history.history['val_accuracy'])\n",
        "    ax[0].set_title('Model Accuracy')\n",
        "    ax[0].set_xlabel('epoch')\n",
        "    ax[0].set_ylabel('accuracy')\n",
        "    ax[0].legend(['train', 'validation'], loc='best')\n",
        " \n",
        "    ax[1].plot(history.history['loss'])\n",
        "    ax[1].plot(history.history['val_loss'])\n",
        "    ax[1].set_title('Model Loss')\n",
        "    ax[1].set_xlabel('epoch')\n",
        "    ax[1].set_ylabel('loss')\n",
        "    ax[1].legend(['train', 'validation'], loc='best')\n",
        "\n",
        "\n",
        "plot_training_hist(history)"
      ],
      "metadata": {
        "colab": {
          "base_uri": "https://localhost:8080/",
          "height": 295
        },
        "id": "2VK8yvFAd4fh",
        "outputId": "2a5abac3-568b-48e7-dcf6-5acdec02fd3d"
      },
      "execution_count": 36,
      "outputs": [
        {
          "output_type": "display_data",
          "data": {
            "text/plain": [
              "<Figure size 1080x288 with 2 Axes>"
            ],
            "image/png": "[encoded data removed]"
          },
          "metadata": {
            "needs_background": "light"
          }
        }
      ]
    },
    {
      "cell_type": "code",
      "source": [
        "print(model.summary())"
      ],
      "metadata": {
        "colab": {
          "base_uri": "https://localhost:8080/"
        },
        "id": "yrtB8D3Sh9H9",
        "outputId": "fe6099cc-21d5-4dd6-aeee-babe71eb0b90"
      },
      "execution_count": 37,
      "outputs": [
        {
          "output_type": "stream",
          "name": "stdout",
          "text": [
            "Model: \"model_2\"\n",
            "_________________________________________________________________\n",
            " Layer (type)                Output Shape              Param #   \n",
            "=================================================================\n",
            " input_3 (InputLayer)        [(None, 311)]             0         \n",
            "                                                                 \n",
            " token_and_position_embeddin  (None, 311, 32)          649952    \n",
            " g_2 (TokenAndPositionEmbedd                                     \n",
            " ing)                                                            \n",
            "                                                                 \n",
            " transformer_block_2 (Transf  (None, 311, 32)          10656     \n",
            " ormerBlock)                                                     \n",
            "                                                                 \n",
            " global_average_pooling1d_2   (None, 32)               0         \n",
            " (GlobalAveragePooling1D)                                        \n",
            "                                                                 \n",
            " dropout_10 (Dropout)        (None, 32)                0         \n",
            "                                                                 \n",
            " dense_10 (Dense)            (None, 20)                660       \n",
            "                                                                 \n",
            " dropout_11 (Dropout)        (None, 20)                0         \n",
            "                                                                 \n",
            " dense_11 (Dense)            (None, 2)                 42        \n",
            "                                                                 \n",
            "=================================================================\n",
            "Total params: 661,310\n",
            "Trainable params: 661,310\n",
            "Non-trainable params: 0\n",
            "_________________________________________________________________\n",
            "None\n"
          ]
        }
      ]
    },
    {
      "cell_type": "code",
      "source": [
        "model.compile(\n",
        "    optimizer=\"adam\", loss=\"sparse_categorical_crossentropy\", metrics=[\"accuracy\"]\n",
        ")\n",
        "history = model.fit(\n",
        "    x_train, y_train, batch_size=64, epochs=30, verbose=1, validation_data=(x_val, y_val)\n",
        ")\n",
        "\n",
        "plot_training_hist(history)"
      ],
      "metadata": {
        "colab": {
          "base_uri": "https://localhost:8080/",
          "height": 1000
        },
        "id": "BaH3clFOg5GG",
        "outputId": "9f42c246-f3b2-4f0f-be4d-785f4e1a933e"
      },
      "execution_count": 38,
      "outputs": [
        {
          "output_type": "stream",
          "name": "stdout",
          "text": [
            "Epoch 1/30\n",
            "770/770 [==============================] - 45s 54ms/step - loss: 0.1248 - accuracy: 0.9439 - val_loss: 0.1086 - val_accuracy: 0.9535\n",
            "Epoch 2/30\n",
            "770/770 [==============================] - 15s 20ms/step - loss: 0.1184 - accuracy: 0.9458 - val_loss: 0.1043 - val_accuracy: 0.9555\n",
            "Epoch 3/30\n",
            "770/770 [==============================] - 14s 18ms/step - loss: 0.1160 - accuracy: 0.9465 - val_loss: 0.1060 - val_accuracy: 0.9526\n",
            "Epoch 4/30\n",
            "770/770 [==============================] - 14s 18ms/step - loss: 0.1145 - accuracy: 0.9485 - val_loss: 0.0998 - val_accuracy: 0.9577\n",
            "Epoch 5/30\n",
            "770/770 [==============================] - 14s 18ms/step - loss: 0.1109 - accuracy: 0.9498 - val_loss: 0.0993 - val_accuracy: 0.9572\n",
            "Epoch 6/30\n",
            "770/770 [==============================] - 13s 17ms/step - loss: 0.1083 - accuracy: 0.9508 - val_loss: 0.0983 - val_accuracy: 0.9566\n",
            "Epoch 7/30\n",
            "770/770 [==============================] - 14s 18ms/step - loss: 0.1063 - accuracy: 0.9529 - val_loss: 0.0922 - val_accuracy: 0.9598\n",
            "Epoch 8/30\n",
            "770/770 [==============================] - 13s 17ms/step - loss: 0.1039 - accuracy: 0.9539 - val_loss: 0.0892 - val_accuracy: 0.9607\n",
            "Epoch 9/30\n",
            "770/770 [==============================] - 13s 17ms/step - loss: 0.1014 - accuracy: 0.9548 - val_loss: 0.0914 - val_accuracy: 0.9597\n",
            "Epoch 10/30\n",
            "770/770 [==============================] - 13s 17ms/step - loss: 0.1030 - accuracy: 0.9536 - val_loss: 0.0871 - val_accuracy: 0.9631\n",
            "Epoch 11/30\n",
            "770/770 [==============================] - 13s 17ms/step - loss: 0.0989 - accuracy: 0.9559 - val_loss: 0.0922 - val_accuracy: 0.9631\n",
            "Epoch 12/30\n",
            "770/770 [==============================] - 13s 17ms/step - loss: 0.0978 - accuracy: 0.9561 - val_loss: 0.0877 - val_accuracy: 0.9634\n",
            "Epoch 13/30\n",
            "770/770 [==============================] - 13s 16ms/step - loss: 0.0954 - accuracy: 0.9577 - val_loss: 0.0827 - val_accuracy: 0.9650\n",
            "Epoch 14/30\n",
            "770/770 [==============================] - 13s 17ms/step - loss: 0.0940 - accuracy: 0.9590 - val_loss: 0.0807 - val_accuracy: 0.9660\n",
            "Epoch 15/30\n",
            "770/770 [==============================] - 13s 17ms/step - loss: 0.0956 - accuracy: 0.9584 - val_loss: 0.0802 - val_accuracy: 0.9655\n",
            "Epoch 16/30\n",
            "770/770 [==============================] - 13s 17ms/step - loss: 0.0911 - accuracy: 0.9596 - val_loss: 0.0772 - val_accuracy: 0.9666\n",
            "Epoch 17/30\n",
            "770/770 [==============================] - 13s 16ms/step - loss: 0.0900 - accuracy: 0.9608 - val_loss: 0.0758 - val_accuracy: 0.9680\n",
            "Epoch 18/30\n",
            "770/770 [==============================] - 12s 16ms/step - loss: 0.0886 - accuracy: 0.9611 - val_loss: 0.0731 - val_accuracy: 0.9699\n",
            "Epoch 19/30\n",
            "770/770 [==============================] - 13s 16ms/step - loss: 0.0866 - accuracy: 0.9616 - val_loss: 0.0701 - val_accuracy: 0.9707\n",
            "Epoch 20/30\n",
            "770/770 [==============================] - 13s 17ms/step - loss: 0.0845 - accuracy: 0.9634 - val_loss: 0.0744 - val_accuracy: 0.9697\n",
            "Epoch 21/30\n",
            "770/770 [==============================] - 13s 17ms/step - loss: 0.0836 - accuracy: 0.9632 - val_loss: 0.0688 - val_accuracy: 0.9712\n",
            "Epoch 22/30\n",
            "770/770 [==============================] - 13s 17ms/step - loss: 0.0822 - accuracy: 0.9642 - val_loss: 0.0686 - val_accuracy: 0.9707\n",
            "Epoch 23/30\n",
            "770/770 [==============================] - 13s 17ms/step - loss: 0.0807 - accuracy: 0.9645 - val_loss: 0.0662 - val_accuracy: 0.9717\n",
            "Epoch 24/30\n",
            "770/770 [==============================] - 13s 17ms/step - loss: 0.0800 - accuracy: 0.9651 - val_loss: 0.0658 - val_accuracy: 0.9723\n",
            "Epoch 25/30\n",
            "770/770 [==============================] - 13s 17ms/step - loss: 0.0802 - accuracy: 0.9660 - val_loss: 0.0646 - val_accuracy: 0.9725\n",
            "Epoch 26/30\n",
            "770/770 [==============================] - 13s 16ms/step - loss: 0.0746 - accuracy: 0.9674 - val_loss: 0.0661 - val_accuracy: 0.9732\n",
            "Epoch 27/30\n",
            "770/770 [==============================] - 13s 17ms/step - loss: 0.0761 - accuracy: 0.9674 - val_loss: 0.0628 - val_accuracy: 0.9744\n",
            "Epoch 28/30\n",
            "770/770 [==============================] - 13s 16ms/step - loss: 0.0755 - accuracy: 0.9679 - val_loss: 0.0623 - val_accuracy: 0.9734\n",
            "Epoch 29/30\n",
            "770/770 [==============================] - 13s 17ms/step - loss: 0.0726 - accuracy: 0.9693 - val_loss: 0.0610 - val_accuracy: 0.9749\n",
            "Epoch 30/30\n",
            "770/770 [==============================] - 13s 17ms/step - loss: 0.0712 - accuracy: 0.9699 - val_loss: 0.0662 - val_accuracy: 0.9734\n"
          ]
        },
        {
          "output_type": "display_data",
          "data": {
            "text/plain": [
              "<Figure size 1080x288 with 2 Axes>"
            ],
            "image/png": "[encoded data removed]"
          },
          "metadata": {
            "needs_background": "light"
          }
        }
      ]
    },
    {
      "cell_type": "code",
      "source": [
        "print(\"Transformer Score---> \", model.evaluate(x_test, y_test, verbose=0))"
      ],
      "metadata": {
        "colab": {
          "base_uri": "https://localhost:8080/"
        },
        "id": "29PIzYaqizEn",
        "outputId": "d021d88d-163a-43f3-9c41-4cda11bacdda"
      },
      "execution_count": 42,
      "outputs": [
        {
          "output_type": "stream",
          "name": "stdout",
          "text": [
            "Transformer Score--->  [1.8238563537597656, 0.7762805223464966]\n"
          ]
        }
      ]
    }
  ],
  "metadata": {
    "accelerator": "GPU",
    "colab": {
      "provenance": [],
      "toc_visible": true
    },
    "kernelspec": {
      "display_name": "Python 3",
      "language": "python",
      "name": "python3"
    },
    "language_info": {
      "codemirror_mode": {
        "name": "ipython",
        "version": 3
      },
      "file_extension": ".py",
      "mimetype": "text/x-python",
      "name": "python",
      "nbconvert_exporter": "python",
      "pygments_lexer": "ipython3",
      "version": "3.8.11"
    },
    "gpuClass": "standard"
  },
  "nbformat": 4,
  "nbformat_minor": 0
}