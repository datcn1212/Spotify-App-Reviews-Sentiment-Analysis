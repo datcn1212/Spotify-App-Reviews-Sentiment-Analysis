{
  "cells": [
    {
      "cell_type": "markdown",
      "id": "92d18a89",
      "metadata": {
        "id": "92d18a89"
      },
      "source": [
        "## Spotify App Reviews Sentiment Analysis"
      ]
    },
    {
      "cell_type": "code",
      "execution_count": 1,
      "id": "0c17717e",
      "metadata": {
        "id": "0c17717e"
      },
      "outputs": [],
      "source": [
        "import numpy as np\n",
        "import pandas as pd\n",
        "import matplotlib.pyplot as plt\n",
        "import seaborn as sns\n",
        "from wordcloud import WordCloud"
      ]
    },
    {
      "cell_type": "code",
      "execution_count": 2,
      "id": "8b75b9e8",
      "metadata": {
        "colab": {
          "base_uri": "https://localhost:8080/",
          "height": 566
        },
        "id": "8b75b9e8",
        "outputId": "3af44138-8f88-46b5-e784-1d151b9d9ae2"
      },
      "outputs": [
        {
          "output_type": "display_data",
          "data": {
            "text/plain": [
              "<IPython.core.display.HTML object>"
            ],
            "text/html": [
              "\n",
              "     <input type=\"file\" id=\"files-985ea23b-a903-4e87-b4e8-ee908897543b\" name=\"files[]\" multiple disabled\n",
              "        style=\"border:none\" />\n",
              "     <output id=\"result-985ea23b-a903-4e87-b4e8-ee908897543b\">\n",
              "      Upload widget is only available when the cell has been executed in the\n",
              "      current browser session. Please rerun this cell to enable.\n",
              "      </output>\n",
              "      <script>// Copyright 2017 Google LLC\n",
              "//\n",
              "// Licensed under the Apache License, Version 2.0 (the \"License\");\n",
              "// you may not use this file except in compliance with the License.\n",
              "// You may obtain a copy of the License at\n",
              "//\n",
              "//      http://www.apache.org/licenses/LICENSE-2.0\n",
              "//\n",
              "// Unless required by applicable law or agreed to in writing, software\n",
              "// distributed under the License is distributed on an \"AS IS\" BASIS,\n",
              "// WITHOUT WARRANTIES OR CONDITIONS OF ANY KIND, either express or implied.\n",
              "// See the License for the specific language governing permissions and\n",
              "// limitations under the License.\n",
              "\n",
              "/**\n",
              " * @fileoverview Helpers for google.colab Python module.\n",
              " */\n",
              "(function(scope) {\n",
              "function span(text, styleAttributes = {}) {\n",
              "  const element = document.createElement('span');\n",
              "  element.textContent = text;\n",
              "  for (const key of Object.keys(styleAttributes)) {\n",
              "    element.style[key] = styleAttributes[key];\n",
              "  }\n",
              "  return element;\n",
              "}\n",
              "\n",
              "// Max number of bytes which will be uploaded at a time.\n",
              "const MAX_PAYLOAD_SIZE = 100 * 1024;\n",
              "\n",
              "function _uploadFiles(inputId, outputId) {\n",
              "  const steps = uploadFilesStep(inputId, outputId);\n",
              "  const outputElement = document.getElementById(outputId);\n",
              "  // Cache steps on the outputElement to make it available for the next call\n",
              "  // to uploadFilesContinue from Python.\n",
              "  outputElement.steps = steps;\n",
              "\n",
              "  return _uploadFilesContinue(outputId);\n",
              "}\n",
              "\n",
              "// This is roughly an async generator (not supported in the browser yet),\n",
              "// where there are multiple asynchronous steps and the Python side is going\n",
              "// to poll for completion of each step.\n",
              "// This uses a Promise to block the python side on completion of each step,\n",
              "// then passes the result of the previous step as the input to the next step.\n",
              "function _uploadFilesContinue(outputId) {\n",
              "  const outputElement = document.getElementById(outputId);\n",
              "  const steps = outputElement.steps;\n",
              "\n",
              "  const next = steps.next(outputElement.lastPromiseValue);\n",
              "  return Promise.resolve(next.value.promise).then((value) => {\n",
              "    // Cache the last promise value to make it available to the next\n",
              "    // step of the generator.\n",
              "    outputElement.lastPromiseValue = value;\n",
              "    return next.value.response;\n",
              "  });\n",
              "}\n",
              "\n",
              "/**\n",
              " * Generator function which is called between each async step of the upload\n",
              " * process.\n",
              " * @param {string} inputId Element ID of the input file picker element.\n",
              " * @param {string} outputId Element ID of the output display.\n",
              " * @return {!Iterable<!Object>} Iterable of next steps.\n",
              " */\n",
              "function* uploadFilesStep(inputId, outputId) {\n",
              "  const inputElement = document.getElementById(inputId);\n",
              "  inputElement.disabled = false;\n",
              "\n",
              "  const outputElement = document.getElementById(outputId);\n",
              "  outputElement.innerHTML = '';\n",
              "\n",
              "  const pickedPromise = new Promise((resolve) => {\n",
              "    inputElement.addEventListener('change', (e) => {\n",
              "      resolve(e.target.files);\n",
              "    });\n",
              "  });\n",
              "\n",
              "  const cancel = document.createElement('button');\n",
              "  inputElement.parentElement.appendChild(cancel);\n",
              "  cancel.textContent = 'Cancel upload';\n",
              "  const cancelPromise = new Promise((resolve) => {\n",
              "    cancel.onclick = () => {\n",
              "      resolve(null);\n",
              "    };\n",
              "  });\n",
              "\n",
              "  // Wait for the user to pick the files.\n",
              "  const files = yield {\n",
              "    promise: Promise.race([pickedPromise, cancelPromise]),\n",
              "    response: {\n",
              "      action: 'starting',\n",
              "    }\n",
              "  };\n",
              "\n",
              "  cancel.remove();\n",
              "\n",
              "  // Disable the input element since further picks are not allowed.\n",
              "  inputElement.disabled = true;\n",
              "\n",
              "  if (!files) {\n",
              "    return {\n",
              "      response: {\n",
              "        action: 'complete',\n",
              "      }\n",
              "    };\n",
              "  }\n",
              "\n",
              "  for (const file of files) {\n",
              "    const li = document.createElement('li');\n",
              "    li.append(span(file.name, {fontWeight: 'bold'}));\n",
              "    li.append(span(\n",
              "        `(${file.type || 'n/a'}) - ${file.size} bytes, ` +\n",
              "        `last modified: ${\n",
              "            file.lastModifiedDate ? file.lastModifiedDate.toLocaleDateString() :\n",
              "                                    'n/a'} - `));\n",
              "    const percent = span('0% done');\n",
              "    li.appendChild(percent);\n",
              "\n",
              "    outputElement.appendChild(li);\n",
              "\n",
              "    const fileDataPromise = new Promise((resolve) => {\n",
              "      const reader = new FileReader();\n",
              "      reader.onload = (e) => {\n",
              "        resolve(e.target.result);\n",
              "      };\n",
              "      reader.readAsArrayBuffer(file);\n",
              "    });\n",
              "    // Wait for the data to be ready.\n",
              "    let fileData = yield {\n",
              "      promise: fileDataPromise,\n",
              "      response: {\n",
              "        action: 'continue',\n",
              "      }\n",
              "    };\n",
              "\n",
              "    // Use a chunked sending to avoid message size limits. See b/62115660.\n",
              "    let position = 0;\n",
              "    do {\n",
              "      const length = Math.min(fileData.byteLength - position, MAX_PAYLOAD_SIZE);\n",
              "      const chunk = new Uint8Array(fileData, position, length);\n",
              "      position += length;\n",
              "\n",
              "      const base64 = btoa(String.fromCharCode.apply(null, chunk));\n",
              "      yield {\n",
              "        response: {\n",
              "          action: 'append',\n",
              "          file: file.name,\n",
              "          data: base64,\n",
              "        },\n",
              "      };\n",
              "\n",
              "      let percentDone = fileData.byteLength === 0 ?\n",
              "          100 :\n",
              "          Math.round((position / fileData.byteLength) * 100);\n",
              "      percent.textContent = `${percentDone}% done`;\n",
              "\n",
              "    } while (position < fileData.byteLength);\n",
              "  }\n",
              "\n",
              "  // All done.\n",
              "  yield {\n",
              "    response: {\n",
              "      action: 'complete',\n",
              "    }\n",
              "  };\n",
              "}\n",
              "\n",
              "scope.google = scope.google || {};\n",
              "scope.google.colab = scope.google.colab || {};\n",
              "scope.google.colab._files = {\n",
              "  _uploadFiles,\n",
              "  _uploadFilesContinue,\n",
              "};\n",
              "})(self);\n",
              "</script> "
            ]
          },
          "metadata": {}
        },
        {
          "output_type": "stream",
          "name": "stdout",
          "text": [
            "Saving reviews.csv to reviews.csv\n",
            "            Time_submitted                                             Review  \\\n",
            "0      2022-07-09 15:00:00  Great music service, the audio is high quality...   \n",
            "1      2022-07-09 14:21:22  Please ignore previous negative rating. This a...   \n",
            "2      2022-07-09 13:27:32  This pop-up \"Get the best Spotify experience o...   \n",
            "3      2022-07-09 13:26:45    Really buggy and terrible to use as of recently   \n",
            "4      2022-07-09 13:20:49  Dear Spotify why do I get songs that I didn't ...   \n",
            "...                    ...                                                ...   \n",
            "61589  2022-01-01 03:01:29  Even though it was communicated that lyrics fe...   \n",
            "61590  2022-01-01 02:13:40  Use to be sooo good back when I had it, and wh...   \n",
            "61591  2022-01-01 01:02:29  This app would be good if not for it taking ov...   \n",
            "61592  2022-01-01 00:49:23  The app is good hard to navigate and won't jus...   \n",
            "61593  2022-01-01 00:19:09  Its good but sometimes it doesnt load the musi...   \n",
            "\n",
            "       Rating  Total_thumbsup Reply  \n",
            "0           5               2   NaN  \n",
            "1           5               1   NaN  \n",
            "2           4               0   NaN  \n",
            "3           1               1   NaN  \n",
            "4           1               1   NaN  \n",
            "...       ...             ...   ...  \n",
            "61589       1               6   NaN  \n",
            "61590       1               0   NaN  \n",
            "61591       2              10   NaN  \n",
            "61592       2               1   NaN  \n",
            "61593       4               0   NaN  \n",
            "\n",
            "[61594 rows x 5 columns]\n"
          ]
        }
      ],
      "source": [
        "\n",
        "from google.colab import files\n",
        "import io\n",
        "uploaded = files.upload()\n",
        "df = pd.read_csv(io.BytesIO(uploaded['reviews.csv']))\n",
        "print(df)"
      ]
    },
    {
      "cell_type": "markdown",
      "id": "f4d6e51b",
      "metadata": {
        "id": "f4d6e51b"
      },
      "source": [
        "### Data PreProcessing"
      ]
    },
    {
      "cell_type": "code",
      "source": [
        "stf = df.copy()"
      ],
      "metadata": {
        "id": "-SCZCu0zIDLV"
      },
      "id": "-SCZCu0zIDLV",
      "execution_count": 23,
      "outputs": []
    },
    {
      "cell_type": "code",
      "execution_count": 24,
      "id": "da55e5ce",
      "metadata": {
        "scrolled": true,
        "colab": {
          "base_uri": "https://localhost:8080/"
        },
        "id": "da55e5ce",
        "outputId": "11f64f28-e906-49bc-abf4-c10b1d0c26b2"
      },
      "outputs": [
        {
          "output_type": "stream",
          "name": "stderr",
          "text": [
            "[nltk_data] Downloading package stopwords to /root/nltk_data...\n",
            "[nltk_data]   Package stopwords is already up-to-date!\n"
          ]
        }
      ],
      "source": [
        "import gensim\n",
        "from gensim.parsing.preprocessing import strip_non_alphanum, strip_multiple_whitespaces, preprocess_string, split_alphanum, strip_short, strip_numeric\n",
        "import re \n",
        "import nltk\n",
        "from nltk.corpus import stopwords\n",
        "nltk.download('stopwords')\n",
        "stop_words = stopwords.words('english')"
      ]
    },
    {
      "cell_type": "code",
      "execution_count": 25,
      "id": "45914ccb",
      "metadata": {
        "id": "45914ccb"
      },
      "outputs": [],
      "source": [
        "def lower_case(docs):\n",
        "  return [doc.lower() for doc in docs]\n",
        "\n",
        "def remove_punc(docs):\n",
        "  # Loai bo dau cau & ki tu dac biet\n",
        "  return [strip_non_alphanum(doc).strip() for doc in docs]\n",
        "\n",
        "def separate_num(docs):\n",
        "  # Tach cac so va chu lien nhau\n",
        "  return [split_alphanum(doc) for doc in docs]\n",
        "\n",
        "def remove_one_letter_word(docs):\n",
        "  return [strip_short(doc) for doc in docs]\n",
        "\n",
        "def remove_number(docs):\n",
        "  return [strip_numeric(doc) for doc in docs]\n",
        "\n",
        "def replace_multiple_whitespaces(docs):\n",
        "  # Thay the nhieu spaces bang mot space\n",
        "  return [strip_multiple_whitespaces(doc) for doc in docs]\n",
        "\n",
        "def remove_stopwords(docs):\n",
        "    return [\" \".join([word for word in doc.split() if word not in stop_words]) for doc in docs]\n",
        "\n",
        "doc = lower_case(stf['Review'])\n",
        "doc = remove_punc(doc)\n",
        "doc = separate_num(doc)\n",
        "doc = remove_one_letter_word(doc)\n",
        "doc = remove_number(doc)\n",
        "doc = replace_multiple_whitespaces(doc)\n",
        "doc = remove_stopwords(doc)\n",
        "\n",
        "stf['Review'] = doc"
      ]
    },
    {
      "cell_type": "code",
      "execution_count": 26,
      "id": "06270d44",
      "metadata": {
        "scrolled": true,
        "colab": {
          "base_uri": "https://localhost:8080/",
          "height": 206
        },
        "id": "06270d44",
        "outputId": "fe94ada5-f541-4e07-c065-35d5f2e47b48"
      },
      "outputs": [
        {
          "output_type": "execute_result",
          "data": {
            "text/plain": [
              "        Time_submitted                                             Review  \\\n",
              "0  2022-07-09 15:00:00  great music service audio high quality app eas...   \n",
              "1  2022-07-09 14:21:22  please ignore previous negative rating app sup...   \n",
              "2  2022-07-09 13:27:32  pop get best spotify experience android annoyi...   \n",
              "3  2022-07-09 13:26:45                 really buggy terrible use recently   \n",
              "4  2022-07-09 13:20:49   dear spotify get songs put playlist shuffle play   \n",
              "\n",
              "   Rating  Total_thumbsup Reply  \n",
              "0       5               2   NaN  \n",
              "1       5               1   NaN  \n",
              "2       4               0   NaN  \n",
              "3       1               1   NaN  \n",
              "4       1               1   NaN  "
            ],
            "text/html": [
              "\n",
              "  <div id=\"df-6b15762a-a72f-43fd-9b89-30c7ceae48a1\">\n",
              "    <div class=\"colab-df-container\">\n",
              "      <div>\n",
              "<style scoped>\n",
              "    .dataframe tbody tr th:only-of-type {\n",
              "        vertical-align: middle;\n",
              "    }\n",
              "\n",
              "    .dataframe tbody tr th {\n",
              "        vertical-align: top;\n",
              "    }\n",
              "\n",
              "    .dataframe thead th {\n",
              "        text-align: right;\n",
              "    }\n",
              "</style>\n",
              "<table border=\"1\" class=\"dataframe\">\n",
              "  <thead>\n",
              "    <tr style=\"text-align: right;\">\n",
              "      <th></th>\n",
              "      <th>Time_submitted</th>\n",
              "      <th>Review</th>\n",
              "      <th>Rating</th>\n",
              "      <th>Total_thumbsup</th>\n",
              "      <th>Reply</th>\n",
              "    </tr>\n",
              "  </thead>\n",
              "  <tbody>\n",
              "    <tr>\n",
              "      <th>0</th>\n",
              "      <td>2022-07-09 15:00:00</td>\n",
              "      <td>great music service audio high quality app eas...</td>\n",
              "      <td>5</td>\n",
              "      <td>2</td>\n",
              "      <td>NaN</td>\n",
              "    </tr>\n",
              "    <tr>\n",
              "      <th>1</th>\n",
              "      <td>2022-07-09 14:21:22</td>\n",
              "      <td>please ignore previous negative rating app sup...</td>\n",
              "      <td>5</td>\n",
              "      <td>1</td>\n",
              "      <td>NaN</td>\n",
              "    </tr>\n",
              "    <tr>\n",
              "      <th>2</th>\n",
              "      <td>2022-07-09 13:27:32</td>\n",
              "      <td>pop get best spotify experience android annoyi...</td>\n",
              "      <td>4</td>\n",
              "      <td>0</td>\n",
              "      <td>NaN</td>\n",
              "    </tr>\n",
              "    <tr>\n",
              "      <th>3</th>\n",
              "      <td>2022-07-09 13:26:45</td>\n",
              "      <td>really buggy terrible use recently</td>\n",
              "      <td>1</td>\n",
              "      <td>1</td>\n",
              "      <td>NaN</td>\n",
              "    </tr>\n",
              "    <tr>\n",
              "      <th>4</th>\n",
              "      <td>2022-07-09 13:20:49</td>\n",
              "      <td>dear spotify get songs put playlist shuffle play</td>\n",
              "      <td>1</td>\n",
              "      <td>1</td>\n",
              "      <td>NaN</td>\n",
              "    </tr>\n",
              "  </tbody>\n",
              "</table>\n",
              "</div>\n",
              "      <button class=\"colab-df-convert\" onclick=\"convertToInteractive('df-6b15762a-a72f-43fd-9b89-30c7ceae48a1')\"\n",
              "              title=\"Convert this dataframe to an interactive table.\"\n",
              "              style=\"display:none;\">\n",
              "        \n",
              "  <svg xmlns=\"http://www.w3.org/2000/svg\" height=\"24px\"viewBox=\"0 0 24 24\"\n",
              "       width=\"24px\">\n",
              "    <path d=\"M0 0h24v24H0V0z\" fill=\"none\"/>\n",
              "    <path d=\"M18.56 5.44l.94 2.06.94-2.06 2.06-.94-2.06-.94-.94-2.06-.94 2.06-2.06.94zm-11 1L8.5 8.5l.94-2.06 2.06-.94-2.06-.94L8.5 2.5l-.94 2.06-2.06.94zm10 10l.94 2.06.94-2.06 2.06-.94-2.06-.94-.94-2.06-.94 2.06-2.06.94z\"/><path d=\"M17.41 7.96l-1.37-1.37c-.4-.4-.92-.59-1.43-.59-.52 0-1.04.2-1.43.59L10.3 9.45l-7.72 7.72c-.78.78-.78 2.05 0 2.83L4 21.41c.39.39.9.59 1.41.59.51 0 1.02-.2 1.41-.59l7.78-7.78 2.81-2.81c.8-.78.8-2.07 0-2.86zM5.41 20L4 18.59l7.72-7.72 1.47 1.35L5.41 20z\"/>\n",
              "  </svg>\n",
              "      </button>\n",
              "      \n",
              "  <style>\n",
              "    .colab-df-container {\n",
              "      display:flex;\n",
              "      flex-wrap:wrap;\n",
              "      gap: 12px;\n",
              "    }\n",
              "\n",
              "    .colab-df-convert {\n",
              "      background-color: #E8F0FE;\n",
              "      border: none;\n",
              "      border-radius: 50%;\n",
              "      cursor: pointer;\n",
              "      display: none;\n",
              "      fill: #1967D2;\n",
              "      height: 32px;\n",
              "      padding: 0 0 0 0;\n",
              "      width: 32px;\n",
              "    }\n",
              "\n",
              "    .colab-df-convert:hover {\n",
              "      background-color: #E2EBFA;\n",
              "      box-shadow: 0px 1px 2px rgba(60, 64, 67, 0.3), 0px 1px 3px 1px rgba(60, 64, 67, 0.15);\n",
              "      fill: #174EA6;\n",
              "    }\n",
              "\n",
              "    [theme=dark] .colab-df-convert {\n",
              "      background-color: #3B4455;\n",
              "      fill: #D2E3FC;\n",
              "    }\n",
              "\n",
              "    [theme=dark] .colab-df-convert:hover {\n",
              "      background-color: #434B5C;\n",
              "      box-shadow: 0px 1px 3px 1px rgba(0, 0, 0, 0.15);\n",
              "      filter: drop-shadow(0px 1px 2px rgba(0, 0, 0, 0.3));\n",
              "      fill: #FFFFFF;\n",
              "    }\n",
              "  </style>\n",
              "\n",
              "      <script>\n",
              "        const buttonEl =\n",
              "          document.querySelector('#df-6b15762a-a72f-43fd-9b89-30c7ceae48a1 button.colab-df-convert');\n",
              "        buttonEl.style.display =\n",
              "          google.colab.kernel.accessAllowed ? 'block' : 'none';\n",
              "\n",
              "        async function convertToInteractive(key) {\n",
              "          const element = document.querySelector('#df-6b15762a-a72f-43fd-9b89-30c7ceae48a1');\n",
              "          const dataTable =\n",
              "            await google.colab.kernel.invokeFunction('convertToInteractive',\n",
              "                                                     [key], {});\n",
              "          if (!dataTable) return;\n",
              "\n",
              "          const docLinkHtml = 'Like what you see? Visit the ' +\n",
              "            '<a target=\"_blank\" href=https://colab.research.google.com/notebooks/data_table.ipynb>data table notebook</a>'\n",
              "            + ' to learn more about interactive tables.';\n",
              "          element.innerHTML = '';\n",
              "          dataTable['output_type'] = 'display_data';\n",
              "          await google.colab.output.renderOutput(dataTable, element);\n",
              "          const docLink = document.createElement('div');\n",
              "          docLink.innerHTML = docLinkHtml;\n",
              "          element.appendChild(docLink);\n",
              "        }\n",
              "      </script>\n",
              "    </div>\n",
              "  </div>\n",
              "  "
            ]
          },
          "metadata": {},
          "execution_count": 26
        }
      ],
      "source": [
        "stf.head()"
      ]
    },
    {
      "cell_type": "code",
      "execution_count": 27,
      "id": "a0b87123",
      "metadata": {
        "id": "a0b87123"
      },
      "outputs": [],
      "source": [
        "stf1 = stf.copy()\n",
        "rate = [1,2,3,4,5]\n",
        "sentiment = [0, 0, 1, 1, 1]\n",
        "for i in range(5):\n",
        "    stf1[\"Rating\"].replace(rate[i], sentiment[i],inplace=True)"
      ]
    },
    {
      "cell_type": "code",
      "execution_count": 28,
      "id": "c4e0b72d",
      "metadata": {
        "colab": {
          "base_uri": "https://localhost:8080/",
          "height": 206
        },
        "id": "c4e0b72d",
        "outputId": "7af94d3b-b612-42a2-b54e-f439b796b66b"
      },
      "outputs": [
        {
          "output_type": "execute_result",
          "data": {
            "text/plain": [
              "        Time_submitted                                             Review  \\\n",
              "0  2022-07-09 15:00:00  great music service audio high quality app eas...   \n",
              "1  2022-07-09 14:21:22  please ignore previous negative rating app sup...   \n",
              "2  2022-07-09 13:27:32  pop get best spotify experience android annoyi...   \n",
              "3  2022-07-09 13:26:45                 really buggy terrible use recently   \n",
              "4  2022-07-09 13:20:49   dear spotify get songs put playlist shuffle play   \n",
              "\n",
              "   Rating  Total_thumbsup Reply  \n",
              "0       1               2   NaN  \n",
              "1       1               1   NaN  \n",
              "2       1               0   NaN  \n",
              "3       0               1   NaN  \n",
              "4       0               1   NaN  "
            ],
            "text/html": [
              "\n",
              "  <div id=\"df-80c22386-d531-4daf-8a5d-e5db6e5e3bc6\">\n",
              "    <div class=\"colab-df-container\">\n",
              "      <div>\n",
              "<style scoped>\n",
              "    .dataframe tbody tr th:only-of-type {\n",
              "        vertical-align: middle;\n",
              "    }\n",
              "\n",
              "    .dataframe tbody tr th {\n",
              "        vertical-align: top;\n",
              "    }\n",
              "\n",
              "    .dataframe thead th {\n",
              "        text-align: right;\n",
              "    }\n",
              "</style>\n",
              "<table border=\"1\" class=\"dataframe\">\n",
              "  <thead>\n",
              "    <tr style=\"text-align: right;\">\n",
              "      <th></th>\n",
              "      <th>Time_submitted</th>\n",
              "      <th>Review</th>\n",
              "      <th>Rating</th>\n",
              "      <th>Total_thumbsup</th>\n",
              "      <th>Reply</th>\n",
              "    </tr>\n",
              "  </thead>\n",
              "  <tbody>\n",
              "    <tr>\n",
              "      <th>0</th>\n",
              "      <td>2022-07-09 15:00:00</td>\n",
              "      <td>great music service audio high quality app eas...</td>\n",
              "      <td>1</td>\n",
              "      <td>2</td>\n",
              "      <td>NaN</td>\n",
              "    </tr>\n",
              "    <tr>\n",
              "      <th>1</th>\n",
              "      <td>2022-07-09 14:21:22</td>\n",
              "      <td>please ignore previous negative rating app sup...</td>\n",
              "      <td>1</td>\n",
              "      <td>1</td>\n",
              "      <td>NaN</td>\n",
              "    </tr>\n",
              "    <tr>\n",
              "      <th>2</th>\n",
              "      <td>2022-07-09 13:27:32</td>\n",
              "      <td>pop get best spotify experience android annoyi...</td>\n",
              "      <td>1</td>\n",
              "      <td>0</td>\n",
              "      <td>NaN</td>\n",
              "    </tr>\n",
              "    <tr>\n",
              "      <th>3</th>\n",
              "      <td>2022-07-09 13:26:45</td>\n",
              "      <td>really buggy terrible use recently</td>\n",
              "      <td>0</td>\n",
              "      <td>1</td>\n",
              "      <td>NaN</td>\n",
              "    </tr>\n",
              "    <tr>\n",
              "      <th>4</th>\n",
              "      <td>2022-07-09 13:20:49</td>\n",
              "      <td>dear spotify get songs put playlist shuffle play</td>\n",
              "      <td>0</td>\n",
              "      <td>1</td>\n",
              "      <td>NaN</td>\n",
              "    </tr>\n",
              "  </tbody>\n",
              "</table>\n",
              "</div>\n",
              "      <button class=\"colab-df-convert\" onclick=\"convertToInteractive('df-80c22386-d531-4daf-8a5d-e5db6e5e3bc6')\"\n",
              "              title=\"Convert this dataframe to an interactive table.\"\n",
              "              style=\"display:none;\">\n",
              "        \n",
              "  <svg xmlns=\"http://www.w3.org/2000/svg\" height=\"24px\"viewBox=\"0 0 24 24\"\n",
              "       width=\"24px\">\n",
              "    <path d=\"M0 0h24v24H0V0z\" fill=\"none\"/>\n",
              "    <path d=\"M18.56 5.44l.94 2.06.94-2.06 2.06-.94-2.06-.94-.94-2.06-.94 2.06-2.06.94zm-11 1L8.5 8.5l.94-2.06 2.06-.94-2.06-.94L8.5 2.5l-.94 2.06-2.06.94zm10 10l.94 2.06.94-2.06 2.06-.94-2.06-.94-.94-2.06-.94 2.06-2.06.94z\"/><path d=\"M17.41 7.96l-1.37-1.37c-.4-.4-.92-.59-1.43-.59-.52 0-1.04.2-1.43.59L10.3 9.45l-7.72 7.72c-.78.78-.78 2.05 0 2.83L4 21.41c.39.39.9.59 1.41.59.51 0 1.02-.2 1.41-.59l7.78-7.78 2.81-2.81c.8-.78.8-2.07 0-2.86zM5.41 20L4 18.59l7.72-7.72 1.47 1.35L5.41 20z\"/>\n",
              "  </svg>\n",
              "      </button>\n",
              "      \n",
              "  <style>\n",
              "    .colab-df-container {\n",
              "      display:flex;\n",
              "      flex-wrap:wrap;\n",
              "      gap: 12px;\n",
              "    }\n",
              "\n",
              "    .colab-df-convert {\n",
              "      background-color: #E8F0FE;\n",
              "      border: none;\n",
              "      border-radius: 50%;\n",
              "      cursor: pointer;\n",
              "      display: none;\n",
              "      fill: #1967D2;\n",
              "      height: 32px;\n",
              "      padding: 0 0 0 0;\n",
              "      width: 32px;\n",
              "    }\n",
              "\n",
              "    .colab-df-convert:hover {\n",
              "      background-color: #E2EBFA;\n",
              "      box-shadow: 0px 1px 2px rgba(60, 64, 67, 0.3), 0px 1px 3px 1px rgba(60, 64, 67, 0.15);\n",
              "      fill: #174EA6;\n",
              "    }\n",
              "\n",
              "    [theme=dark] .colab-df-convert {\n",
              "      background-color: #3B4455;\n",
              "      fill: #D2E3FC;\n",
              "    }\n",
              "\n",
              "    [theme=dark] .colab-df-convert:hover {\n",
              "      background-color: #434B5C;\n",
              "      box-shadow: 0px 1px 3px 1px rgba(0, 0, 0, 0.15);\n",
              "      filter: drop-shadow(0px 1px 2px rgba(0, 0, 0, 0.3));\n",
              "      fill: #FFFFFF;\n",
              "    }\n",
              "  </style>\n",
              "\n",
              "      <script>\n",
              "        const buttonEl =\n",
              "          document.querySelector('#df-80c22386-d531-4daf-8a5d-e5db6e5e3bc6 button.colab-df-convert');\n",
              "        buttonEl.style.display =\n",
              "          google.colab.kernel.accessAllowed ? 'block' : 'none';\n",
              "\n",
              "        async function convertToInteractive(key) {\n",
              "          const element = document.querySelector('#df-80c22386-d531-4daf-8a5d-e5db6e5e3bc6');\n",
              "          const dataTable =\n",
              "            await google.colab.kernel.invokeFunction('convertToInteractive',\n",
              "                                                     [key], {});\n",
              "          if (!dataTable) return;\n",
              "\n",
              "          const docLinkHtml = 'Like what you see? Visit the ' +\n",
              "            '<a target=\"_blank\" href=https://colab.research.google.com/notebooks/data_table.ipynb>data table notebook</a>'\n",
              "            + ' to learn more about interactive tables.';\n",
              "          element.innerHTML = '';\n",
              "          dataTable['output_type'] = 'display_data';\n",
              "          await google.colab.output.renderOutput(dataTable, element);\n",
              "          const docLink = document.createElement('div');\n",
              "          docLink.innerHTML = docLinkHtml;\n",
              "          element.appendChild(docLink);\n",
              "        }\n",
              "      </script>\n",
              "    </div>\n",
              "  </div>\n",
              "  "
            ]
          },
          "metadata": {},
          "execution_count": 28
        }
      ],
      "source": [
        "stf1.head()"
      ]
    },
    {
      "cell_type": "markdown",
      "id": "d5a4bc3f",
      "metadata": {
        "id": "d5a4bc3f"
      },
      "source": [
        "### RNN"
      ]
    },
    {
      "cell_type": "code",
      "execution_count": 62,
      "id": "5102fa68",
      "metadata": {
        "scrolled": true,
        "id": "5102fa68"
      },
      "outputs": [],
      "source": [
        "from tensorflow.keras.layers import SimpleRNN, LSTM, GRU, Bidirectional, Dense, Embedding, Dropout\n",
        "from tensorflow.keras.datasets import imdb\n",
        "from tensorflow.keras.models import Sequential\n",
        "import numpy as np\n",
        "from sklearn.model_selection import train_test_split"
      ]
    },
    {
      "cell_type": "code",
      "execution_count": 30,
      "id": "14e30d02",
      "metadata": {
        "id": "14e30d02"
      },
      "outputs": [],
      "source": [
        "from tensorflow.keras.preprocessing.text import Tokenizer\n",
        "from tensorflow.keras.preprocessing.sequence import pad_sequences"
      ]
    },
    {
      "cell_type": "code",
      "execution_count": 50,
      "id": "335aa279",
      "metadata": {
        "colab": {
          "base_uri": "https://localhost:8080/"
        },
        "id": "335aa279",
        "outputId": "6777f86d-7815-4c7f-ddcc-341ae7a59dcf"
      },
      "outputs": [
        {
          "output_type": "stream",
          "name": "stdout",
          "text": [
            "great music service audio high quality app easy use also quick friendly support\n",
            "3305    man spotify great know put covid warning appro...\n",
            "Name: Review, dtype: object\n",
            "[816, 3, 13, 71, 162, 1062, 1418, 2717, 516, 317, 285, 61]\n",
            "311\n"
          ]
        }
      ],
      "source": [
        "x_train, x_test, y_train, y_test = train_test_split(stf1['Review'], stf1['Rating'], test_size=0.2, random_state=42)\n",
        "print(x_train[0])\n",
        "\n",
        "# Tokenize data\n",
        "tokenizer = Tokenizer()\n",
        "tokenizer.fit_on_texts(x_train)\n",
        "print(x_train[0:1])\n",
        "x_train = tokenizer.texts_to_sequences(x_train)\n",
        "x_test = tokenizer.texts_to_sequences(x_test)\n",
        "print(x_train[0])\n",
        "\n",
        "# Pad the sequences to make all inputs the same length\n",
        "max_length = max([len(s) for s in x_train])\n",
        "print(max_length)"
      ]
    },
    {
      "cell_type": "code",
      "execution_count": 51,
      "id": "2f2eaa35",
      "metadata": {
        "id": "2f2eaa35"
      },
      "outputs": [],
      "source": [
        "x_train = pad_sequences(x_train, maxlen=max_length, padding='post')\n",
        "x_test = pad_sequences(x_test, maxlen=max_length, padding='post')"
      ]
    },
    {
      "cell_type": "code",
      "execution_count": 52,
      "id": "b28d8974",
      "metadata": {
        "id": "b28d8974"
      },
      "outputs": [],
      "source": [
        "x_valid, y_valid = x_train[:1000], y_train[:1000]\n",
        "x_train_, y_train_ = x_train[1000:], y_train[1000:]"
      ]
    },
    {
      "cell_type": "code",
      "execution_count": 14,
      "id": "78a37a50",
      "metadata": {
        "colab": {
          "base_uri": "https://localhost:8080/"
        },
        "id": "78a37a50",
        "outputId": "b60a1ff3-a105-4697-8222-866f7b6f4b78"
      },
      "outputs": [
        {
          "output_type": "execute_result",
          "data": {
            "text/plain": [
              "array([ 816,    3,   13,   71,  162, 1062, 1418, 2717,  516,  317,  285,\n",
              "         61,    0,    0,    0,    0,    0,    0,    0,    0,    0,    0,\n",
              "          0,    0,    0,    0,    0,    0,    0,    0,    0,    0,    0,\n",
              "          0,    0,    0,    0,    0,    0,    0,    0,    0,    0,    0,\n",
              "          0,    0,    0,    0,    0,    0,    0,    0,    0,    0,    0,\n",
              "          0,    0,    0,    0,    0,    0,    0,    0,    0,    0,    0,\n",
              "          0,    0,    0,    0,    0,    0,    0,    0,    0,    0,    0,\n",
              "          0,    0,    0,    0,    0,    0,    0,    0,    0,    0,    0,\n",
              "          0,    0,    0,    0,    0,    0,    0,    0,    0,    0,    0,\n",
              "          0,    0,    0,    0,    0,    0,    0,    0,    0,    0,    0,\n",
              "          0,    0,    0,    0,    0,    0,    0,    0,    0,    0,    0,\n",
              "          0,    0,    0,    0,    0,    0,    0,    0,    0,    0,    0,\n",
              "          0,    0,    0,    0,    0,    0,    0,    0,    0,    0,    0,\n",
              "          0,    0,    0,    0,    0,    0,    0,    0,    0,    0,    0,\n",
              "          0,    0,    0,    0,    0,    0,    0,    0,    0,    0,    0,\n",
              "          0,    0,    0,    0,    0,    0,    0,    0,    0,    0,    0,\n",
              "          0,    0,    0,    0,    0,    0,    0,    0,    0,    0,    0,\n",
              "          0,    0,    0,    0,    0,    0,    0,    0,    0,    0,    0,\n",
              "          0,    0,    0,    0,    0,    0,    0,    0,    0,    0,    0,\n",
              "          0,    0,    0,    0,    0,    0,    0,    0,    0,    0,    0,\n",
              "          0,    0,    0,    0,    0,    0,    0,    0,    0,    0,    0,\n",
              "          0,    0,    0,    0,    0,    0,    0,    0,    0,    0,    0,\n",
              "          0,    0,    0,    0,    0,    0,    0,    0,    0,    0,    0,\n",
              "          0,    0,    0,    0,    0,    0,    0,    0,    0,    0,    0,\n",
              "          0,    0,    0,    0,    0,    0,    0,    0,    0,    0,    0,\n",
              "          0,    0,    0,    0,    0,    0,    0,    0,    0,    0,    0,\n",
              "          0,    0,    0,    0,    0,    0,    0,    0,    0,    0,    0,\n",
              "          0,    0,    0,    0,    0,    0,    0,    0,    0,    0,    0,\n",
              "          0,    0,    0], dtype=int32)"
            ]
          },
          "metadata": {},
          "execution_count": 14
        }
      ],
      "source": [
        "x_train[0]"
      ]
    },
    {
      "cell_type": "code",
      "source": [
        "def plot_training_hist(history):\n",
        "    '''Function to plot history for accuracy and loss'''\n",
        "    \n",
        "    fig, ax = plt.subplots(1, 2, figsize=(15,4))\n",
        "    \n",
        "    ax[0].plot(history.history['accuracy'])\n",
        "    ax[0].plot(history.history['val_accuracy'])\n",
        "    ax[0].set_title('Model Accuracy')\n",
        "    ax[0].set_xlabel('epoch')\n",
        "    ax[0].set_ylabel('accuracy')\n",
        "    ax[0].legend(['train', 'validation'], loc='best')\n",
        " \n",
        "    ax[1].plot(history.history['loss'])\n",
        "    ax[1].plot(history.history['val_loss'])\n",
        "    ax[1].set_title('Model Loss')\n",
        "    ax[1].set_xlabel('epoch')\n",
        "    ax[1].set_ylabel('loss')\n",
        "    ax[1].legend(['train', 'validation'], loc='best')\n"
      ],
      "metadata": {
        "id": "6kZ3KFanLNAc"
      },
      "id": "6kZ3KFanLNAc",
      "execution_count": 41,
      "outputs": []
    },
    {
      "cell_type": "markdown",
      "id": "c5b5d768",
      "metadata": {
        "id": "c5b5d768"
      },
      "source": [
        "#### simple RNN (Vanilla RNN)"
      ]
    },
    {
      "cell_type": "code",
      "execution_count": 35,
      "id": "0b415a2a",
      "metadata": {
        "colab": {
          "base_uri": "https://localhost:8080/"
        },
        "id": "0b415a2a",
        "outputId": "57775e17-c391-4722-ce4b-f6b5de6b9561"
      },
      "outputs": [
        {
          "output_type": "stream",
          "name": "stdout",
          "text": [
            "Model: \"Simple_RNN\"\n",
            "_________________________________________________________________\n",
            " Layer (type)                Output Shape              Param #   \n",
            "=================================================================\n",
            " embedding_4 (Embedding)     (None, 311, 32)           636544    \n",
            "                                                                 \n",
            " simple_rnn_4 (SimpleRNN)    (None, 64)                6208      \n",
            "                                                                 \n",
            " dense_4 (Dense)             (None, 1)                 65        \n",
            "                                                                 \n",
            "=================================================================\n",
            "Total params: 642,817\n",
            "Trainable params: 642,817\n",
            "Non-trainable params: 0\n",
            "_________________________________________________________________\n",
            "None\n",
            "Epoch 1/10\n",
            "755/755 [==============================] - 91s 119ms/step - loss: 0.6754 - accuracy: 0.5932 - val_loss: 0.6754 - val_accuracy: 0.6020\n",
            "Epoch 2/10\n",
            "755/755 [==============================] - 87s 115ms/step - loss: 0.6757 - accuracy: 0.5965 - val_loss: 0.6820 - val_accuracy: 0.6020\n",
            "Epoch 3/10\n",
            "755/755 [==============================] - 87s 115ms/step - loss: 0.6641 - accuracy: 0.5909 - val_loss: 0.6591 - val_accuracy: 0.5860\n",
            "Epoch 4/10\n",
            "755/755 [==============================] - 88s 116ms/step - loss: 0.6627 - accuracy: 0.5946 - val_loss: 0.6587 - val_accuracy: 0.6020\n",
            "Epoch 5/10\n",
            "755/755 [==============================] - 94s 125ms/step - loss: 0.6630 - accuracy: 0.5924 - val_loss: 0.6587 - val_accuracy: 0.6020\n",
            "Epoch 6/10\n",
            "755/755 [==============================] - 89s 118ms/step - loss: 0.6628 - accuracy: 0.5936 - val_loss: 0.6613 - val_accuracy: 0.5710\n",
            "Epoch 7/10\n",
            "755/755 [==============================] - 88s 117ms/step - loss: 0.6630 - accuracy: 0.5928 - val_loss: 0.6563 - val_accuracy: 0.6020\n",
            "Epoch 8/10\n",
            "755/755 [==============================] - 87s 115ms/step - loss: 0.6624 - accuracy: 0.5935 - val_loss: 0.6606 - val_accuracy: 0.5680\n",
            "Epoch 9/10\n",
            "755/755 [==============================] - 89s 118ms/step - loss: 0.6625 - accuracy: 0.5932 - val_loss: 0.6578 - val_accuracy: 0.6020\n",
            "Epoch 10/10\n",
            "755/755 [==============================] - 88s 116ms/step - loss: 0.6610 - accuracy: 0.5951 - val_loss: 0.6602 - val_accuracy: 0.6020\n",
            "\n",
            "Simple_RNN Score--->  [0.6582249402999878, 0.6015098690986633]\n"
          ]
        }
      ],
      "source": [
        "embd_len = 32\n",
        "\n",
        "RNN_model = Sequential(name=\"Simple_RNN\")\n",
        "RNN_model.add(Embedding(len(tokenizer.word_index)+1, embd_len, input_length=max_length))\n",
        "\n",
        "RNN_model.add(SimpleRNN(64, activation='tanh', return_sequences=False))\n",
        "\n",
        "RNN_model.add(Dense(1, activation='sigmoid'))\n",
        "\n",
        "print(RNN_model.summary())\n",
        "\n",
        "RNN_model.compile(loss=\"binary_crossentropy\", optimizer='adam', metrics=['accuracy'])\n",
        "\n",
        "history = RNN_model.fit(x_train_, y_train_, batch_size=64, epochs=10, verbose=1, validation_data=(x_valid, y_valid))\n",
        "\n",
        "# model score on test data\n",
        "print()\n",
        "print(\"Simple_RNN Score---> \", RNN_model.evaluate(x_test, y_test, verbose=0))\n"
      ]
    },
    {
      "cell_type": "code",
      "source": [
        "plot_training_hist(history)"
      ],
      "metadata": {
        "colab": {
          "base_uri": "https://localhost:8080/",
          "height": 295
        },
        "id": "f7Iv3YlALEaD",
        "outputId": "096dc592-d75c-4416-dc67-470e6fe54127"
      },
      "id": "f7Iv3YlALEaD",
      "execution_count": 42,
      "outputs": [
        {
          "output_type": "display_data",
          "data": {
            "text/plain": [
              "<Figure size 1080x288 with 2 Axes>"
            ],
            "image/png": "[encoded data removed]"
          },
          "metadata": {
            "needs_background": "light"
          }
        }
      ]
    },
    {
      "cell_type": "markdown",
      "source": [
        "\n",
        "The vanilla form of RNN gave us a Test Accuracy of 60.13%. Limitations of Simple RNN are it is unable to handle long sentences well because of its vanishing gradient problems."
      ],
      "metadata": {
        "id": "jlljy6V9Y2wM"
      },
      "id": "jlljy6V9Y2wM"
    },
    {
      "cell_type": "markdown",
      "id": "58ef296b",
      "metadata": {
        "id": "58ef296b"
      },
      "source": [
        "#### GRU (Gated Recurent Units)"
      ]
    },
    {
      "cell_type": "code",
      "execution_count": null,
      "id": "cdae5a76",
      "metadata": {
        "colab": {
          "base_uri": "https://localhost:8080/"
        },
        "id": "cdae5a76",
        "outputId": "bfe1f693-45bb-495f-f4bd-bb9fafe2a2cb"
      },
      "outputs": [
        {
          "output_type": "stream",
          "name": "stdout",
          "text": [
            "Model: \"GRU_Model\"\n",
            "_________________________________________________________________\n",
            " Layer (type)                Output Shape              Param #   \n",
            "=================================================================\n",
            " embedding_2 (Embedding)     (None, 311, 32)           636544    \n",
            "                                                                 \n",
            " gru_1 (GRU)                 (None, 64)                18816     \n",
            "                                                                 \n",
            " dense_3 (Dense)             (None, 16)                1040      \n",
            "                                                                 \n",
            " dense_4 (Dense)             (None, 1)                 17        \n",
            "                                                                 \n",
            "=================================================================\n",
            "Total params: 656,417\n",
            "Trainable params: 656,417\n",
            "Non-trainable params: 0\n",
            "_________________________________________________________________\n",
            "None\n",
            "Epoch 1/20\n",
            "769/769 [==============================] - 12s 14ms/step - loss: 0.6876 - accuracy: 0.5928 - val_loss: 0.7021 - val_accuracy: 0.5312\n",
            "Epoch 2/20\n",
            "769/769 [==============================] - 10s 13ms/step - loss: 0.6755 - accuracy: 0.5970 - val_loss: 0.6933 - val_accuracy: 0.5312\n",
            "Epoch 3/20\n",
            "769/769 [==============================] - 10s 13ms/step - loss: 0.6761 - accuracy: 0.5970 - val_loss: 0.7003 - val_accuracy: 0.5312\n",
            "Epoch 4/20\n",
            "769/769 [==============================] - 10s 13ms/step - loss: 0.6762 - accuracy: 0.5959 - val_loss: 0.7012 - val_accuracy: 0.5312\n",
            "Epoch 5/20\n",
            "769/769 [==============================] - 10s 13ms/step - loss: 0.6756 - accuracy: 0.5970 - val_loss: 0.6937 - val_accuracy: 0.5312\n",
            "Epoch 6/20\n",
            "769/769 [==============================] - 10s 13ms/step - loss: 0.6760 - accuracy: 0.5970 - val_loss: 0.6937 - val_accuracy: 0.5312\n",
            "Epoch 7/20\n",
            "769/769 [==============================] - 11s 15ms/step - loss: 0.6757 - accuracy: 0.5970 - val_loss: 0.6934 - val_accuracy: 0.5312\n",
            "Epoch 8/20\n",
            "769/769 [==============================] - 10s 13ms/step - loss: 0.6752 - accuracy: 0.5970 - val_loss: 0.7078 - val_accuracy: 0.5312\n",
            "Epoch 9/20\n",
            "769/769 [==============================] - 10s 14ms/step - loss: 0.6752 - accuracy: 0.5970 - val_loss: 0.6983 - val_accuracy: 0.5312\n",
            "Epoch 10/20\n",
            "769/769 [==============================] - 10s 13ms/step - loss: 0.6752 - accuracy: 0.5970 - val_loss: 0.6965 - val_accuracy: 0.5312\n",
            "Epoch 11/20\n",
            "769/769 [==============================] - 10s 13ms/step - loss: 0.6752 - accuracy: 0.5970 - val_loss: 0.6924 - val_accuracy: 0.5312\n",
            "Epoch 12/20\n",
            "769/769 [==============================] - 10s 13ms/step - loss: 0.6750 - accuracy: 0.5970 - val_loss: 0.6986 - val_accuracy: 0.5312\n",
            "Epoch 13/20\n",
            "769/769 [==============================] - 12s 15ms/step - loss: 0.6752 - accuracy: 0.5970 - val_loss: 0.7004 - val_accuracy: 0.5312\n",
            "Epoch 14/20\n",
            "769/769 [==============================] - 13s 16ms/step - loss: 0.6750 - accuracy: 0.5970 - val_loss: 0.7052 - val_accuracy: 0.5312\n",
            "Epoch 15/20\n",
            "769/769 [==============================] - 10s 13ms/step - loss: 0.6752 - accuracy: 0.5970 - val_loss: 0.7014 - val_accuracy: 0.5312\n",
            "Epoch 16/20\n",
            "769/769 [==============================] - 10s 13ms/step - loss: 0.6749 - accuracy: 0.5970 - val_loss: 0.6985 - val_accuracy: 0.5312\n",
            "Epoch 17/20\n",
            "769/769 [==============================] - 10s 14ms/step - loss: 0.6750 - accuracy: 0.5970 - val_loss: 0.6978 - val_accuracy: 0.5312\n",
            "Epoch 18/20\n",
            "769/769 [==============================] - 10s 14ms/step - loss: 0.6750 - accuracy: 0.5970 - val_loss: 0.6957 - val_accuracy: 0.5312\n",
            "Epoch 19/20\n",
            "769/769 [==============================] - 10s 13ms/step - loss: 0.6749 - accuracy: 0.5970 - val_loss: 0.7094 - val_accuracy: 0.5312\n",
            "Epoch 20/20\n",
            "769/769 [==============================] - 10s 13ms/step - loss: 0.6748 - accuracy: 0.5970 - val_loss: 0.6974 - val_accuracy: 0.5312\n",
            "\n",
            "GRU model Score--->  [0.6728571057319641, 0.6015098690986633]\n"
          ]
        }
      ],
      "source": [
        "gru_model = Sequential(name=\"GRU_Model\")\n",
        "gru_model.add(Embedding(len(tokenizer.word_index)+1, embd_len, input_length=max_length))\n",
        "gru_model.add(GRU(64, activation='tanh', return_sequences=False))\n",
        "gru_model.add(Dense(16, activation='relu'))\n",
        "gru_model.add(Dense(1, activation='relu'))\n",
        "\n",
        "print(gru_model.summary())\n",
        "\n",
        "gru_model.compile(loss=\"binary_crossentropy\", optimizer='adam', metrics=['accuracy'])\n",
        "\n",
        "history2 = gru_model.fit(x_train_, y_train_, batch_size=64, epochs=20, verbose=1, validation_data=(x_valid, y_valid))\n",
        "\n",
        "print()\n",
        "print(\"GRU model Score---> \", gru_model.evaluate(x_test, y_test, verbose=0))\n"
      ]
    },
    {
      "cell_type": "code",
      "source": [
        "plot_training_hist(history2)"
      ],
      "metadata": {
        "colab": {
          "base_uri": "https://localhost:8080/",
          "height": 295
        },
        "id": "20t9vulRhzmg",
        "outputId": "09f3b826-c49a-4537-a725-0b706c28bc6f"
      },
      "id": "20t9vulRhzmg",
      "execution_count": null,
      "outputs": [
        {
          "output_type": "display_data",
          "data": {
            "text/plain": [
              "<Figure size 720x288 with 2 Axes>"
            ],
            "image/png": "[encoded data removed]"
          },
          "metadata": {
            "needs_background": "light"
          }
        }
      ]
    },
    {
      "cell_type": "markdown",
      "source": [
        "Test Accuracy of GRU was found to be 60.15%. GRU is a form of RNN that are better than simple RNN and are often faster than LSTM due to its relatively fewer training parameters."
      ],
      "metadata": {
        "id": "YPZ6icdZZP8E"
      },
      "id": "YPZ6icdZZP8E"
    },
    {
      "cell_type": "markdown",
      "id": "a8d9d234",
      "metadata": {
        "id": "a8d9d234"
      },
      "source": [
        "#### LSTM"
      ]
    },
    {
      "cell_type": "code",
      "source": [
        "lstm_model = Sequential(name=\"LSTM_Model\")\n",
        "lstm_model.add(Embedding(len(tokenizer.word_index)+1, embd_len, input_length=max_length))\n",
        "lstm_model.add(LSTM(64, activation='relu', return_sequences=False))\n",
        "# lstm_model.add(Dense(16, activation='sigmoid'))\n",
        "lstm_model.add(Dense(1))\n",
        "\n",
        "print(lstm_model.summary())\n",
        "\n",
        "lstm_model.compile( loss=\"binary_crossentropy\", optimizer='adam', metrics=['accuracy'])\n",
        "\n",
        "history3 = lstm_model.fit(x_train_, y_train_, batch_size=64, epochs=10, verbose=1, validation_data=(x_valid, y_valid))\n",
        "\n",
        "print()\n",
        "print(\"LSTM model Score---> \", lstm_model.evaluate(x_test, y_test, verbose=0))"
      ],
      "metadata": {
        "colab": {
          "base_uri": "https://localhost:8080/",
          "height": 414
        },
        "id": "xbTGXR-aWVBj",
        "outputId": "9f6bd6e5-19b4-4f45-d2ec-e25fbcf9b8f6"
      },
      "id": "xbTGXR-aWVBj",
      "execution_count": 57,
      "outputs": [
        {
          "output_type": "stream",
          "name": "stdout",
          "text": [
            " 68/755 [=>............................] - ETA: 4:55 - loss: 9.1940 - accuracy: 0.4040"
          ]
        },
        {
          "output_type": "error",
          "ename": "KeyboardInterrupt",
          "evalue": "ignored",
          "traceback": [
            "\u001b[0;31m---------------------------------------------------------------------------\u001b[0m",
            "\u001b[0;31mKeyboardInterrupt\u001b[0m                         Traceback (most recent call last)",
            "\u001b[0;32m<ipython-input-57-59352703b848>\u001b[0m in \u001b[0;36m<module>\u001b[0;34m\u001b[0m\n\u001b[1;32m      9\u001b[0m \u001b[0mlstm_model\u001b[0m\u001b[0;34m.\u001b[0m\u001b[0mcompile\u001b[0m\u001b[0;34m(\u001b[0m \u001b[0mloss\u001b[0m\u001b[0;34m=\u001b[0m\u001b[0;34m\"binary_crossentropy\"\u001b[0m\u001b[0;34m,\u001b[0m \u001b[0moptimizer\u001b[0m\u001b[0;34m=\u001b[0m\u001b[0;34m'adam'\u001b[0m\u001b[0;34m,\u001b[0m \u001b[0mmetrics\u001b[0m\u001b[0;34m=\u001b[0m\u001b[0;34m[\u001b[0m\u001b[0;34m'accuracy'\u001b[0m\u001b[0;34m]\u001b[0m\u001b[0;34m)\u001b[0m\u001b[0;34m\u001b[0m\u001b[0;34m\u001b[0m\u001b[0m\n\u001b[1;32m     10\u001b[0m \u001b[0;34m\u001b[0m\u001b[0m\n\u001b[0;32m---> 11\u001b[0;31m \u001b[0mhistory3\u001b[0m \u001b[0;34m=\u001b[0m \u001b[0mlstm_model\u001b[0m\u001b[0;34m.\u001b[0m\u001b[0mfit\u001b[0m\u001b[0;34m(\u001b[0m\u001b[0mx_train_\u001b[0m\u001b[0;34m,\u001b[0m \u001b[0my_train_\u001b[0m\u001b[0;34m,\u001b[0m \u001b[0mbatch_size\u001b[0m\u001b[0;34m=\u001b[0m\u001b[0;36m64\u001b[0m\u001b[0;34m,\u001b[0m \u001b[0mepochs\u001b[0m\u001b[0;34m=\u001b[0m\u001b[0;36m10\u001b[0m\u001b[0;34m,\u001b[0m \u001b[0mverbose\u001b[0m\u001b[0;34m=\u001b[0m\u001b[0;36m1\u001b[0m\u001b[0;34m,\u001b[0m \u001b[0mvalidation_data\u001b[0m\u001b[0;34m=\u001b[0m\u001b[0;34m(\u001b[0m\u001b[0mx_valid\u001b[0m\u001b[0;34m,\u001b[0m \u001b[0my_valid\u001b[0m\u001b[0;34m)\u001b[0m\u001b[0;34m)\u001b[0m\u001b[0;34m\u001b[0m\u001b[0;34m\u001b[0m\u001b[0m\n\u001b[0m\u001b[1;32m     12\u001b[0m \u001b[0;34m\u001b[0m\u001b[0m\n\u001b[1;32m     13\u001b[0m \u001b[0mprint\u001b[0m\u001b[0;34m(\u001b[0m\u001b[0;34m)\u001b[0m\u001b[0;34m\u001b[0m\u001b[0;34m\u001b[0m\u001b[0m\n",
            "\u001b[0;32m/usr/local/lib/python3.8/dist-packages/keras/utils/traceback_utils.py\u001b[0m in \u001b[0;36merror_handler\u001b[0;34m(*args, **kwargs)\u001b[0m\n\u001b[1;32m     62\u001b[0m     \u001b[0mfiltered_tb\u001b[0m \u001b[0;34m=\u001b[0m \u001b[0;32mNone\u001b[0m\u001b[0;34m\u001b[0m\u001b[0;34m\u001b[0m\u001b[0m\n\u001b[1;32m     63\u001b[0m     \u001b[0;32mtry\u001b[0m\u001b[0;34m:\u001b[0m\u001b[0;34m\u001b[0m\u001b[0;34m\u001b[0m\u001b[0m\n\u001b[0;32m---> 64\u001b[0;31m       \u001b[0;32mreturn\u001b[0m \u001b[0mfn\u001b[0m\u001b[0;34m(\u001b[0m\u001b[0;34m*\u001b[0m\u001b[0margs\u001b[0m\u001b[0;34m,\u001b[0m \u001b[0;34m**\u001b[0m\u001b[0mkwargs\u001b[0m\u001b[0;34m)\u001b[0m\u001b[0;34m\u001b[0m\u001b[0;34m\u001b[0m\u001b[0m\n\u001b[0m\u001b[1;32m     65\u001b[0m     \u001b[0;32mexcept\u001b[0m \u001b[0mException\u001b[0m \u001b[0;32mas\u001b[0m \u001b[0me\u001b[0m\u001b[0;34m:\u001b[0m  \u001b[0;31m# pylint: disable=broad-except\u001b[0m\u001b[0;34m\u001b[0m\u001b[0;34m\u001b[0m\u001b[0m\n\u001b[1;32m     66\u001b[0m       \u001b[0mfiltered_tb\u001b[0m \u001b[0;34m=\u001b[0m \u001b[0m_process_traceback_frames\u001b[0m\u001b[0;34m(\u001b[0m\u001b[0me\u001b[0m\u001b[0;34m.\u001b[0m\u001b[0m__traceback__\u001b[0m\u001b[0;34m)\u001b[0m\u001b[0;34m\u001b[0m\u001b[0;34m\u001b[0m\u001b[0m\n",
            "\u001b[0;32m/usr/local/lib/python3.8/dist-packages/keras/engine/training.py\u001b[0m in \u001b[0;36mfit\u001b[0;34m(self, x, y, batch_size, epochs, verbose, callbacks, validation_split, validation_data, shuffle, class_weight, sample_weight, initial_epoch, steps_per_epoch, validation_steps, validation_batch_size, validation_freq, max_queue_size, workers, use_multiprocessing)\u001b[0m\n\u001b[1;32m   1407\u001b[0m                 _r=1):\n\u001b[1;32m   1408\u001b[0m               \u001b[0mcallbacks\u001b[0m\u001b[0;34m.\u001b[0m\u001b[0mon_train_batch_begin\u001b[0m\u001b[0;34m(\u001b[0m\u001b[0mstep\u001b[0m\u001b[0;34m)\u001b[0m\u001b[0;34m\u001b[0m\u001b[0;34m\u001b[0m\u001b[0m\n\u001b[0;32m-> 1409\u001b[0;31m               \u001b[0mtmp_logs\u001b[0m \u001b[0;34m=\u001b[0m \u001b[0mself\u001b[0m\u001b[0;34m.\u001b[0m\u001b[0mtrain_function\u001b[0m\u001b[0;34m(\u001b[0m\u001b[0miterator\u001b[0m\u001b[0;34m)\u001b[0m\u001b[0;34m\u001b[0m\u001b[0;34m\u001b[0m\u001b[0m\n\u001b[0m\u001b[1;32m   1410\u001b[0m               \u001b[0;32mif\u001b[0m \u001b[0mdata_handler\u001b[0m\u001b[0;34m.\u001b[0m\u001b[0mshould_sync\u001b[0m\u001b[0;34m:\u001b[0m\u001b[0;34m\u001b[0m\u001b[0;34m\u001b[0m\u001b[0m\n\u001b[1;32m   1411\u001b[0m                 \u001b[0mcontext\u001b[0m\u001b[0;34m.\u001b[0m\u001b[0masync_wait\u001b[0m\u001b[0;34m(\u001b[0m\u001b[0;34m)\u001b[0m\u001b[0;34m\u001b[0m\u001b[0;34m\u001b[0m\u001b[0m\n",
            "\u001b[0;32m/usr/local/lib/python3.8/dist-packages/tensorflow/python/util/traceback_utils.py\u001b[0m in \u001b[0;36merror_handler\u001b[0;34m(*args, **kwargs)\u001b[0m\n\u001b[1;32m    148\u001b[0m     \u001b[0mfiltered_tb\u001b[0m \u001b[0;34m=\u001b[0m \u001b[0;32mNone\u001b[0m\u001b[0;34m\u001b[0m\u001b[0;34m\u001b[0m\u001b[0m\n\u001b[1;32m    149\u001b[0m     \u001b[0;32mtry\u001b[0m\u001b[0;34m:\u001b[0m\u001b[0;34m\u001b[0m\u001b[0;34m\u001b[0m\u001b[0m\n\u001b[0;32m--> 150\u001b[0;31m       \u001b[0;32mreturn\u001b[0m \u001b[0mfn\u001b[0m\u001b[0;34m(\u001b[0m\u001b[0;34m*\u001b[0m\u001b[0margs\u001b[0m\u001b[0;34m,\u001b[0m \u001b[0;34m**\u001b[0m\u001b[0mkwargs\u001b[0m\u001b[0;34m)\u001b[0m\u001b[0;34m\u001b[0m\u001b[0;34m\u001b[0m\u001b[0m\n\u001b[0m\u001b[1;32m    151\u001b[0m     \u001b[0;32mexcept\u001b[0m \u001b[0mException\u001b[0m \u001b[0;32mas\u001b[0m \u001b[0me\u001b[0m\u001b[0;34m:\u001b[0m\u001b[0;34m\u001b[0m\u001b[0;34m\u001b[0m\u001b[0m\n\u001b[1;32m    152\u001b[0m       \u001b[0mfiltered_tb\u001b[0m \u001b[0;34m=\u001b[0m \u001b[0m_process_traceback_frames\u001b[0m\u001b[0;34m(\u001b[0m\u001b[0me\u001b[0m\u001b[0;34m.\u001b[0m\u001b[0m__traceback__\u001b[0m\u001b[0;34m)\u001b[0m\u001b[0;34m\u001b[0m\u001b[0;34m\u001b[0m\u001b[0m\n",
            "\u001b[0;32m/usr/local/lib/python3.8/dist-packages/tensorflow/python/eager/def_function.py\u001b[0m in \u001b[0;36m__call__\u001b[0;34m(self, *args, **kwds)\u001b[0m\n\u001b[1;32m    913\u001b[0m \u001b[0;34m\u001b[0m\u001b[0m\n\u001b[1;32m    914\u001b[0m       \u001b[0;32mwith\u001b[0m \u001b[0mOptionalXlaContext\u001b[0m\u001b[0;34m(\u001b[0m\u001b[0mself\u001b[0m\u001b[0;34m.\u001b[0m\u001b[0m_jit_compile\u001b[0m\u001b[0;34m)\u001b[0m\u001b[0;34m:\u001b[0m\u001b[0;34m\u001b[0m\u001b[0;34m\u001b[0m\u001b[0m\n\u001b[0;32m--> 915\u001b[0;31m         \u001b[0mresult\u001b[0m \u001b[0;34m=\u001b[0m \u001b[0mself\u001b[0m\u001b[0;34m.\u001b[0m\u001b[0m_call\u001b[0m\u001b[0;34m(\u001b[0m\u001b[0;34m*\u001b[0m\u001b[0margs\u001b[0m\u001b[0;34m,\u001b[0m \u001b[0;34m**\u001b[0m\u001b[0mkwds\u001b[0m\u001b[0;34m)\u001b[0m\u001b[0;34m\u001b[0m\u001b[0;34m\u001b[0m\u001b[0m\n\u001b[0m\u001b[1;32m    916\u001b[0m \u001b[0;34m\u001b[0m\u001b[0m\n\u001b[1;32m    917\u001b[0m       \u001b[0mnew_tracing_count\u001b[0m \u001b[0;34m=\u001b[0m \u001b[0mself\u001b[0m\u001b[0;34m.\u001b[0m\u001b[0mexperimental_get_tracing_count\u001b[0m\u001b[0;34m(\u001b[0m\u001b[0;34m)\u001b[0m\u001b[0;34m\u001b[0m\u001b[0;34m\u001b[0m\u001b[0m\n",
            "\u001b[0;32m/usr/local/lib/python3.8/dist-packages/tensorflow/python/eager/def_function.py\u001b[0m in \u001b[0;36m_call\u001b[0;34m(self, *args, **kwds)\u001b[0m\n\u001b[1;32m    945\u001b[0m       \u001b[0;31m# In this case we have created variables on the first call, so we run the\u001b[0m\u001b[0;34m\u001b[0m\u001b[0;34m\u001b[0m\u001b[0;34m\u001b[0m\u001b[0m\n\u001b[1;32m    946\u001b[0m       \u001b[0;31m# defunned version which is guaranteed to never create variables.\u001b[0m\u001b[0;34m\u001b[0m\u001b[0;34m\u001b[0m\u001b[0;34m\u001b[0m\u001b[0m\n\u001b[0;32m--> 947\u001b[0;31m       \u001b[0;32mreturn\u001b[0m \u001b[0mself\u001b[0m\u001b[0;34m.\u001b[0m\u001b[0m_stateless_fn\u001b[0m\u001b[0;34m(\u001b[0m\u001b[0;34m*\u001b[0m\u001b[0margs\u001b[0m\u001b[0;34m,\u001b[0m \u001b[0;34m**\u001b[0m\u001b[0mkwds\u001b[0m\u001b[0;34m)\u001b[0m  \u001b[0;31m# pylint: disable=not-callable\u001b[0m\u001b[0;34m\u001b[0m\u001b[0;34m\u001b[0m\u001b[0m\n\u001b[0m\u001b[1;32m    948\u001b[0m     \u001b[0;32melif\u001b[0m \u001b[0mself\u001b[0m\u001b[0;34m.\u001b[0m\u001b[0m_stateful_fn\u001b[0m \u001b[0;32mis\u001b[0m \u001b[0;32mnot\u001b[0m \u001b[0;32mNone\u001b[0m\u001b[0;34m:\u001b[0m\u001b[0;34m\u001b[0m\u001b[0;34m\u001b[0m\u001b[0m\n\u001b[1;32m    949\u001b[0m       \u001b[0;31m# Release the lock early so that multiple threads can perform the call\u001b[0m\u001b[0;34m\u001b[0m\u001b[0;34m\u001b[0m\u001b[0;34m\u001b[0m\u001b[0m\n",
            "\u001b[0;32m/usr/local/lib/python3.8/dist-packages/tensorflow/python/eager/function.py\u001b[0m in \u001b[0;36m__call__\u001b[0;34m(self, *args, **kwargs)\u001b[0m\n\u001b[1;32m   2451\u001b[0m       (graph_function,\n\u001b[1;32m   2452\u001b[0m        filtered_flat_args) = self._maybe_define_function(args, kwargs)\n\u001b[0;32m-> 2453\u001b[0;31m     return graph_function._call_flat(\n\u001b[0m\u001b[1;32m   2454\u001b[0m         filtered_flat_args, captured_inputs=graph_function.captured_inputs)  # pylint: disable=protected-access\n\u001b[1;32m   2455\u001b[0m \u001b[0;34m\u001b[0m\u001b[0m\n",
            "\u001b[0;32m/usr/local/lib/python3.8/dist-packages/tensorflow/python/eager/function.py\u001b[0m in \u001b[0;36m_call_flat\u001b[0;34m(self, args, captured_inputs, cancellation_manager)\u001b[0m\n\u001b[1;32m   1858\u001b[0m         and executing_eagerly):\n\u001b[1;32m   1859\u001b[0m       \u001b[0;31m# No tape is watching; skip to running the function.\u001b[0m\u001b[0;34m\u001b[0m\u001b[0;34m\u001b[0m\u001b[0;34m\u001b[0m\u001b[0m\n\u001b[0;32m-> 1860\u001b[0;31m       return self._build_call_outputs(self._inference_function.call(\n\u001b[0m\u001b[1;32m   1861\u001b[0m           ctx, args, cancellation_manager=cancellation_manager))\n\u001b[1;32m   1862\u001b[0m     forward_backward = self._select_forward_and_backward_functions(\n",
            "\u001b[0;32m/usr/local/lib/python3.8/dist-packages/tensorflow/python/eager/function.py\u001b[0m in \u001b[0;36mcall\u001b[0;34m(self, ctx, args, cancellation_manager)\u001b[0m\n\u001b[1;32m    495\u001b[0m       \u001b[0;32mwith\u001b[0m \u001b[0m_InterpolateFunctionError\u001b[0m\u001b[0;34m(\u001b[0m\u001b[0mself\u001b[0m\u001b[0;34m)\u001b[0m\u001b[0;34m:\u001b[0m\u001b[0;34m\u001b[0m\u001b[0;34m\u001b[0m\u001b[0m\n\u001b[1;32m    496\u001b[0m         \u001b[0;32mif\u001b[0m \u001b[0mcancellation_manager\u001b[0m \u001b[0;32mis\u001b[0m \u001b[0;32mNone\u001b[0m\u001b[0;34m:\u001b[0m\u001b[0;34m\u001b[0m\u001b[0;34m\u001b[0m\u001b[0m\n\u001b[0;32m--> 497\u001b[0;31m           outputs = execute.execute(\n\u001b[0m\u001b[1;32m    498\u001b[0m               \u001b[0mstr\u001b[0m\u001b[0;34m(\u001b[0m\u001b[0mself\u001b[0m\u001b[0;34m.\u001b[0m\u001b[0msignature\u001b[0m\u001b[0;34m.\u001b[0m\u001b[0mname\u001b[0m\u001b[0;34m)\u001b[0m\u001b[0;34m,\u001b[0m\u001b[0;34m\u001b[0m\u001b[0;34m\u001b[0m\u001b[0m\n\u001b[1;32m    499\u001b[0m               \u001b[0mnum_outputs\u001b[0m\u001b[0;34m=\u001b[0m\u001b[0mself\u001b[0m\u001b[0;34m.\u001b[0m\u001b[0m_num_outputs\u001b[0m\u001b[0;34m,\u001b[0m\u001b[0;34m\u001b[0m\u001b[0;34m\u001b[0m\u001b[0m\n",
            "\u001b[0;32m/usr/local/lib/python3.8/dist-packages/tensorflow/python/eager/execute.py\u001b[0m in \u001b[0;36mquick_execute\u001b[0;34m(op_name, num_outputs, inputs, attrs, ctx, name)\u001b[0m\n\u001b[1;32m     52\u001b[0m   \u001b[0;32mtry\u001b[0m\u001b[0;34m:\u001b[0m\u001b[0;34m\u001b[0m\u001b[0;34m\u001b[0m\u001b[0m\n\u001b[1;32m     53\u001b[0m     \u001b[0mctx\u001b[0m\u001b[0;34m.\u001b[0m\u001b[0mensure_initialized\u001b[0m\u001b[0;34m(\u001b[0m\u001b[0;34m)\u001b[0m\u001b[0;34m\u001b[0m\u001b[0;34m\u001b[0m\u001b[0m\n\u001b[0;32m---> 54\u001b[0;31m     tensors = pywrap_tfe.TFE_Py_Execute(ctx._handle, device_name, op_name,\n\u001b[0m\u001b[1;32m     55\u001b[0m                                         inputs, attrs, num_outputs)\n\u001b[1;32m     56\u001b[0m   \u001b[0;32mexcept\u001b[0m \u001b[0mcore\u001b[0m\u001b[0;34m.\u001b[0m\u001b[0m_NotOkStatusException\u001b[0m \u001b[0;32mas\u001b[0m \u001b[0me\u001b[0m\u001b[0;34m:\u001b[0m\u001b[0;34m\u001b[0m\u001b[0;34m\u001b[0m\u001b[0m\n",
            "\u001b[0;31mKeyboardInterrupt\u001b[0m: "
          ]
        }
      ]
    },
    {
      "cell_type": "code",
      "source": [
        "plot_training_hist(history3)"
      ],
      "metadata": {
        "id": "epW0wwVVLN8b",
        "colab": {
          "base_uri": "https://localhost:8080/",
          "height": 171
        },
        "outputId": "cb6da446-025c-4c43-a837-1136082a50f0"
      },
      "id": "epW0wwVVLN8b",
      "execution_count": 55,
      "outputs": [
        {
          "output_type": "error",
          "ename": "NameError",
          "evalue": "ignored",
          "traceback": [
            "\u001b[0;31m---------------------------------------------------------------------------\u001b[0m",
            "\u001b[0;31mNameError\u001b[0m                                 Traceback (most recent call last)",
            "\u001b[0;32m<ipython-input-55-b8bfb6db981f>\u001b[0m in \u001b[0;36m<module>\u001b[0;34m\u001b[0m\n\u001b[0;32m----> 1\u001b[0;31m \u001b[0mplot_training_hist\u001b[0m\u001b[0;34m(\u001b[0m\u001b[0mhistory3\u001b[0m\u001b[0;34m)\u001b[0m\u001b[0;34m\u001b[0m\u001b[0;34m\u001b[0m\u001b[0m\n\u001b[0m",
            "\u001b[0;31mNameError\u001b[0m: name 'history3' is not defined"
          ]
        }
      ]
    },
    {
      "cell_type": "markdown",
      "source": [
        "LSTM + Dropout"
      ],
      "metadata": {
        "id": "s0ViqHM4gaR7"
      },
      "id": "s0ViqHM4gaR7"
    },
    {
      "cell_type": "code",
      "source": [
        "lstm_model = Sequential(name=\"LSTM_Model\")\n",
        "lstm_model.add(Embedding(len(tokenizer.word_index)+1, embd_len, input_length=max_length))\n",
        "lstm_model.add(LSTM(16, activation='tanh', return_sequences=False))\n",
        "lstm_model.add(Dropout(0.5))\n",
        "lstm_model.add(Dense(16, activation='relu'))\n",
        "lstm_model.add(Dense(1, activation='softmax'))\n",
        "\n",
        "print(lstm_model.summary())\n",
        "\n",
        "lstm_model.compile( loss=\"binary_crossentropy\", optimizer='adam', metrics=['accuracy'])\n",
        "\n",
        "history4 = lstm_model.fit(x_train_, y_train_, batch_size=64, epochs=10, verbose=1, validation_data=(x_valid, y_valid))\n",
        "\n",
        "print()\n",
        "print(\"LSTM model Score---> \", lstm_model.evaluate(x_test, y_test, verbose=0))\n"
      ],
      "metadata": {
        "colab": {
          "base_uri": "https://localhost:8080/"
        },
        "id": "eElZovFvgc-u",
        "outputId": "742f6f64-9595-44d5-87a5-56f199e136bc"
      },
      "id": "eElZovFvgc-u",
      "execution_count": 63,
      "outputs": [
        {
          "output_type": "stream",
          "name": "stdout",
          "text": [
            "Model: \"LSTM_Model\"\n",
            "_________________________________________________________________\n",
            " Layer (type)                Output Shape              Param #   \n",
            "=================================================================\n",
            " embedding_18 (Embedding)    (None, 311, 32)           636544    \n",
            "                                                                 \n",
            " lstm_14 (LSTM)              (None, 16)                3136      \n",
            "                                                                 \n",
            " dropout (Dropout)           (None, 16)                0         \n",
            "                                                                 \n",
            " dense_27 (Dense)            (None, 16)                272       \n",
            "                                                                 \n",
            " dense_28 (Dense)            (None, 1)                 17        \n",
            "                                                                 \n",
            "=================================================================\n",
            "Total params: 639,969\n",
            "Trainable params: 639,969\n",
            "Non-trainable params: 0\n",
            "_________________________________________________________________\n",
            "None\n",
            "Epoch 1/10\n",
            "755/755 [==============================] - 141s 184ms/step - loss: 0.6761 - accuracy: 0.5968 - val_loss: 0.6722 - val_accuracy: 0.6020\n",
            "Epoch 2/10\n",
            "755/755 [==============================] - 132s 175ms/step - loss: 0.6745 - accuracy: 0.5968 - val_loss: 0.6727 - val_accuracy: 0.6020\n",
            "Epoch 3/10\n",
            "755/755 [==============================] - 151s 200ms/step - loss: 0.6745 - accuracy: 0.5968 - val_loss: 0.6723 - val_accuracy: 0.6020\n",
            "Epoch 4/10\n",
            "755/755 [==============================] - 154s 203ms/step - loss: 0.6744 - accuracy: 0.5968 - val_loss: 0.6723 - val_accuracy: 0.6020\n",
            "Epoch 5/10\n",
            "755/755 [==============================] - 137s 182ms/step - loss: 0.6745 - accuracy: 0.5968 - val_loss: 0.6723 - val_accuracy: 0.6020\n",
            "Epoch 6/10\n",
            "755/755 [==============================] - 137s 181ms/step - loss: 0.6744 - accuracy: 0.5968 - val_loss: 0.6723 - val_accuracy: 0.6020\n",
            "Epoch 7/10\n",
            "755/755 [==============================] - 136s 180ms/step - loss: 0.6744 - accuracy: 0.5968 - val_loss: 0.6725 - val_accuracy: 0.6020\n",
            "Epoch 8/10\n",
            "755/755 [==============================] - 138s 182ms/step - loss: 0.6744 - accuracy: 0.5968 - val_loss: 0.6722 - val_accuracy: 0.6020\n",
            "Epoch 9/10\n",
            "755/755 [==============================] - 136s 180ms/step - loss: 0.6743 - accuracy: 0.5968 - val_loss: 0.6722 - val_accuracy: 0.6020\n",
            "Epoch 10/10\n",
            "755/755 [==============================] - 136s 180ms/step - loss: 0.6743 - accuracy: 0.5968 - val_loss: 0.6722 - val_accuracy: 0.6020\n",
            "\n",
            "LSTM model Score--->  [0.6724138855934143, 0.6015098690986633]\n"
          ]
        }
      ]
    },
    {
      "cell_type": "code",
      "source": [
        "plot_training_hist(history4)"
      ],
      "metadata": {
        "id": "ewlye-F4gd4L",
        "colab": {
          "base_uri": "https://localhost:8080/",
          "height": 295
        },
        "outputId": "43e65159-a10c-436d-8e26-fcd083129b20"
      },
      "id": "ewlye-F4gd4L",
      "execution_count": 64,
      "outputs": [
        {
          "output_type": "display_data",
          "data": {
            "text/plain": [
              "<Figure size 1080x288 with 2 Axes>"
            ],
            "image/png": "[encoded data removed]"
          },
          "metadata": {
            "needs_background": "light"
          }
        }
      ]
    },
    {
      "cell_type": "markdown",
      "id": "78427bf2",
      "metadata": {
        "id": "78427bf2"
      },
      "source": [
        "#### Bi-Directional LSTM"
      ]
    },
    {
      "cell_type": "code",
      "execution_count": 60,
      "id": "2d2a7782",
      "metadata": {
        "colab": {
          "base_uri": "https://localhost:8080/",
          "height": 979
        },
        "id": "2d2a7782",
        "outputId": "f5506163-6eae-43e8-b753-1b11e32f2f5c"
      },
      "outputs": [
        {
          "output_type": "stream",
          "name": "stdout",
          "text": [
            "Model: \"Bidirectional_LSTM\"\n",
            "_________________________________________________________________\n",
            " Layer (type)                Output Shape              Param #   \n",
            "=================================================================\n",
            " embedding_16 (Embedding)    (None, 311, 32)           636544    \n",
            "                                                                 \n",
            " bidirectional_2 (Bidirectio  (None, 311, 128)         49664     \n",
            " nal)                                                            \n",
            "                                                                 \n",
            " bidirectional_3 (Bidirectio  (None, 64)               41216     \n",
            " nal)                                                            \n",
            "                                                                 \n",
            " dense_25 (Dense)            (None, 16)                1040      \n",
            "                                                                 \n",
            " dense_26 (Dense)            (None, 1)                 17        \n",
            "                                                                 \n",
            "=================================================================\n",
            "Total params: 728,481\n",
            "Trainable params: 728,481\n",
            "Non-trainable params: 0\n",
            "_________________________________________________________________\n",
            "None\n",
            "Epoch 1/20\n",
            "755/755 [==============================] - 805s 1s/step - loss: 0.4882 - accuracy: 0.7867 - val_loss: 0.4332 - val_accuracy: 0.8118\n",
            "Epoch 2/20\n",
            "755/755 [==============================] - 792s 1s/step - loss: 0.4186 - accuracy: 0.8186 - val_loss: 0.8780 - val_accuracy: 0.4017\n",
            "Epoch 3/20\n",
            "755/755 [==============================] - 808s 1s/step - loss: 0.4426 - accuracy: 0.8005 - val_loss: 0.4424 - val_accuracy: 0.8222\n",
            "Epoch 4/20\n",
            "755/755 [==============================] - 833s 1s/step - loss: 0.3918 - accuracy: 0.8317 - val_loss: 0.4696 - val_accuracy: 0.8113\n",
            "Epoch 5/20\n",
            "600/755 [======================>.......] - ETA: 2:35 - loss: 0.4089 - accuracy: 0.8176"
          ]
        },
        {
          "output_type": "error",
          "ename": "KeyboardInterrupt",
          "evalue": "ignored",
          "traceback": [
            "\u001b[0;31m---------------------------------------------------------------------------\u001b[0m",
            "\u001b[0;31mKeyboardInterrupt\u001b[0m                         Traceback (most recent call last)",
            "\u001b[0;32m<ipython-input-60-ab8cd44c4e08>\u001b[0m in \u001b[0;36m<module>\u001b[0;34m\u001b[0m\n\u001b[1;32m     14\u001b[0m )\n\u001b[1;32m     15\u001b[0m \u001b[0;34m\u001b[0m\u001b[0m\n\u001b[0;32m---> 16\u001b[0;31m \u001b[0mhistory5\u001b[0m \u001b[0;34m=\u001b[0m \u001b[0mbi_lstm_model\u001b[0m\u001b[0;34m.\u001b[0m\u001b[0mfit\u001b[0m\u001b[0;34m(\u001b[0m\u001b[0mx_train_\u001b[0m\u001b[0;34m,\u001b[0m \u001b[0my_train_\u001b[0m\u001b[0;34m,\u001b[0m \u001b[0mbatch_size\u001b[0m\u001b[0;34m=\u001b[0m\u001b[0;36m64\u001b[0m\u001b[0;34m,\u001b[0m \u001b[0mepochs\u001b[0m\u001b[0;34m=\u001b[0m\u001b[0;36m20\u001b[0m\u001b[0;34m,\u001b[0m \u001b[0mverbose\u001b[0m\u001b[0;34m=\u001b[0m\u001b[0;36m1\u001b[0m\u001b[0;34m,\u001b[0m \u001b[0mvalidation_data\u001b[0m\u001b[0;34m=\u001b[0m\u001b[0;34m(\u001b[0m\u001b[0mx_test\u001b[0m\u001b[0;34m,\u001b[0m \u001b[0my_test\u001b[0m\u001b[0;34m)\u001b[0m\u001b[0;34m)\u001b[0m\u001b[0;34m\u001b[0m\u001b[0;34m\u001b[0m\u001b[0m\n\u001b[0m\u001b[1;32m     17\u001b[0m \u001b[0;34m\u001b[0m\u001b[0m\n\u001b[1;32m     18\u001b[0m \u001b[0mprint\u001b[0m\u001b[0;34m(\u001b[0m\u001b[0;34m)\u001b[0m\u001b[0;34m\u001b[0m\u001b[0;34m\u001b[0m\u001b[0m\n",
            "\u001b[0;32m/usr/local/lib/python3.8/dist-packages/keras/utils/traceback_utils.py\u001b[0m in \u001b[0;36merror_handler\u001b[0;34m(*args, **kwargs)\u001b[0m\n\u001b[1;32m     62\u001b[0m     \u001b[0mfiltered_tb\u001b[0m \u001b[0;34m=\u001b[0m \u001b[0;32mNone\u001b[0m\u001b[0;34m\u001b[0m\u001b[0;34m\u001b[0m\u001b[0m\n\u001b[1;32m     63\u001b[0m     \u001b[0;32mtry\u001b[0m\u001b[0;34m:\u001b[0m\u001b[0;34m\u001b[0m\u001b[0;34m\u001b[0m\u001b[0m\n\u001b[0;32m---> 64\u001b[0;31m       \u001b[0;32mreturn\u001b[0m \u001b[0mfn\u001b[0m\u001b[0;34m(\u001b[0m\u001b[0;34m*\u001b[0m\u001b[0margs\u001b[0m\u001b[0;34m,\u001b[0m \u001b[0;34m**\u001b[0m\u001b[0mkwargs\u001b[0m\u001b[0;34m)\u001b[0m\u001b[0;34m\u001b[0m\u001b[0;34m\u001b[0m\u001b[0m\n\u001b[0m\u001b[1;32m     65\u001b[0m     \u001b[0;32mexcept\u001b[0m \u001b[0mException\u001b[0m \u001b[0;32mas\u001b[0m \u001b[0me\u001b[0m\u001b[0;34m:\u001b[0m  \u001b[0;31m# pylint: disable=broad-except\u001b[0m\u001b[0;34m\u001b[0m\u001b[0;34m\u001b[0m\u001b[0m\n\u001b[1;32m     66\u001b[0m       \u001b[0mfiltered_tb\u001b[0m \u001b[0;34m=\u001b[0m \u001b[0m_process_traceback_frames\u001b[0m\u001b[0;34m(\u001b[0m\u001b[0me\u001b[0m\u001b[0;34m.\u001b[0m\u001b[0m__traceback__\u001b[0m\u001b[0;34m)\u001b[0m\u001b[0;34m\u001b[0m\u001b[0;34m\u001b[0m\u001b[0m\n",
            "\u001b[0;32m/usr/local/lib/python3.8/dist-packages/keras/engine/training.py\u001b[0m in \u001b[0;36mfit\u001b[0;34m(self, x, y, batch_size, epochs, verbose, callbacks, validation_split, validation_data, shuffle, class_weight, sample_weight, initial_epoch, steps_per_epoch, validation_steps, validation_batch_size, validation_freq, max_queue_size, workers, use_multiprocessing)\u001b[0m\n\u001b[1;32m   1407\u001b[0m                 _r=1):\n\u001b[1;32m   1408\u001b[0m               \u001b[0mcallbacks\u001b[0m\u001b[0;34m.\u001b[0m\u001b[0mon_train_batch_begin\u001b[0m\u001b[0;34m(\u001b[0m\u001b[0mstep\u001b[0m\u001b[0;34m)\u001b[0m\u001b[0;34m\u001b[0m\u001b[0;34m\u001b[0m\u001b[0m\n\u001b[0;32m-> 1409\u001b[0;31m               \u001b[0mtmp_logs\u001b[0m \u001b[0;34m=\u001b[0m \u001b[0mself\u001b[0m\u001b[0;34m.\u001b[0m\u001b[0mtrain_function\u001b[0m\u001b[0;34m(\u001b[0m\u001b[0miterator\u001b[0m\u001b[0;34m)\u001b[0m\u001b[0;34m\u001b[0m\u001b[0;34m\u001b[0m\u001b[0m\n\u001b[0m\u001b[1;32m   1410\u001b[0m               \u001b[0;32mif\u001b[0m \u001b[0mdata_handler\u001b[0m\u001b[0;34m.\u001b[0m\u001b[0mshould_sync\u001b[0m\u001b[0;34m:\u001b[0m\u001b[0;34m\u001b[0m\u001b[0;34m\u001b[0m\u001b[0m\n\u001b[1;32m   1411\u001b[0m                 \u001b[0mcontext\u001b[0m\u001b[0;34m.\u001b[0m\u001b[0masync_wait\u001b[0m\u001b[0;34m(\u001b[0m\u001b[0;34m)\u001b[0m\u001b[0;34m\u001b[0m\u001b[0;34m\u001b[0m\u001b[0m\n",
            "\u001b[0;32m/usr/local/lib/python3.8/dist-packages/tensorflow/python/util/traceback_utils.py\u001b[0m in \u001b[0;36merror_handler\u001b[0;34m(*args, **kwargs)\u001b[0m\n\u001b[1;32m    148\u001b[0m     \u001b[0mfiltered_tb\u001b[0m \u001b[0;34m=\u001b[0m \u001b[0;32mNone\u001b[0m\u001b[0;34m\u001b[0m\u001b[0;34m\u001b[0m\u001b[0m\n\u001b[1;32m    149\u001b[0m     \u001b[0;32mtry\u001b[0m\u001b[0;34m:\u001b[0m\u001b[0;34m\u001b[0m\u001b[0;34m\u001b[0m\u001b[0m\n\u001b[0;32m--> 150\u001b[0;31m       \u001b[0;32mreturn\u001b[0m \u001b[0mfn\u001b[0m\u001b[0;34m(\u001b[0m\u001b[0;34m*\u001b[0m\u001b[0margs\u001b[0m\u001b[0;34m,\u001b[0m \u001b[0;34m**\u001b[0m\u001b[0mkwargs\u001b[0m\u001b[0;34m)\u001b[0m\u001b[0;34m\u001b[0m\u001b[0;34m\u001b[0m\u001b[0m\n\u001b[0m\u001b[1;32m    151\u001b[0m     \u001b[0;32mexcept\u001b[0m \u001b[0mException\u001b[0m \u001b[0;32mas\u001b[0m \u001b[0me\u001b[0m\u001b[0;34m:\u001b[0m\u001b[0;34m\u001b[0m\u001b[0;34m\u001b[0m\u001b[0m\n\u001b[1;32m    152\u001b[0m       \u001b[0mfiltered_tb\u001b[0m \u001b[0;34m=\u001b[0m \u001b[0m_process_traceback_frames\u001b[0m\u001b[0;34m(\u001b[0m\u001b[0me\u001b[0m\u001b[0;34m.\u001b[0m\u001b[0m__traceback__\u001b[0m\u001b[0;34m)\u001b[0m\u001b[0;34m\u001b[0m\u001b[0;34m\u001b[0m\u001b[0m\n",
            "\u001b[0;32m/usr/local/lib/python3.8/dist-packages/tensorflow/python/eager/def_function.py\u001b[0m in \u001b[0;36m__call__\u001b[0;34m(self, *args, **kwds)\u001b[0m\n\u001b[1;32m    913\u001b[0m \u001b[0;34m\u001b[0m\u001b[0m\n\u001b[1;32m    914\u001b[0m       \u001b[0;32mwith\u001b[0m \u001b[0mOptionalXlaContext\u001b[0m\u001b[0;34m(\u001b[0m\u001b[0mself\u001b[0m\u001b[0;34m.\u001b[0m\u001b[0m_jit_compile\u001b[0m\u001b[0;34m)\u001b[0m\u001b[0;34m:\u001b[0m\u001b[0;34m\u001b[0m\u001b[0;34m\u001b[0m\u001b[0m\n\u001b[0;32m--> 915\u001b[0;31m         \u001b[0mresult\u001b[0m \u001b[0;34m=\u001b[0m \u001b[0mself\u001b[0m\u001b[0;34m.\u001b[0m\u001b[0m_call\u001b[0m\u001b[0;34m(\u001b[0m\u001b[0;34m*\u001b[0m\u001b[0margs\u001b[0m\u001b[0;34m,\u001b[0m \u001b[0;34m**\u001b[0m\u001b[0mkwds\u001b[0m\u001b[0;34m)\u001b[0m\u001b[0;34m\u001b[0m\u001b[0;34m\u001b[0m\u001b[0m\n\u001b[0m\u001b[1;32m    916\u001b[0m \u001b[0;34m\u001b[0m\u001b[0m\n\u001b[1;32m    917\u001b[0m       \u001b[0mnew_tracing_count\u001b[0m \u001b[0;34m=\u001b[0m \u001b[0mself\u001b[0m\u001b[0;34m.\u001b[0m\u001b[0mexperimental_get_tracing_count\u001b[0m\u001b[0;34m(\u001b[0m\u001b[0;34m)\u001b[0m\u001b[0;34m\u001b[0m\u001b[0;34m\u001b[0m\u001b[0m\n",
            "\u001b[0;32m/usr/local/lib/python3.8/dist-packages/tensorflow/python/eager/def_function.py\u001b[0m in \u001b[0;36m_call\u001b[0;34m(self, *args, **kwds)\u001b[0m\n\u001b[1;32m    945\u001b[0m       \u001b[0;31m# In this case we have created variables on the first call, so we run the\u001b[0m\u001b[0;34m\u001b[0m\u001b[0;34m\u001b[0m\u001b[0;34m\u001b[0m\u001b[0m\n\u001b[1;32m    946\u001b[0m       \u001b[0;31m# defunned version which is guaranteed to never create variables.\u001b[0m\u001b[0;34m\u001b[0m\u001b[0;34m\u001b[0m\u001b[0;34m\u001b[0m\u001b[0m\n\u001b[0;32m--> 947\u001b[0;31m       \u001b[0;32mreturn\u001b[0m \u001b[0mself\u001b[0m\u001b[0;34m.\u001b[0m\u001b[0m_stateless_fn\u001b[0m\u001b[0;34m(\u001b[0m\u001b[0;34m*\u001b[0m\u001b[0margs\u001b[0m\u001b[0;34m,\u001b[0m \u001b[0;34m**\u001b[0m\u001b[0mkwds\u001b[0m\u001b[0;34m)\u001b[0m  \u001b[0;31m# pylint: disable=not-callable\u001b[0m\u001b[0;34m\u001b[0m\u001b[0;34m\u001b[0m\u001b[0m\n\u001b[0m\u001b[1;32m    948\u001b[0m     \u001b[0;32melif\u001b[0m \u001b[0mself\u001b[0m\u001b[0;34m.\u001b[0m\u001b[0m_stateful_fn\u001b[0m \u001b[0;32mis\u001b[0m \u001b[0;32mnot\u001b[0m \u001b[0;32mNone\u001b[0m\u001b[0;34m:\u001b[0m\u001b[0;34m\u001b[0m\u001b[0;34m\u001b[0m\u001b[0m\n\u001b[1;32m    949\u001b[0m       \u001b[0;31m# Release the lock early so that multiple threads can perform the call\u001b[0m\u001b[0;34m\u001b[0m\u001b[0;34m\u001b[0m\u001b[0;34m\u001b[0m\u001b[0m\n",
            "\u001b[0;32m/usr/local/lib/python3.8/dist-packages/tensorflow/python/eager/function.py\u001b[0m in \u001b[0;36m__call__\u001b[0;34m(self, *args, **kwargs)\u001b[0m\n\u001b[1;32m   2451\u001b[0m       (graph_function,\n\u001b[1;32m   2452\u001b[0m        filtered_flat_args) = self._maybe_define_function(args, kwargs)\n\u001b[0;32m-> 2453\u001b[0;31m     return graph_function._call_flat(\n\u001b[0m\u001b[1;32m   2454\u001b[0m         filtered_flat_args, captured_inputs=graph_function.captured_inputs)  # pylint: disable=protected-access\n\u001b[1;32m   2455\u001b[0m \u001b[0;34m\u001b[0m\u001b[0m\n",
            "\u001b[0;32m/usr/local/lib/python3.8/dist-packages/tensorflow/python/eager/function.py\u001b[0m in \u001b[0;36m_call_flat\u001b[0;34m(self, args, captured_inputs, cancellation_manager)\u001b[0m\n\u001b[1;32m   1858\u001b[0m         and executing_eagerly):\n\u001b[1;32m   1859\u001b[0m       \u001b[0;31m# No tape is watching; skip to running the function.\u001b[0m\u001b[0;34m\u001b[0m\u001b[0;34m\u001b[0m\u001b[0;34m\u001b[0m\u001b[0m\n\u001b[0;32m-> 1860\u001b[0;31m       return self._build_call_outputs(self._inference_function.call(\n\u001b[0m\u001b[1;32m   1861\u001b[0m           ctx, args, cancellation_manager=cancellation_manager))\n\u001b[1;32m   1862\u001b[0m     forward_backward = self._select_forward_and_backward_functions(\n",
            "\u001b[0;32m/usr/local/lib/python3.8/dist-packages/tensorflow/python/eager/function.py\u001b[0m in \u001b[0;36mcall\u001b[0;34m(self, ctx, args, cancellation_manager)\u001b[0m\n\u001b[1;32m    495\u001b[0m       \u001b[0;32mwith\u001b[0m \u001b[0m_InterpolateFunctionError\u001b[0m\u001b[0;34m(\u001b[0m\u001b[0mself\u001b[0m\u001b[0;34m)\u001b[0m\u001b[0;34m:\u001b[0m\u001b[0;34m\u001b[0m\u001b[0;34m\u001b[0m\u001b[0m\n\u001b[1;32m    496\u001b[0m         \u001b[0;32mif\u001b[0m \u001b[0mcancellation_manager\u001b[0m \u001b[0;32mis\u001b[0m \u001b[0;32mNone\u001b[0m\u001b[0;34m:\u001b[0m\u001b[0;34m\u001b[0m\u001b[0;34m\u001b[0m\u001b[0m\n\u001b[0;32m--> 497\u001b[0;31m           outputs = execute.execute(\n\u001b[0m\u001b[1;32m    498\u001b[0m               \u001b[0mstr\u001b[0m\u001b[0;34m(\u001b[0m\u001b[0mself\u001b[0m\u001b[0;34m.\u001b[0m\u001b[0msignature\u001b[0m\u001b[0;34m.\u001b[0m\u001b[0mname\u001b[0m\u001b[0;34m)\u001b[0m\u001b[0;34m,\u001b[0m\u001b[0;34m\u001b[0m\u001b[0;34m\u001b[0m\u001b[0m\n\u001b[1;32m    499\u001b[0m               \u001b[0mnum_outputs\u001b[0m\u001b[0;34m=\u001b[0m\u001b[0mself\u001b[0m\u001b[0;34m.\u001b[0m\u001b[0m_num_outputs\u001b[0m\u001b[0;34m,\u001b[0m\u001b[0;34m\u001b[0m\u001b[0;34m\u001b[0m\u001b[0m\n",
            "\u001b[0;32m/usr/local/lib/python3.8/dist-packages/tensorflow/python/eager/execute.py\u001b[0m in \u001b[0;36mquick_execute\u001b[0;34m(op_name, num_outputs, inputs, attrs, ctx, name)\u001b[0m\n\u001b[1;32m     52\u001b[0m   \u001b[0;32mtry\u001b[0m\u001b[0;34m:\u001b[0m\u001b[0;34m\u001b[0m\u001b[0;34m\u001b[0m\u001b[0m\n\u001b[1;32m     53\u001b[0m     \u001b[0mctx\u001b[0m\u001b[0;34m.\u001b[0m\u001b[0mensure_initialized\u001b[0m\u001b[0;34m(\u001b[0m\u001b[0;34m)\u001b[0m\u001b[0;34m\u001b[0m\u001b[0;34m\u001b[0m\u001b[0m\n\u001b[0;32m---> 54\u001b[0;31m     tensors = pywrap_tfe.TFE_Py_Execute(ctx._handle, device_name, op_name,\n\u001b[0m\u001b[1;32m     55\u001b[0m                                         inputs, attrs, num_outputs)\n\u001b[1;32m     56\u001b[0m   \u001b[0;32mexcept\u001b[0m \u001b[0mcore\u001b[0m\u001b[0;34m.\u001b[0m\u001b[0m_NotOkStatusException\u001b[0m \u001b[0;32mas\u001b[0m \u001b[0me\u001b[0m\u001b[0;34m:\u001b[0m\u001b[0;34m\u001b[0m\u001b[0;34m\u001b[0m\u001b[0m\n",
            "\u001b[0;31mKeyboardInterrupt\u001b[0m: "
          ]
        }
      ],
      "source": [
        "bi_lstm_model = Sequential(name=\"Bidirectional_LSTM\")\n",
        "bi_lstm_model.add(Embedding(len(tokenizer.word_index)+1, embd_len, input_length=max_length))\n",
        "bi_lstm_model.add(Bidirectional(LSTM(64, activation='tanh', return_sequences=True)))\n",
        "bi_lstm_model.add(Bidirectional(LSTM(32)))\n",
        "bi_lstm_model.add(Dense(16, activation='relu'))\n",
        "bi_lstm_model.add(Dense(1, activation='relu'))\n",
        "\n",
        "print(bi_lstm_model.summary())\n",
        "\n",
        "bi_lstm_model.compile(\n",
        "loss=\"binary_crossentropy\",\n",
        "optimizer='adam',\n",
        "metrics=['accuracy']\n",
        ")\n",
        "\n",
        "history5 = bi_lstm_model.fit(x_train_, y_train_, batch_size=64, epochs=20, verbose=1, validation_data=(x_test, y_test))\n",
        "\n",
        "print()\n",
        "print(\"Bidirectional LSTM model Score---> \", bi_lstm_model.evaluate(x_test, y_test, verbose=0))\n"
      ]
    },
    {
      "cell_type": "code",
      "source": [
        "plot_training_hist(history5)"
      ],
      "metadata": {
        "id": "dqscNIC_LOjd"
      },
      "id": "dqscNIC_LOjd",
      "execution_count": null,
      "outputs": []
    },
    {
      "cell_type": "markdown",
      "source": [
        "Bi Directional 2"
      ],
      "metadata": {
        "id": "SyXIbQeyr1Ax"
      },
      "id": "SyXIbQeyr1Ax"
    },
    {
      "cell_type": "code",
      "source": [
        "bi_lstm_model = Sequential(name=\"Bidirectional_LSTM\")\n",
        "bi_lstm_model.add(Embedding(len(tokenizer.word_index)+1, embd_len, input_length=max_length))\n",
        "bi_lstm_model.add(Bidirectional(LSTM(64, activation='tanh', return_sequences=False)))\n",
        "# bi_lstm_model.add(Bidirectional(LSTM(32)))\n",
        "bi_lstm_model.add(Dense(16, activation='relu'))\n",
        "bi_lstm_model.add(Dense(1, activation='relu'))\n",
        "\n",
        "print(bi_lstm_model.summary())\n",
        "\n",
        "bi_lstm_model.compile(\n",
        "loss=\"binary_crossentropy\",\n",
        "optimizer='adam',\n",
        "metrics=['accuracy']\n",
        ")\n",
        "\n",
        "history6 = bi_lstm_model.fit(x_train_, y_train_, batch_size=64, epochs=10, verbose=1, validation_data=(x_test, y_test))\n",
        "\n",
        "print()\n",
        "print(\"Bidirectional LSTM model Score---> \", bi_lstm_model.evaluate(x_test, y_test, verbose=0))\n"
      ],
      "metadata": {
        "colab": {
          "base_uri": "https://localhost:8080/"
        },
        "id": "_lt_1vrdL3Xr",
        "outputId": "13bf4c8c-0ed4-4e8b-8d2c-c2b5d5d9438b"
      },
      "id": "_lt_1vrdL3Xr",
      "execution_count": null,
      "outputs": [
        {
          "output_type": "stream",
          "name": "stdout",
          "text": [
            "Model: \"Bidirectional_LSTM\"\n",
            "_________________________________________________________________\n",
            " Layer (type)                Output Shape              Param #   \n",
            "=================================================================\n",
            " embedding_10 (Embedding)    (None, 311, 32)           636544    \n",
            "                                                                 \n",
            " bidirectional_8 (Bidirectio  (None, 128)              49664     \n",
            " nal)                                                            \n",
            "                                                                 \n",
            " dense_17 (Dense)            (None, 16)                2064      \n",
            "                                                                 \n",
            " dense_18 (Dense)            (None, 1)                 17        \n",
            "                                                                 \n",
            "=================================================================\n",
            "Total params: 688,289\n",
            "Trainable params: 688,289\n",
            "Non-trainable params: 0\n",
            "_________________________________________________________________\n",
            "None\n",
            "Epoch 1/10\n",
            "769/769 [==============================] - 25s 29ms/step - loss: 0.4853 - accuracy: 0.7782 - val_loss: 0.6918 - val_accuracy: 0.5801\n",
            "Epoch 2/10\n",
            "769/769 [==============================] - 21s 27ms/step - loss: 0.4353 - accuracy: 0.8136 - val_loss: 0.4383 - val_accuracy: 0.8267\n",
            "Epoch 3/10\n",
            "769/769 [==============================] - 21s 28ms/step - loss: 0.3753 - accuracy: 0.8456 - val_loss: 0.4269 - val_accuracy: 0.8225\n",
            "Epoch 4/10\n",
            "769/769 [==============================] - 21s 27ms/step - loss: 0.3539 - accuracy: 0.8624 - val_loss: 0.4937 - val_accuracy: 0.8235\n",
            "Epoch 5/10\n",
            "769/769 [==============================] - 21s 27ms/step - loss: 0.3567 - accuracy: 0.8548 - val_loss: 0.5039 - val_accuracy: 0.8140\n",
            "Epoch 6/10\n",
            "769/769 [==============================] - 21s 27ms/step - loss: 0.3193 - accuracy: 0.8780 - val_loss: 0.5467 - val_accuracy: 0.8195\n",
            "Epoch 7/10\n",
            "769/769 [==============================] - 20s 26ms/step - loss: 0.3605 - accuracy: 0.8541 - val_loss: 0.5103 - val_accuracy: 0.8197\n",
            "Epoch 8/10\n",
            "769/769 [==============================] - 21s 27ms/step - loss: 0.3153 - accuracy: 0.8766 - val_loss: 0.5596 - val_accuracy: 0.8125\n",
            "Epoch 9/10\n",
            "769/769 [==============================] - 21s 27ms/step - loss: 0.3093 - accuracy: 0.8789 - val_loss: 0.6926 - val_accuracy: 0.8126\n",
            "Epoch 10/10\n",
            "769/769 [==============================] - 20s 26ms/step - loss: 0.3011 - accuracy: 0.8835 - val_loss: 0.5485 - val_accuracy: 0.8016\n",
            "\n",
            "Bidirectional LSTM model Score--->  [0.5485439896583557, 0.8016072511672974]\n"
          ]
        }
      ]
    },
    {
      "cell_type": "code",
      "source": [
        "plot_training_hist(history6)"
      ],
      "metadata": {
        "colab": {
          "base_uri": "https://localhost:8080/",
          "height": 295
        },
        "id": "QcpmYBXhsESG",
        "outputId": "638fec54-431f-4fde-f2d0-06ad2b057f2b"
      },
      "id": "QcpmYBXhsESG",
      "execution_count": null,
      "outputs": [
        {
          "output_type": "display_data",
          "data": {
            "text/plain": [
              "<Figure size 720x288 with 2 Axes>"
            ],
            "image/png": "[encoded data removed]"
          },
          "metadata": {
            "needs_background": "light"
          }
        }
      ]
    },
    {
      "cell_type": "code",
      "source": [],
      "metadata": {
        "id": "XheskZUZuM6F"
      },
      "id": "XheskZUZuM6F",
      "execution_count": null,
      "outputs": []
    },
    {
      "cell_type": "markdown",
      "source": [
        "Bi 3"
      ],
      "metadata": {
        "id": "RasdjuHHuVxb"
      },
      "id": "RasdjuHHuVxb"
    },
    {
      "cell_type": "code",
      "source": [
        "bi_lstm_model = Sequential(name=\"Bidirectional_LSTM\")\n",
        "bi_lstm_model.add(Embedding(len(tokenizer.word_index)+1, embd_len, input_length=max_length))\n",
        "bi_lstm_model.add(Bidirectional(LSTM(64, activation='tanh', return_sequences=True)))\n",
        "bi_lstm_model.add(Bidirectional(LSTM(64)))\n",
        "bi_lstm_model.add(Dense(16, activation='relu'))\n",
        "bi_lstm_model.add(Dense(1, activation='relu'))\n",
        "\n",
        "print(bi_lstm_model.summary())\n",
        "\n",
        "bi_lstm_model.compile(\n",
        "loss=\"binary_crossentropy\",\n",
        "optimizer='adam',\n",
        "metrics=['accuracy']\n",
        ")\n",
        "\n",
        "history7 = bi_lstm_model.fit(x_train_, y_train_, batch_size=64, epochs=10, verbose=1, validation_data=(x_test, y_test))\n",
        "\n",
        "# Printing model score on test data\n",
        "print()\n",
        "print(\"Bidirectional LSTM model Score---> \", bi_lstm_model.evaluate(x_test, y_test, verbose=0))\n"
      ],
      "metadata": {
        "colab": {
          "base_uri": "https://localhost:8080/"
        },
        "id": "2R4uvmgQuW2O",
        "outputId": "cbaf83e0-7d29-42da-94db-b4fd33c1eade"
      },
      "id": "2R4uvmgQuW2O",
      "execution_count": null,
      "outputs": [
        {
          "output_type": "stream",
          "name": "stdout",
          "text": [
            "Model: \"Bidirectional_LSTM\"\n",
            "_________________________________________________________________\n",
            " Layer (type)                Output Shape              Param #   \n",
            "=================================================================\n",
            " embedding_11 (Embedding)    (None, 311, 32)           636544    \n",
            "                                                                 \n",
            " bidirectional_9 (Bidirectio  (None, 311, 128)         49664     \n",
            " nal)                                                            \n",
            "                                                                 \n",
            " bidirectional_10 (Bidirecti  (None, 128)              98816     \n",
            " onal)                                                           \n",
            "                                                                 \n",
            " dense_19 (Dense)            (None, 16)                2064      \n",
            "                                                                 \n",
            " dense_20 (Dense)            (None, 1)                 17        \n",
            "                                                                 \n",
            "=================================================================\n",
            "Total params: 787,105\n",
            "Trainable params: 787,105\n",
            "Non-trainable params: 0\n",
            "_________________________________________________________________\n",
            "None\n",
            "Epoch 1/10\n",
            "769/769 [==============================] - 48s 54ms/step - loss: 0.4867 - accuracy: 0.7711 - val_loss: 0.4071 - val_accuracy: 0.8274\n",
            "Epoch 2/10\n",
            "769/769 [==============================] - 41s 53ms/step - loss: 0.4184 - accuracy: 0.8253 - val_loss: 0.4209 - val_accuracy: 0.8273\n",
            "Epoch 3/10\n",
            "769/769 [==============================] - 40s 52ms/step - loss: 0.4353 - accuracy: 0.8245 - val_loss: 0.4171 - val_accuracy: 0.8243\n",
            "Epoch 4/10\n",
            "769/769 [==============================] - 41s 53ms/step - loss: 0.4980 - accuracy: 0.7738 - val_loss: 0.8827 - val_accuracy: 0.4064\n",
            "Epoch 5/10\n",
            "769/769 [==============================] - 39s 51ms/step - loss: 0.4140 - accuracy: 0.8255 - val_loss: 0.4737 - val_accuracy: 0.8214\n",
            "Epoch 6/10\n",
            "769/769 [==============================] - 39s 51ms/step - loss: 0.3875 - accuracy: 0.8344 - val_loss: 0.4786 - val_accuracy: 0.8208\n",
            "Epoch 7/10\n",
            "769/769 [==============================] - 39s 51ms/step - loss: 0.3401 - accuracy: 0.8689 - val_loss: 0.5018 - val_accuracy: 0.8213\n",
            "Epoch 8/10\n",
            "769/769 [==============================] - 39s 51ms/step - loss: 0.3231 - accuracy: 0.8760 - val_loss: 0.6153 - val_accuracy: 0.8185\n",
            "Epoch 9/10\n",
            "769/769 [==============================] - 47s 61ms/step - loss: 0.3332 - accuracy: 0.8776 - val_loss: 0.5604 - val_accuracy: 0.8139\n",
            "Epoch 10/10\n",
            "769/769 [==============================] - 45s 58ms/step - loss: 0.3318 - accuracy: 0.8744 - val_loss: 0.5066 - val_accuracy: 0.8122\n",
            "\n",
            "Bidirectional LSTM model Score--->  [0.5066367387771606, 0.812160074710846]\n"
          ]
        }
      ]
    },
    {
      "cell_type": "code",
      "source": [
        "plot_training_hist(history7)"
      ],
      "metadata": {
        "colab": {
          "base_uri": "https://localhost:8080/",
          "height": 295
        },
        "id": "Ln-PqA9pubzn",
        "outputId": "0ba65bff-094c-4803-dfb2-e9d78e3c4edb"
      },
      "id": "Ln-PqA9pubzn",
      "execution_count": null,
      "outputs": [
        {
          "output_type": "display_data",
          "data": {
            "text/plain": [
              "<Figure size 720x288 with 2 Axes>"
            ],
            "image/png": "[encoded data removed]"
          },
          "metadata": {
            "needs_background": "light"
          }
        }
      ]
    },
    {
      "cell_type": "markdown",
      "source": [
        "Bi 4"
      ],
      "metadata": {
        "id": "D8NTxTVBvwmS"
      },
      "id": "D8NTxTVBvwmS"
    },
    {
      "cell_type": "code",
      "source": [
        "bi_lstm_model = Sequential(name=\"Bidirectional_LSTM\")\n",
        "bi_lstm_model.add(Embedding(len(tokenizer.word_index)+1, 100, input_length=max_length))\n",
        "bi_lstm_model.add(Bidirectional(LSTM(128, activation='tanh', return_sequences=False)))\n",
        "# bi_lstm_model.add(Bidirectional(LSTM(64)))\n",
        "bi_lstm_model.add(Dense(16, activation='relu'))\n",
        "bi_lstm_model.add(Dense(1, activation='relu'))\n",
        "\n",
        "print(bi_lstm_model.summary())\n",
        "\n",
        "bi_lstm_model.compile(\n",
        "loss=\"binary_crossentropy\",\n",
        "optimizer='adam',\n",
        "metrics=['accuracy']\n",
        ")\n",
        "\n",
        "history8 = bi_lstm_model.fit(x_train_, y_train_, batch_size=64, epochs=20, verbose=1, validation_data=(x_test, y_test))\n",
        "\n",
        "print()\n",
        "print(\"Bidirectional LSTM model Score---> \", bi_lstm_model.evaluate(x_test, y_test, verbose=0))\n"
      ],
      "metadata": {
        "colab": {
          "base_uri": "https://localhost:8080/"
        },
        "id": "fmVXdt0Av67P",
        "outputId": "ffa071a0-b227-4540-9e41-fce4673ed51a"
      },
      "id": "fmVXdt0Av67P",
      "execution_count": null,
      "outputs": [
        {
          "output_type": "stream",
          "name": "stdout",
          "text": [
            "Model: \"Bidirectional_LSTM\"\n",
            "_________________________________________________________________\n",
            " Layer (type)                Output Shape              Param #   \n",
            "=================================================================\n",
            " embedding_13 (Embedding)    (None, 311, 100)          1989200   \n",
            "                                                                 \n",
            " bidirectional_12 (Bidirecti  (None, 256)              234496    \n",
            " onal)                                                           \n",
            "                                                                 \n",
            " dense_23 (Dense)            (None, 16)                4112      \n",
            "                                                                 \n",
            " dense_24 (Dense)            (None, 1)                 17        \n",
            "                                                                 \n",
            "=================================================================\n",
            "Total params: 2,227,825\n",
            "Trainable params: 2,227,825\n",
            "Non-trainable params: 0\n",
            "_________________________________________________________________\n",
            "None\n",
            "Epoch 1/20\n",
            "769/769 [==============================] - 37s 43ms/step - loss: 0.4840 - accuracy: 0.7760 - val_loss: 0.4854 - val_accuracy: 0.8144\n",
            "Epoch 2/20\n",
            "769/769 [==============================] - 33s 43ms/step - loss: 0.4174 - accuracy: 0.8259 - val_loss: 0.4910 - val_accuracy: 0.8230\n",
            "Epoch 3/20\n",
            "769/769 [==============================] - 32s 41ms/step - loss: 0.4003 - accuracy: 0.8374 - val_loss: 0.4565 - val_accuracy: 0.8252\n",
            "Epoch 4/20\n",
            "769/769 [==============================] - 32s 42ms/step - loss: 0.3833 - accuracy: 0.8525 - val_loss: 0.5499 - val_accuracy: 0.8174\n",
            "Epoch 5/20\n",
            "769/769 [==============================] - 33s 43ms/step - loss: 0.3432 - accuracy: 0.8703 - val_loss: 0.5173 - val_accuracy: 0.8052\n",
            "Epoch 6/20\n",
            "769/769 [==============================] - 31s 40ms/step - loss: 0.3450 - accuracy: 0.8698 - val_loss: 0.5985 - val_accuracy: 0.8036\n",
            "Epoch 7/20\n",
            "769/769 [==============================] - 34s 44ms/step - loss: 0.3358 - accuracy: 0.8692 - val_loss: 0.5003 - val_accuracy: 0.7707\n",
            "Epoch 8/20\n",
            "769/769 [==============================] - 33s 43ms/step - loss: 0.3407 - accuracy: 0.8732 - val_loss: 0.6118 - val_accuracy: 0.8066\n",
            "Epoch 9/20\n",
            "769/769 [==============================] - 33s 42ms/step - loss: 0.3207 - accuracy: 0.8813 - val_loss: 0.7866 - val_accuracy: 0.8119\n",
            "Epoch 10/20\n",
            "769/769 [==============================] - 33s 43ms/step - loss: 0.3058 - accuracy: 0.8887 - val_loss: 0.6871 - val_accuracy: 0.8083\n",
            "Epoch 11/20\n",
            "769/769 [==============================] - 33s 43ms/step - loss: 0.2622 - accuracy: 0.9049 - val_loss: 0.8535 - val_accuracy: 0.8063\n",
            "Epoch 12/20\n",
            "769/769 [==============================] - 32s 42ms/step - loss: 0.2722 - accuracy: 0.9021 - val_loss: 0.5732 - val_accuracy: 0.7884\n",
            "Epoch 13/20\n",
            "769/769 [==============================] - 33s 43ms/step - loss: 0.2683 - accuracy: 0.9062 - val_loss: 0.8975 - val_accuracy: 0.8000\n",
            "Epoch 14/20\n",
            "769/769 [==============================] - 32s 41ms/step - loss: 0.2633 - accuracy: 0.9078 - val_loss: 0.6691 - val_accuracy: 0.7935\n",
            "Epoch 15/20\n",
            "769/769 [==============================] - 32s 42ms/step - loss: 0.2623 - accuracy: 0.9091 - val_loss: 0.8465 - val_accuracy: 0.8010\n",
            "Epoch 16/20\n",
            "769/769 [==============================] - 32s 41ms/step - loss: 0.2259 - accuracy: 0.9230 - val_loss: 1.0450 - val_accuracy: 0.7984\n",
            "Epoch 17/20\n",
            "769/769 [==============================] - 33s 42ms/step - loss: 0.2297 - accuracy: 0.9251 - val_loss: 1.2568 - val_accuracy: 0.7937\n",
            "Epoch 18/20\n",
            "769/769 [==============================] - 33s 43ms/step - loss: 0.2105 - accuracy: 0.9316 - val_loss: 1.4047 - val_accuracy: 0.7906\n",
            "Epoch 19/20\n",
            "769/769 [==============================] - 33s 43ms/step - loss: 0.2130 - accuracy: 0.9306 - val_loss: 1.3466 - val_accuracy: 0.7880\n",
            "Epoch 20/20\n",
            "769/769 [==============================] - 33s 43ms/step - loss: 0.2464 - accuracy: 0.9237 - val_loss: 1.3051 - val_accuracy: 0.7904\n",
            "\n",
            "Bidirectional LSTM model Score--->  [1.3050888776779175, 0.7904050946235657]\n"
          ]
        }
      ]
    },
    {
      "cell_type": "code",
      "source": [
        "plot_training_hist(history8)"
      ],
      "metadata": {
        "colab": {
          "base_uri": "https://localhost:8080/",
          "height": 295
        },
        "id": "6sqdGA1QwBHC",
        "outputId": "b425e2ff-3abe-44c4-f847-dcfc6ad95702"
      },
      "id": "6sqdGA1QwBHC",
      "execution_count": null,
      "outputs": [
        {
          "output_type": "display_data",
          "data": {
            "text/plain": [
              "<Figure size 720x288 with 2 Axes>"
            ],
            "image/png": "[encoded data removed]"
          },
          "metadata": {
            "needs_background": "light"
          }
        }
      ]
    },
    {
      "cell_type": "code",
      "source": [],
      "metadata": {
        "id": "XkVV-ls1wDJ3"
      },
      "id": "XkVV-ls1wDJ3",
      "execution_count": null,
      "outputs": []
    },
    {
      "cell_type": "markdown",
      "source": [
        "BI 5"
      ],
      "metadata": {
        "id": "teK0NPMZFOus"
      },
      "id": "teK0NPMZFOus"
    },
    {
      "cell_type": "code",
      "source": [
        "# Defining LSTM model\n",
        "bilstm_model = Sequential(name=\"BI LSTM_Model\")\n",
        "bilstm_model.add(Embedding(len(tokenizer.word_index)+1, 32, input_length=max_length))\n",
        "bilstm_model.add(LSTM(64, return_sequences=True))\n",
        "bilstm_model.add(LSTM(32))\n",
        "bilstm_model.add(Dense(16, activation=\"relu\"))\n",
        "bilstm_model.add(Dense(1, activation=\"relu\"))\n",
        "\n",
        "# Printing Model Summary\n",
        "print(lstm_model.summary())\n",
        "\n",
        "# Compiling the model\n",
        "lstm_model.compile( loss=\"binary_crossentropy\", optimizer='adam', metrics=['accuracy'])\n",
        "\n",
        "# Training the model\n",
        "history7 = lstm_model.fit(x_train_, y_train_, batch_size=64, epochs=50, verbose=1, validation_data=(x_valid, y_valid))\n",
        "\n",
        "# Displaying the model accuracy on test data\n",
        "print()\n",
        "print(\"LSTM model Score---> \", lstm_model.evaluate(x_test, y_test, verbose=0))\n"
      ],
      "metadata": {
        "colab": {
          "base_uri": "https://localhost:8080/"
        },
        "id": "wRr8tUxQIjF5",
        "outputId": "3e7ba5d7-ce91-4404-f3a3-ce32b068faa9"
      },
      "id": "wRr8tUxQIjF5",
      "execution_count": null,
      "outputs": [
        {
          "output_type": "stream",
          "name": "stdout",
          "text": [
            "Model: \"LSTM_Model\"\n",
            "_________________________________________________________________\n",
            " Layer (type)                Output Shape              Param #   \n",
            "=================================================================\n",
            " embedding_25 (Embedding)    (None, 311, 32)           636544    \n",
            "                                                                 \n",
            " lstm_22 (LSTM)              (None, 16)                3136      \n",
            "                                                                 \n",
            " dropout_15 (Dropout)        (None, 16)                0         \n",
            "                                                                 \n",
            " dense_49 (Dense)            (None, 16)                272       \n",
            "                                                                 \n",
            " dropout_16 (Dropout)        (None, 16)                0         \n",
            "                                                                 \n",
            " dense_50 (Dense)            (None, 1)                 17        \n",
            "                                                                 \n",
            "=================================================================\n",
            "Total params: 639,969\n",
            "Trainable params: 639,969\n",
            "Non-trainable params: 0\n",
            "_________________________________________________________________\n",
            "None\n",
            "Epoch 1/10\n",
            "769/769 [==============================] - 13s 14ms/step - loss: 0.6742 - accuracy: 0.5970 - val_loss: 0.6999 - val_accuracy: 0.5312\n",
            "Epoch 2/10\n",
            "769/769 [==============================] - 11s 14ms/step - loss: 0.6742 - accuracy: 0.5970 - val_loss: 0.6995 - val_accuracy: 0.5312\n",
            "Epoch 3/10\n",
            "769/769 [==============================] - 11s 14ms/step - loss: 0.6742 - accuracy: 0.5970 - val_loss: 0.6997 - val_accuracy: 0.5312\n",
            "Epoch 4/10\n",
            "769/769 [==============================] - 10s 13ms/step - loss: 0.6742 - accuracy: 0.5970 - val_loss: 0.6997 - val_accuracy: 0.5312\n",
            "Epoch 5/10\n",
            "769/769 [==============================] - 12s 15ms/step - loss: 0.6742 - accuracy: 0.5970 - val_loss: 0.7003 - val_accuracy: 0.5312\n",
            "Epoch 6/10\n",
            "769/769 [==============================] - 11s 14ms/step - loss: 0.6742 - accuracy: 0.5970 - val_loss: 0.7002 - val_accuracy: 0.5312\n",
            "Epoch 7/10\n",
            "769/769 [==============================] - 10s 14ms/step - loss: 0.6742 - accuracy: 0.5970 - val_loss: 0.6996 - val_accuracy: 0.5312\n",
            "Epoch 8/10\n",
            "769/769 [==============================] - 11s 14ms/step - loss: 0.6742 - accuracy: 0.5970 - val_loss: 0.6999 - val_accuracy: 0.5312\n",
            "Epoch 9/10\n",
            "769/769 [==============================] - 11s 14ms/step - loss: 0.6742 - accuracy: 0.5970 - val_loss: 0.6993 - val_accuracy: 0.5312\n",
            "Epoch 10/10\n",
            "769/769 [==============================] - 10s 13ms/step - loss: 0.6742 - accuracy: 0.5970 - val_loss: 0.7002 - val_accuracy: 0.5312\n",
            "\n",
            "LSTM model Score--->  [0.6724251508712769, 0.6015098690986633]\n"
          ]
        }
      ]
    },
    {
      "cell_type": "markdown",
      "source": [
        "LSTM 2"
      ],
      "metadata": {
        "id": "9G-PwDSTzSuQ"
      },
      "id": "9G-PwDSTzSuQ"
    },
    {
      "cell_type": "code",
      "source": [
        "lstm2 = Sequential()\n",
        "lstm2.add(Embedding(len(tokenizer.word_index)+1, 32, input_length=max_length))\n",
        "lstm2.add(Bidirectional(LSTM(32)))\n",
        "lstm2.add(Dropout(0.5))\n",
        "lstm2.add(Dense(16, activation='relu'))\n",
        "lstm2.add(Dense(1, activation='softmax'))\n",
        "\n",
        "# Printing model summary\n",
        "print(lstm2.summary())\n",
        "\n",
        "# Compiling model summary\n",
        "lstm2.compile(\n",
        "loss=\"binary_crossentropy\",\n",
        "optimizer='adam',\n",
        "metrics=['accuracy']\n",
        ")\n",
        "\n",
        "# Training the model\n",
        "history6 = lstm2.fit(x_train_, y_train_, batch_size=64, epochs=10, verbose=1, validation_data=(x_test, y_test))\n",
        "\n",
        "# Printing model score on test data\n",
        "print()\n",
        "print(\"Bidirectional LSTM model Score---> \", lstm2.evaluate(x_test, y_test, verbose=0))"
      ],
      "metadata": {
        "id": "sZ-9Gi6jzT2T"
      },
      "id": "sZ-9Gi6jzT2T",
      "execution_count": null,
      "outputs": []
    },
    {
      "cell_type": "code",
      "source": [],
      "metadata": {
        "id": "5nBMGgEgz7YZ"
      },
      "id": "5nBMGgEgz7YZ",
      "execution_count": null,
      "outputs": []
    },
    {
      "cell_type": "markdown",
      "source": [
        "###Prediction"
      ],
      "metadata": {
        "id": "8oC3tJeh068E"
      },
      "id": "8oC3tJeh068E"
    },
    {
      "cell_type": "code",
      "source": [
        "def encode_text(tokenizer, text, max_length):\n",
        "    encoded = tokenizer.texts_to_sequences([text])\n",
        "    padded = pad_sequences(encoded, maxlen=max_length)\n",
        "    return padded\n",
        "\n",
        "example_text = \"positive\"\n",
        "encoded_text = encode_text(tokenizer, example_text, max_length)\n",
        "prediction = bi_lstm_model.predict(encoded_text)\n",
        "\n",
        "sentiment = np.round(prediction[0,0])\n",
        "\n",
        "if sentiment == 0:\n",
        "    print(\"Negative sentiment\")\n",
        "else:\n",
        "    print(\"Positive sentiment\")"
      ],
      "metadata": {
        "colab": {
          "base_uri": "https://localhost:8080/"
        },
        "id": "nqO2IgNa1Bjp",
        "outputId": "72338621-ca59-4028-8bec-052cfc667c95"
      },
      "id": "nqO2IgNa1Bjp",
      "execution_count": null,
      "outputs": [
        {
          "output_type": "stream",
          "name": "stdout",
          "text": [
            "1/1 [==============================] - 0s 57ms/step\n",
            "[[0.5071797]]\n",
            "Positive sentiment\n"
          ]
        }
      ]
    },
    {
      "cell_type": "code",
      "source": [],
      "metadata": {
        "id": "p9uEgMvRDlbL"
      },
      "id": "p9uEgMvRDlbL",
      "execution_count": null,
      "outputs": []
    },
    {
      "cell_type": "code",
      "source": [
        "from tensorflow.keras.layers import Conv1D, MaxPooling1D\n",
        "\n",
        "model= Sequential()\n",
        "model.add(Embedding(len(tokenizer.word_index)+1, 32, input_length=max_length))\n",
        "model.add(Conv1D(filters=32, kernel_size=3, padding='same', activation='relu'))\n",
        "model.add(MaxPooling1D(pool_size=2))\n",
        "model.add(Bidirectional(LSTM(32)))\n",
        "model.add(Dropout(0.4))\n",
        "model.add(Dense(3, activation='softmax'))\n",
        "model.add(Dense(1))\n",
        "\n",
        "# Printing model summary\n",
        "print(model.summary())\n",
        "\n",
        "# Compiling model summary\n",
        "model.compile(\n",
        "loss=\"binary_crossentropy\",\n",
        "optimizer='adam',\n",
        "metrics=['accuracy']\n",
        ")\n",
        "\n",
        "# Training the model\n",
        "history6 = model.fit(x_train_, y_train_, batch_size=64, epochs=10, verbose=1, validation_data=(x_test, y_test))\n",
        "\n",
        "# Printing model score on test data\n",
        "print()\n",
        "print(\"Bidirectional LSTM model Score---> \", model.evaluate(x_test, y_test, verbose=0))"
      ],
      "metadata": {
        "id": "etET2KN-MceK",
        "colab": {
          "base_uri": "https://localhost:8080/"
        },
        "outputId": "6c667c92-963a-4bda-c4c8-accf0e23cb32"
      },
      "id": "etET2KN-MceK",
      "execution_count": 66,
      "outputs": [
        {
          "output_type": "stream",
          "name": "stdout",
          "text": [
            "Model: \"sequential_1\"\n",
            "_________________________________________________________________\n",
            " Layer (type)                Output Shape              Param #   \n",
            "=================================================================\n",
            " embedding_19 (Embedding)    (None, 311, 32)           636544    \n",
            "                                                                 \n",
            " conv1d (Conv1D)             (None, 311, 32)           3104      \n",
            "                                                                 \n",
            " max_pooling1d (MaxPooling1D  (None, 155, 32)          0         \n",
            " )                                                               \n",
            "                                                                 \n",
            " bidirectional_4 (Bidirectio  (None, 64)               16640     \n",
            " nal)                                                            \n",
            "                                                                 \n",
            " dropout_1 (Dropout)         (None, 64)                0         \n",
            "                                                                 \n",
            " dense_29 (Dense)            (None, 3)                 195       \n",
            "                                                                 \n",
            " dense_30 (Dense)            (None, 1)                 4         \n",
            "                                                                 \n",
            "=================================================================\n",
            "Total params: 656,487\n",
            "Trainable params: 656,487\n",
            "Non-trainable params: 0\n",
            "_________________________________________________________________\n",
            "None\n",
            "Epoch 1/10\n",
            "755/755 [==============================] - 228s 227ms/step - loss: 0.6915 - accuracy: 0.5906 - val_loss: 0.6725 - val_accuracy: 0.6015\n",
            "Epoch 2/10\n",
            "755/755 [==============================] - 169s 224ms/step - loss: 0.4910 - accuracy: 0.7715 - val_loss: 0.3739 - val_accuracy: 0.8333\n",
            "Epoch 3/10\n",
            "755/755 [==============================] - 170s 225ms/step - loss: 0.3551 - accuracy: 0.8520 - val_loss: 0.3722 - val_accuracy: 0.8357\n",
            "Epoch 4/10\n",
            "755/755 [==============================] - 171s 226ms/step - loss: 0.3182 - accuracy: 0.8701 - val_loss: 0.3833 - val_accuracy: 0.8314\n",
            "Epoch 5/10\n",
            "755/755 [==============================] - 171s 227ms/step - loss: 0.2938 - accuracy: 0.8886 - val_loss: 0.4013 - val_accuracy: 0.8205\n",
            "Epoch 6/10\n",
            "755/755 [==============================] - 170s 226ms/step - loss: 0.2584 - accuracy: 0.9068 - val_loss: 0.6254 - val_accuracy: 0.8153\n",
            "Epoch 7/10\n",
            "755/755 [==============================] - 172s 228ms/step - loss: 0.2290 - accuracy: 0.9214 - val_loss: 0.6288 - val_accuracy: 0.8127\n",
            "Epoch 8/10\n",
            "755/755 [==============================] - 172s 227ms/step - loss: 0.2022 - accuracy: 0.9301 - val_loss: 0.6530 - val_accuracy: 0.8098\n",
            "Epoch 9/10\n",
            "755/755 [==============================] - 168s 223ms/step - loss: 0.1867 - accuracy: 0.9392 - val_loss: 0.5901 - val_accuracy: 0.8083\n",
            "Epoch 10/10\n",
            "755/755 [==============================] - 168s 223ms/step - loss: 0.1802 - accuracy: 0.9434 - val_loss: 0.7481 - val_accuracy: 0.8090\n",
            "\n",
            "Bidirectional LSTM model Score--->  [0.7481124401092529, 0.8089942336082458]\n"
          ]
        }
      ]
    },
    {
      "cell_type": "code",
      "source": [
        "plot_training_hist(history6)"
      ],
      "metadata": {
        "id": "Jh2nIHjp5kzg",
        "outputId": "4e4779cc-2459-4af3-d6d5-548d57018cf5",
        "colab": {
          "base_uri": "https://localhost:8080/",
          "height": 295
        }
      },
      "id": "Jh2nIHjp5kzg",
      "execution_count": 67,
      "outputs": [
        {
          "output_type": "display_data",
          "data": {
            "text/plain": [
              "<Figure size 1080x288 with 2 Axes>"
            ],
            "image/png": "[encoded data removed]"
          },
          "metadata": {
            "needs_background": "light"
          }
        }
      ]
    },
    {
      "cell_type": "code",
      "source": [],
      "metadata": {
        "id": "6oVuGKjkAqR2"
      },
      "id": "6oVuGKjkAqR2",
      "execution_count": null,
      "outputs": []
    }
  ],
  "metadata": {
    "kernelspec": {
      "display_name": "Python 3 (ipykernel)",
      "language": "python",
      "name": "python3"
    },
    "language_info": {
      "codemirror_mode": {
        "name": "ipython",
        "version": 3
      },
      "file_extension": ".py",
      "mimetype": "text/x-python",
      "name": "python",
      "nbconvert_exporter": "python",
      "pygments_lexer": "ipython3",
      "version": "3.10.6"
    },
    "colab": {
      "provenance": [],
      "toc_visible": true
    },
    "accelerator": "GPU",
    "gpuClass": "standard"
  },
  "nbformat": 4,
  "nbformat_minor": 5
}