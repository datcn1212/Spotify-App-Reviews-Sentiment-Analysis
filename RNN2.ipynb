{
 "cells": [
  {
   "cell_type": "markdown",
   "id": "92d18a89",
   "metadata": {
    "id": "92d18a89"
   },
   "source": [
    "## Spotify App Reviews Sentiment Analysis"
   ]
  },
  {
   "cell_type": "code",
   "execution_count": 1,
   "id": "0c17717e",
   "metadata": {
    "id": "0c17717e"
   },
   "outputs": [],
   "source": [
    "import numpy as np\n",
    "import pandas as pd\n",
    "import matplotlib.pyplot as plt\n",
    "import seaborn as sns\n",
    "from wordcloud import WordCloud"
   ]
  },
  {
   "cell_type": "code",
   "execution_count": 2,
   "id": "8b75b9e8",
   "metadata": {
    "colab": {
     "base_uri": "https://localhost:8080/",
     "height": 564
    },
    "id": "8b75b9e8",
    "outputId": "d3c08e92-8102-4578-982a-9051faf1c905"
   },
   "outputs": [
    {
     "ename": "ModuleNotFoundError",
     "evalue": "No module named 'google.colab'",
     "output_type": "error",
     "traceback": [
      "\u001b[0;31m---------------------------------------------------------------------------\u001b[0m",
      "\u001b[0;31mModuleNotFoundError\u001b[0m                       Traceback (most recent call last)",
      "Cell \u001b[0;32mIn [2], line 1\u001b[0m\n\u001b[0;32m----> 1\u001b[0m \u001b[38;5;28;01mfrom\u001b[39;00m \u001b[38;5;21;01mgoogle\u001b[39;00m\u001b[38;5;21;01m.\u001b[39;00m\u001b[38;5;21;01mcolab\u001b[39;00m \u001b[38;5;28;01mimport\u001b[39;00m files\n\u001b[1;32m      2\u001b[0m \u001b[38;5;28;01mimport\u001b[39;00m \u001b[38;5;21;01mio\u001b[39;00m\n\u001b[1;32m      3\u001b[0m uploaded \u001b[38;5;241m=\u001b[39m files\u001b[38;5;241m.\u001b[39mupload()\n",
      "\u001b[0;31mModuleNotFoundError\u001b[0m: No module named 'google.colab'"
     ]
    }
   ],
   "source": [
    "\n",
    "from google.colab import files\n",
    "import io\n",
    "uploaded = files.upload()\n",
    "df = pd.read_csv(io.BytesIO(uploaded['reviews.csv']))\n",
    "print(df)"
   ]
  },
  {
   "cell_type": "markdown",
   "id": "f4d6e51b",
   "metadata": {
    "id": "f4d6e51b"
   },
   "source": [
    "### Data PreProcessing"
   ]
  },
  {
   "cell_type": "code",
   "execution_count": null,
   "id": "-SCZCu0zIDLV",
   "metadata": {
    "id": "-SCZCu0zIDLV"
   },
   "outputs": [],
   "source": [
    "stf = df.copy()"
   ]
  },
  {
   "cell_type": "code",
   "execution_count": null,
   "id": "da55e5ce",
   "metadata": {
    "colab": {
     "base_uri": "https://localhost:8080/"
    },
    "id": "da55e5ce",
    "outputId": "f812df92-93a3-4e50-8732-77ec18812434",
    "scrolled": true
   },
   "outputs": [
    {
     "name": "stderr",
     "output_type": "stream",
     "text": [
      "[nltk_data] Downloading package stopwords to /root/nltk_data...\n",
      "[nltk_data]   Package stopwords is already up-to-date!\n"
     ]
    }
   ],
   "source": [
    "import gensim\n",
    "from gensim.parsing.preprocessing import strip_non_alphanum, strip_multiple_whitespaces, preprocess_string, split_alphanum, strip_short, strip_numeric\n",
    "import re \n",
    "import nltk\n",
    "from nltk.corpus import stopwords\n",
    "nltk.download('stopwords')\n",
    "stop_words = stopwords.words('english')"
   ]
  },
  {
   "cell_type": "code",
   "execution_count": null,
   "id": "45914ccb",
   "metadata": {
    "id": "45914ccb"
   },
   "outputs": [],
   "source": [
    "def lower_case(docs):\n",
    "  return [doc.lower() for doc in docs]\n",
    "\n",
    "def remove_punc(docs):\n",
    "  # Loai bo dau cau & ki tu dac biet\n",
    "  return [strip_non_alphanum(doc).strip() for doc in docs]\n",
    "\n",
    "def separate_num(docs):\n",
    "  # Tach cac so va chu lien nhau\n",
    "  return [split_alphanum(doc) for doc in docs]\n",
    "\n",
    "def remove_one_letter_word(docs):\n",
    "  return [strip_short(doc) for doc in docs]\n",
    "\n",
    "def remove_number(docs):\n",
    "  return [strip_numeric(doc) for doc in docs]\n",
    "\n",
    "def replace_multiple_whitespaces(docs):\n",
    "  # Thay the nhieu spaces bang mot space\n",
    "  return [strip_multiple_whitespaces(doc) for doc in docs]\n",
    "\n",
    "def remove_stopwords(docs):\n",
    "    return [\" \".join([word for word in doc.split() if word not in stop_words]) for doc in docs]\n",
    "\n",
    "doc = lower_case(stf['Review'])\n",
    "doc = remove_punc(doc)\n",
    "doc = separate_num(doc)\n",
    "doc = remove_one_letter_word(doc)\n",
    "doc = remove_number(doc)\n",
    "doc = replace_multiple_whitespaces(doc)\n",
    "doc = remove_stopwords(doc)\n",
    "\n",
    "stf['Review'] = doc"
   ]
  },
  {
   "cell_type": "code",
   "execution_count": null,
   "id": "06270d44",
   "metadata": {
    "colab": {
     "base_uri": "https://localhost:8080/",
     "height": 206
    },
    "id": "06270d44",
    "outputId": "23526d67-c957-45bf-f52b-dcce4beb55d5",
    "scrolled": true
   },
   "outputs": [
    {
     "data": {
      "text/html": [
       "\n",
       "  <div id=\"df-d8d11de9-071e-4e65-82d6-28bae6e0f44c\">\n",
       "    <div class=\"colab-df-container\">\n",
       "      <div>\n",
       "<style scoped>\n",
       "    .dataframe tbody tr th:only-of-type {\n",
       "        vertical-align: middle;\n",
       "    }\n",
       "\n",
       "    .dataframe tbody tr th {\n",
       "        vertical-align: top;\n",
       "    }\n",
       "\n",
       "    .dataframe thead th {\n",
       "        text-align: right;\n",
       "    }\n",
       "</style>\n",
       "<table border=\"1\" class=\"dataframe\">\n",
       "  <thead>\n",
       "    <tr style=\"text-align: right;\">\n",
       "      <th></th>\n",
       "      <th>Time_submitted</th>\n",
       "      <th>Review</th>\n",
       "      <th>Rating</th>\n",
       "      <th>Total_thumbsup</th>\n",
       "      <th>Reply</th>\n",
       "    </tr>\n",
       "  </thead>\n",
       "  <tbody>\n",
       "    <tr>\n",
       "      <th>0</th>\n",
       "      <td>2022-07-09 15:00:00</td>\n",
       "      <td>great music service audio high quality app eas...</td>\n",
       "      <td>5</td>\n",
       "      <td>2</td>\n",
       "      <td>NaN</td>\n",
       "    </tr>\n",
       "    <tr>\n",
       "      <th>1</th>\n",
       "      <td>2022-07-09 14:21:22</td>\n",
       "      <td>please ignore previous negative rating app sup...</td>\n",
       "      <td>5</td>\n",
       "      <td>1</td>\n",
       "      <td>NaN</td>\n",
       "    </tr>\n",
       "    <tr>\n",
       "      <th>2</th>\n",
       "      <td>2022-07-09 13:27:32</td>\n",
       "      <td>pop get best spotify experience android annoyi...</td>\n",
       "      <td>4</td>\n",
       "      <td>0</td>\n",
       "      <td>NaN</td>\n",
       "    </tr>\n",
       "    <tr>\n",
       "      <th>3</th>\n",
       "      <td>2022-07-09 13:26:45</td>\n",
       "      <td>really buggy terrible use recently</td>\n",
       "      <td>1</td>\n",
       "      <td>1</td>\n",
       "      <td>NaN</td>\n",
       "    </tr>\n",
       "    <tr>\n",
       "      <th>4</th>\n",
       "      <td>2022-07-09 13:20:49</td>\n",
       "      <td>dear spotify get songs put playlist shuffle play</td>\n",
       "      <td>1</td>\n",
       "      <td>1</td>\n",
       "      <td>NaN</td>\n",
       "    </tr>\n",
       "  </tbody>\n",
       "</table>\n",
       "</div>\n",
       "      <button class=\"colab-df-convert\" onclick=\"convertToInteractive('df-d8d11de9-071e-4e65-82d6-28bae6e0f44c')\"\n",
       "              title=\"Convert this dataframe to an interactive table.\"\n",
       "              style=\"display:none;\">\n",
       "        \n",
       "  <svg xmlns=\"http://www.w3.org/2000/svg\" height=\"24px\"viewBox=\"0 0 24 24\"\n",
       "       width=\"24px\">\n",
       "    <path d=\"M0 0h24v24H0V0z\" fill=\"none\"/>\n",
       "    <path d=\"M18.56 5.44l.94 2.06.94-2.06 2.06-.94-2.06-.94-.94-2.06-.94 2.06-2.06.94zm-11 1L8.5 8.5l.94-2.06 2.06-.94-2.06-.94L8.5 2.5l-.94 2.06-2.06.94zm10 10l.94 2.06.94-2.06 2.06-.94-2.06-.94-.94-2.06-.94 2.06-2.06.94z\"/><path d=\"M17.41 7.96l-1.37-1.37c-.4-.4-.92-.59-1.43-.59-.52 0-1.04.2-1.43.59L10.3 9.45l-7.72 7.72c-.78.78-.78 2.05 0 2.83L4 21.41c.39.39.9.59 1.41.59.51 0 1.02-.2 1.41-.59l7.78-7.78 2.81-2.81c.8-.78.8-2.07 0-2.86zM5.41 20L4 18.59l7.72-7.72 1.47 1.35L5.41 20z\"/>\n",
       "  </svg>\n",
       "      </button>\n",
       "      \n",
       "  <style>\n",
       "    .colab-df-container {\n",
       "      display:flex;\n",
       "      flex-wrap:wrap;\n",
       "      gap: 12px;\n",
       "    }\n",
       "\n",
       "    .colab-df-convert {\n",
       "      background-color: #E8F0FE;\n",
       "      border: none;\n",
       "      border-radius: 50%;\n",
       "      cursor: pointer;\n",
       "      display: none;\n",
       "      fill: #1967D2;\n",
       "      height: 32px;\n",
       "      padding: 0 0 0 0;\n",
       "      width: 32px;\n",
       "    }\n",
       "\n",
       "    .colab-df-convert:hover {\n",
       "      background-color: #E2EBFA;\n",
       "      box-shadow: 0px 1px 2px rgba(60, 64, 67, 0.3), 0px 1px 3px 1px rgba(60, 64, 67, 0.15);\n",
       "      fill: #174EA6;\n",
       "    }\n",
       "\n",
       "    [theme=dark] .colab-df-convert {\n",
       "      background-color: #3B4455;\n",
       "      fill: #D2E3FC;\n",
       "    }\n",
       "\n",
       "    [theme=dark] .colab-df-convert:hover {\n",
       "      background-color: #434B5C;\n",
       "      box-shadow: 0px 1px 3px 1px rgba(0, 0, 0, 0.15);\n",
       "      filter: drop-shadow(0px 1px 2px rgba(0, 0, 0, 0.3));\n",
       "      fill: #FFFFFF;\n",
       "    }\n",
       "  </style>\n",
       "\n",
       "      <script>\n",
       "        const buttonEl =\n",
       "          document.querySelector('#df-d8d11de9-071e-4e65-82d6-28bae6e0f44c button.colab-df-convert');\n",
       "        buttonEl.style.display =\n",
       "          google.colab.kernel.accessAllowed ? 'block' : 'none';\n",
       "\n",
       "        async function convertToInteractive(key) {\n",
       "          const element = document.querySelector('#df-d8d11de9-071e-4e65-82d6-28bae6e0f44c');\n",
       "          const dataTable =\n",
       "            await google.colab.kernel.invokeFunction('convertToInteractive',\n",
       "                                                     [key], {});\n",
       "          if (!dataTable) return;\n",
       "\n",
       "          const docLinkHtml = 'Like what you see? Visit the ' +\n",
       "            '<a target=\"_blank\" href=https://colab.research.google.com/notebooks/data_table.ipynb>data table notebook</a>'\n",
       "            + ' to learn more about interactive tables.';\n",
       "          element.innerHTML = '';\n",
       "          dataTable['output_type'] = 'display_data';\n",
       "          await google.colab.output.renderOutput(dataTable, element);\n",
       "          const docLink = document.createElement('div');\n",
       "          docLink.innerHTML = docLinkHtml;\n",
       "          element.appendChild(docLink);\n",
       "        }\n",
       "      </script>\n",
       "    </div>\n",
       "  </div>\n",
       "  "
      ],
      "text/plain": [
       "        Time_submitted                                             Review  \\\n",
       "0  2022-07-09 15:00:00  great music service audio high quality app eas...   \n",
       "1  2022-07-09 14:21:22  please ignore previous negative rating app sup...   \n",
       "2  2022-07-09 13:27:32  pop get best spotify experience android annoyi...   \n",
       "3  2022-07-09 13:26:45                 really buggy terrible use recently   \n",
       "4  2022-07-09 13:20:49   dear spotify get songs put playlist shuffle play   \n",
       "\n",
       "   Rating  Total_thumbsup Reply  \n",
       "0       5               2   NaN  \n",
       "1       5               1   NaN  \n",
       "2       4               0   NaN  \n",
       "3       1               1   NaN  \n",
       "4       1               1   NaN  "
      ]
     },
     "execution_count": 77,
     "metadata": {},
     "output_type": "execute_result"
    }
   ],
   "source": [
    "stf.head()"
   ]
  },
  {
   "cell_type": "code",
   "execution_count": null,
   "id": "a0b87123",
   "metadata": {
    "id": "a0b87123"
   },
   "outputs": [],
   "source": [
    "stf1 = stf.copy()\n",
    "rate = [1,2,3,4,5]\n",
    "sentiment = [0, 0, 1, 1, 1]\n",
    "for i in range(5):\n",
    "    stf1[\"Rating\"].replace(rate[i], sentiment[i],inplace=True)"
   ]
  },
  {
   "cell_type": "code",
   "execution_count": null,
   "id": "c4e0b72d",
   "metadata": {
    "colab": {
     "base_uri": "https://localhost:8080/",
     "height": 206
    },
    "id": "c4e0b72d",
    "outputId": "1fe682d9-ea42-46a8-b82c-e39a9a8f13c9"
   },
   "outputs": [
    {
     "data": {
      "text/html": [
       "\n",
       "  <div id=\"df-1b96cf35-b0ae-40fd-9e0f-471b1dcf9a75\">\n",
       "    <div class=\"colab-df-container\">\n",
       "      <div>\n",
       "<style scoped>\n",
       "    .dataframe tbody tr th:only-of-type {\n",
       "        vertical-align: middle;\n",
       "    }\n",
       "\n",
       "    .dataframe tbody tr th {\n",
       "        vertical-align: top;\n",
       "    }\n",
       "\n",
       "    .dataframe thead th {\n",
       "        text-align: right;\n",
       "    }\n",
       "</style>\n",
       "<table border=\"1\" class=\"dataframe\">\n",
       "  <thead>\n",
       "    <tr style=\"text-align: right;\">\n",
       "      <th></th>\n",
       "      <th>Time_submitted</th>\n",
       "      <th>Review</th>\n",
       "      <th>Rating</th>\n",
       "      <th>Total_thumbsup</th>\n",
       "      <th>Reply</th>\n",
       "    </tr>\n",
       "  </thead>\n",
       "  <tbody>\n",
       "    <tr>\n",
       "      <th>0</th>\n",
       "      <td>2022-07-09 15:00:00</td>\n",
       "      <td>great music service audio high quality app eas...</td>\n",
       "      <td>1</td>\n",
       "      <td>2</td>\n",
       "      <td>NaN</td>\n",
       "    </tr>\n",
       "    <tr>\n",
       "      <th>1</th>\n",
       "      <td>2022-07-09 14:21:22</td>\n",
       "      <td>please ignore previous negative rating app sup...</td>\n",
       "      <td>1</td>\n",
       "      <td>1</td>\n",
       "      <td>NaN</td>\n",
       "    </tr>\n",
       "    <tr>\n",
       "      <th>2</th>\n",
       "      <td>2022-07-09 13:27:32</td>\n",
       "      <td>pop get best spotify experience android annoyi...</td>\n",
       "      <td>1</td>\n",
       "      <td>0</td>\n",
       "      <td>NaN</td>\n",
       "    </tr>\n",
       "    <tr>\n",
       "      <th>3</th>\n",
       "      <td>2022-07-09 13:26:45</td>\n",
       "      <td>really buggy terrible use recently</td>\n",
       "      <td>0</td>\n",
       "      <td>1</td>\n",
       "      <td>NaN</td>\n",
       "    </tr>\n",
       "    <tr>\n",
       "      <th>4</th>\n",
       "      <td>2022-07-09 13:20:49</td>\n",
       "      <td>dear spotify get songs put playlist shuffle play</td>\n",
       "      <td>0</td>\n",
       "      <td>1</td>\n",
       "      <td>NaN</td>\n",
       "    </tr>\n",
       "  </tbody>\n",
       "</table>\n",
       "</div>\n",
       "      <button class=\"colab-df-convert\" onclick=\"convertToInteractive('df-1b96cf35-b0ae-40fd-9e0f-471b1dcf9a75')\"\n",
       "              title=\"Convert this dataframe to an interactive table.\"\n",
       "              style=\"display:none;\">\n",
       "        \n",
       "  <svg xmlns=\"http://www.w3.org/2000/svg\" height=\"24px\"viewBox=\"0 0 24 24\"\n",
       "       width=\"24px\">\n",
       "    <path d=\"M0 0h24v24H0V0z\" fill=\"none\"/>\n",
       "    <path d=\"M18.56 5.44l.94 2.06.94-2.06 2.06-.94-2.06-.94-.94-2.06-.94 2.06-2.06.94zm-11 1L8.5 8.5l.94-2.06 2.06-.94-2.06-.94L8.5 2.5l-.94 2.06-2.06.94zm10 10l.94 2.06.94-2.06 2.06-.94-2.06-.94-.94-2.06-.94 2.06-2.06.94z\"/><path d=\"M17.41 7.96l-1.37-1.37c-.4-.4-.92-.59-1.43-.59-.52 0-1.04.2-1.43.59L10.3 9.45l-7.72 7.72c-.78.78-.78 2.05 0 2.83L4 21.41c.39.39.9.59 1.41.59.51 0 1.02-.2 1.41-.59l7.78-7.78 2.81-2.81c.8-.78.8-2.07 0-2.86zM5.41 20L4 18.59l7.72-7.72 1.47 1.35L5.41 20z\"/>\n",
       "  </svg>\n",
       "      </button>\n",
       "      \n",
       "  <style>\n",
       "    .colab-df-container {\n",
       "      display:flex;\n",
       "      flex-wrap:wrap;\n",
       "      gap: 12px;\n",
       "    }\n",
       "\n",
       "    .colab-df-convert {\n",
       "      background-color: #E8F0FE;\n",
       "      border: none;\n",
       "      border-radius: 50%;\n",
       "      cursor: pointer;\n",
       "      display: none;\n",
       "      fill: #1967D2;\n",
       "      height: 32px;\n",
       "      padding: 0 0 0 0;\n",
       "      width: 32px;\n",
       "    }\n",
       "\n",
       "    .colab-df-convert:hover {\n",
       "      background-color: #E2EBFA;\n",
       "      box-shadow: 0px 1px 2px rgba(60, 64, 67, 0.3), 0px 1px 3px 1px rgba(60, 64, 67, 0.15);\n",
       "      fill: #174EA6;\n",
       "    }\n",
       "\n",
       "    [theme=dark] .colab-df-convert {\n",
       "      background-color: #3B4455;\n",
       "      fill: #D2E3FC;\n",
       "    }\n",
       "\n",
       "    [theme=dark] .colab-df-convert:hover {\n",
       "      background-color: #434B5C;\n",
       "      box-shadow: 0px 1px 3px 1px rgba(0, 0, 0, 0.15);\n",
       "      filter: drop-shadow(0px 1px 2px rgba(0, 0, 0, 0.3));\n",
       "      fill: #FFFFFF;\n",
       "    }\n",
       "  </style>\n",
       "\n",
       "      <script>\n",
       "        const buttonEl =\n",
       "          document.querySelector('#df-1b96cf35-b0ae-40fd-9e0f-471b1dcf9a75 button.colab-df-convert');\n",
       "        buttonEl.style.display =\n",
       "          google.colab.kernel.accessAllowed ? 'block' : 'none';\n",
       "\n",
       "        async function convertToInteractive(key) {\n",
       "          const element = document.querySelector('#df-1b96cf35-b0ae-40fd-9e0f-471b1dcf9a75');\n",
       "          const dataTable =\n",
       "            await google.colab.kernel.invokeFunction('convertToInteractive',\n",
       "                                                     [key], {});\n",
       "          if (!dataTable) return;\n",
       "\n",
       "          const docLinkHtml = 'Like what you see? Visit the ' +\n",
       "            '<a target=\"_blank\" href=https://colab.research.google.com/notebooks/data_table.ipynb>data table notebook</a>'\n",
       "            + ' to learn more about interactive tables.';\n",
       "          element.innerHTML = '';\n",
       "          dataTable['output_type'] = 'display_data';\n",
       "          await google.colab.output.renderOutput(dataTable, element);\n",
       "          const docLink = document.createElement('div');\n",
       "          docLink.innerHTML = docLinkHtml;\n",
       "          element.appendChild(docLink);\n",
       "        }\n",
       "      </script>\n",
       "    </div>\n",
       "  </div>\n",
       "  "
      ],
      "text/plain": [
       "        Time_submitted                                             Review  \\\n",
       "0  2022-07-09 15:00:00  great music service audio high quality app eas...   \n",
       "1  2022-07-09 14:21:22  please ignore previous negative rating app sup...   \n",
       "2  2022-07-09 13:27:32  pop get best spotify experience android annoyi...   \n",
       "3  2022-07-09 13:26:45                 really buggy terrible use recently   \n",
       "4  2022-07-09 13:20:49   dear spotify get songs put playlist shuffle play   \n",
       "\n",
       "   Rating  Total_thumbsup Reply  \n",
       "0       1               2   NaN  \n",
       "1       1               1   NaN  \n",
       "2       1               0   NaN  \n",
       "3       0               1   NaN  \n",
       "4       0               1   NaN  "
      ]
     },
     "execution_count": 79,
     "metadata": {},
     "output_type": "execute_result"
    }
   ],
   "source": [
    "stf1.head()"
   ]
  },
  {
   "cell_type": "markdown",
   "id": "d5a4bc3f",
   "metadata": {
    "id": "d5a4bc3f"
   },
   "source": [
    "### RNN"
   ]
  },
  {
   "cell_type": "code",
   "execution_count": null,
   "id": "5102fa68",
   "metadata": {
    "id": "5102fa68",
    "scrolled": true
   },
   "outputs": [],
   "source": [
    "from tensorflow.keras.layers import SimpleRNN, LSTM, GRU, Bidirectional, Dense, Embedding\n",
    "from tensorflow.keras.datasets import imdb\n",
    "from tensorflow.keras.models import Sequential\n",
    "import numpy as np\n",
    "from sklearn.model_selection import train_test_split"
   ]
  },
  {
   "cell_type": "code",
   "execution_count": null,
   "id": "14e30d02",
   "metadata": {
    "id": "14e30d02"
   },
   "outputs": [],
   "source": [
    "from tensorflow.keras.preprocessing.text import Tokenizer\n",
    "from tensorflow.keras.preprocessing.sequence import pad_sequences"
   ]
  },
  {
   "cell_type": "code",
   "execution_count": null,
   "id": "335aa279",
   "metadata": {
    "colab": {
     "base_uri": "https://localhost:8080/"
    },
    "id": "335aa279",
    "outputId": "23ec5c57-4791-49fa-d8c7-8180b435e997"
   },
   "outputs": [
    {
     "name": "stdout",
     "output_type": "stream",
     "text": [
      "great music service audio high quality app easy use also quick friendly support\n",
      "3305    man spotify great know put covid warning appro...\n",
      "Name: Review, dtype: object\n",
      "[816, 3, 13, 71, 162, 1062, 1418, 2717, 516, 317, 285, 61]\n",
      "311\n"
     ]
    }
   ],
   "source": [
    "x_train, x_test, y_train, y_test = train_test_split(stf1['Review'], stf1['Rating'], test_size=0.2, random_state=42)\n",
    "print(x_train[0])\n",
    "\n",
    "# Tokenize data\n",
    "tokenizer = Tokenizer()\n",
    "tokenizer.fit_on_texts(x_train)\n",
    "print(x_train[0:1])\n",
    "x_train = tokenizer.texts_to_sequences(x_train)\n",
    "x_test = tokenizer.texts_to_sequences(x_test)\n",
    "print(x_train[0])\n",
    "\n",
    "# Pad the sequences to make all inputs the same length\n",
    "max_length = max([len(s) for s in x_train])\n",
    "print(max_length)"
   ]
  },
  {
   "cell_type": "code",
   "execution_count": null,
   "id": "2f2eaa35",
   "metadata": {
    "id": "2f2eaa35"
   },
   "outputs": [],
   "source": [
    "x_train = pad_sequences(x_train, maxlen=max_length, padding='post')\n",
    "x_test = pad_sequences(x_test, maxlen=max_length, padding='post')"
   ]
  },
  {
   "cell_type": "code",
   "execution_count": null,
   "id": "b28d8974",
   "metadata": {
    "id": "b28d8974"
   },
   "outputs": [],
   "source": [
    "x_valid, y_valid = x_train[:1000], y_train[:1000]\n",
    "x_train_, y_train_ = x_train[1000:], y_train[1000:]"
   ]
  },
  {
   "cell_type": "code",
   "execution_count": null,
   "id": "78a37a50",
   "metadata": {
    "colab": {
     "base_uri": "https://localhost:8080/"
    },
    "id": "78a37a50",
    "outputId": "69ec4958-fef8-416e-dbc1-43cd177836a3"
   },
   "outputs": [
    {
     "data": {
      "text/plain": [
       "array([ 816,    3,   13,   71,  162, 1062, 1418, 2717,  516,  317,  285,\n",
       "         61,    0,    0,    0,    0,    0,    0,    0,    0,    0,    0,\n",
       "          0,    0,    0,    0,    0,    0,    0,    0,    0,    0,    0,\n",
       "          0,    0,    0,    0,    0,    0,    0,    0,    0,    0,    0,\n",
       "          0,    0,    0,    0,    0,    0,    0,    0,    0,    0,    0,\n",
       "          0,    0,    0,    0,    0,    0,    0,    0,    0,    0,    0,\n",
       "          0,    0,    0,    0,    0,    0,    0,    0,    0,    0,    0,\n",
       "          0,    0,    0,    0,    0,    0,    0,    0,    0,    0,    0,\n",
       "          0,    0,    0,    0,    0,    0,    0,    0,    0,    0,    0,\n",
       "          0,    0,    0,    0,    0,    0,    0,    0,    0,    0,    0,\n",
       "          0,    0,    0,    0,    0,    0,    0,    0,    0,    0,    0,\n",
       "          0,    0,    0,    0,    0,    0,    0,    0,    0,    0,    0,\n",
       "          0,    0,    0,    0,    0,    0,    0,    0,    0,    0,    0,\n",
       "          0,    0,    0,    0,    0,    0,    0,    0,    0,    0,    0,\n",
       "          0,    0,    0,    0,    0,    0,    0,    0,    0,    0,    0,\n",
       "          0,    0,    0,    0,    0,    0,    0,    0,    0,    0,    0,\n",
       "          0,    0,    0,    0,    0,    0,    0,    0,    0,    0,    0,\n",
       "          0,    0,    0,    0,    0,    0,    0,    0,    0,    0,    0,\n",
       "          0,    0,    0,    0,    0,    0,    0,    0,    0,    0,    0,\n",
       "          0,    0,    0,    0,    0,    0,    0,    0,    0,    0,    0,\n",
       "          0,    0,    0,    0,    0,    0,    0,    0,    0,    0,    0,\n",
       "          0,    0,    0,    0,    0,    0,    0,    0,    0,    0,    0,\n",
       "          0,    0,    0,    0,    0,    0,    0,    0,    0,    0,    0,\n",
       "          0,    0,    0,    0,    0,    0,    0,    0,    0,    0,    0,\n",
       "          0,    0,    0,    0,    0,    0,    0,    0,    0,    0,    0,\n",
       "          0,    0,    0,    0,    0,    0,    0,    0,    0,    0,    0,\n",
       "          0,    0,    0,    0,    0,    0,    0,    0,    0,    0,    0,\n",
       "          0,    0,    0,    0,    0,    0,    0,    0,    0,    0,    0,\n",
       "          0,    0,    0], dtype=int32)"
      ]
     },
     "execution_count": 85,
     "metadata": {},
     "output_type": "execute_result"
    }
   ],
   "source": [
    "x_train[0]"
   ]
  },
  {
   "cell_type": "code",
   "execution_count": null,
   "id": "6kZ3KFanLNAc",
   "metadata": {
    "id": "6kZ3KFanLNAc"
   },
   "outputs": [],
   "source": [
    "def plot_training_hist(history):\n",
    "    '''Function to plot history for accuracy and loss'''\n",
    "    \n",
    "    fig, ax = plt.subplots(1, 2, figsize=(10,4))\n",
    "    \n",
    "    ax[0].plot(history.history['accuracy'])\n",
    "    ax[0].plot(history.history['val_accuracy'])\n",
    "    ax[0].set_title('Model Accuracy')\n",
    "    ax[0].set_xlabel('epoch')\n",
    "    ax[0].set_ylabel('accuracy')\n",
    "    ax[0].legend(['train', 'validation'], loc='best')\n",
    " \n",
    "    ax[1].plot(history.history['loss'])\n",
    "    ax[1].plot(history.history['val_loss'])\n",
    "    ax[1].set_title('Model Loss')\n",
    "    ax[1].set_xlabel('epoch')\n",
    "    ax[1].set_ylabel('loss')\n",
    "    ax[1].legend(['train', 'validation'], loc='best')\n"
   ]
  },
  {
   "cell_type": "markdown",
   "id": "c5b5d768",
   "metadata": {
    "id": "c5b5d768"
   },
   "source": [
    "#### simple RNN (Vanilla RNN)"
   ]
  },
  {
   "cell_type": "code",
   "execution_count": null,
   "id": "0b415a2a",
   "metadata": {
    "colab": {
     "base_uri": "https://localhost:8080/",
     "height": 1000
    },
    "id": "0b415a2a",
    "outputId": "baa90f6c-1b0c-4170-c961-0af29916ab41"
   },
   "outputs": [
    {
     "name": "stdout",
     "output_type": "stream",
     "text": [
      "Model: \"Simple_RNN\"\n",
      "_________________________________________________________________\n",
      " Layer (type)                Output Shape              Param #   \n",
      "=================================================================\n",
      " embedding (Embedding)       (None, 311, 32)           636544    \n",
      "                                                                 \n",
      " simple_rnn (SimpleRNN)      (None, 128)               20608     \n",
      "                                                                 \n",
      " dense (Dense)               (None, 1)                 129       \n",
      "                                                                 \n",
      "=================================================================\n",
      "Total params: 657,281\n",
      "Trainable params: 657,281\n",
      "Non-trainable params: 0\n",
      "_________________________________________________________________\n",
      "None\n",
      "Epoch 1/20\n",
      "769/769 [==============================] - 238s 303ms/step - loss: 0.6776 - accuracy: 0.5947 - val_loss: 0.6962 - val_accuracy: 0.5312\n",
      "Epoch 2/20\n",
      "769/769 [==============================] - 262s 341ms/step - loss: 0.6647 - accuracy: 0.5900 - val_loss: 0.7429 - val_accuracy: 0.5000\n",
      "Epoch 3/20\n",
      "769/769 [==============================] - 249s 324ms/step - loss: 0.6535 - accuracy: 0.5990 - val_loss: 0.7521 - val_accuracy: 0.4688\n",
      "Epoch 4/20\n",
      "769/769 [==============================] - 230s 299ms/step - loss: 0.6533 - accuracy: 0.5988 - val_loss: 0.7640 - val_accuracy: 0.4688\n",
      "Epoch 5/20\n",
      "769/769 [==============================] - 231s 301ms/step - loss: 0.6532 - accuracy: 0.5996 - val_loss: 0.7542 - val_accuracy: 0.5312\n",
      "Epoch 6/20\n",
      "769/769 [==============================] - 247s 322ms/step - loss: 0.6529 - accuracy: 0.5990 - val_loss: 0.7742 - val_accuracy: 0.4688\n",
      "Epoch 7/20\n",
      "769/769 [==============================] - 231s 300ms/step - loss: 0.6518 - accuracy: 0.6002 - val_loss: 0.7631 - val_accuracy: 0.4844\n",
      "Epoch 8/20\n",
      "769/769 [==============================] - 231s 300ms/step - loss: 0.6513 - accuracy: 0.5975 - val_loss: 0.7339 - val_accuracy: 0.5156\n",
      "Epoch 9/20\n",
      "769/769 [==============================] - 231s 301ms/step - loss: 0.6510 - accuracy: 0.5977 - val_loss: 0.7479 - val_accuracy: 0.4688\n",
      "Epoch 10/20\n",
      "769/769 [==============================] - 226s 294ms/step - loss: 0.6494 - accuracy: 0.5994 - val_loss: 0.7368 - val_accuracy: 0.4219\n",
      "Epoch 11/20\n",
      "424/769 [===============>..............] - ETA: 1:42 - loss: 0.6484 - accuracy: 0.6023"
     ]
    },
    {
     "ename": "KeyboardInterrupt",
     "evalue": "ignored",
     "output_type": "error",
     "traceback": [
      "\u001b[0;31m---------------------------------------------------------------------------\u001b[0m",
      "\u001b[0;31mKeyboardInterrupt\u001b[0m                         Traceback (most recent call last)",
      "\u001b[0;32m<ipython-input-17-1df6f49ee22c>\u001b[0m in \u001b[0;36m<module>\u001b[0;34m\u001b[0m\n\u001b[1;32m     18\u001b[0m \u001b[0;34m\u001b[0m\u001b[0m\n\u001b[1;32m     19\u001b[0m \u001b[0;31m# Training the model\u001b[0m\u001b[0;34m\u001b[0m\u001b[0;34m\u001b[0m\u001b[0;34m\u001b[0m\u001b[0m\n\u001b[0;32m---> 20\u001b[0;31m \u001b[0mhistory\u001b[0m \u001b[0;34m=\u001b[0m \u001b[0mRNN_model\u001b[0m\u001b[0;34m.\u001b[0m\u001b[0mfit\u001b[0m\u001b[0;34m(\u001b[0m\u001b[0mx_train_\u001b[0m\u001b[0;34m,\u001b[0m \u001b[0my_train_\u001b[0m\u001b[0;34m,\u001b[0m \u001b[0mbatch_size\u001b[0m\u001b[0;34m=\u001b[0m\u001b[0;36m64\u001b[0m\u001b[0;34m,\u001b[0m \u001b[0mepochs\u001b[0m\u001b[0;34m=\u001b[0m\u001b[0;36m20\u001b[0m\u001b[0;34m,\u001b[0m \u001b[0mverbose\u001b[0m\u001b[0;34m=\u001b[0m\u001b[0;36m1\u001b[0m\u001b[0;34m,\u001b[0m \u001b[0mvalidation_data\u001b[0m\u001b[0;34m=\u001b[0m\u001b[0;34m(\u001b[0m\u001b[0mx_valid\u001b[0m\u001b[0;34m,\u001b[0m \u001b[0my_valid\u001b[0m\u001b[0;34m)\u001b[0m\u001b[0;34m)\u001b[0m\u001b[0;34m\u001b[0m\u001b[0;34m\u001b[0m\u001b[0m\n\u001b[0m\u001b[1;32m     21\u001b[0m \u001b[0;34m\u001b[0m\u001b[0m\n\u001b[1;32m     22\u001b[0m \u001b[0;31m# Printing model score on test data\u001b[0m\u001b[0;34m\u001b[0m\u001b[0;34m\u001b[0m\u001b[0;34m\u001b[0m\u001b[0m\n",
      "\u001b[0;32m/usr/local/lib/python3.8/dist-packages/keras/utils/traceback_utils.py\u001b[0m in \u001b[0;36merror_handler\u001b[0;34m(*args, **kwargs)\u001b[0m\n\u001b[1;32m     62\u001b[0m     \u001b[0mfiltered_tb\u001b[0m \u001b[0;34m=\u001b[0m \u001b[0;32mNone\u001b[0m\u001b[0;34m\u001b[0m\u001b[0;34m\u001b[0m\u001b[0m\n\u001b[1;32m     63\u001b[0m     \u001b[0;32mtry\u001b[0m\u001b[0;34m:\u001b[0m\u001b[0;34m\u001b[0m\u001b[0;34m\u001b[0m\u001b[0m\n\u001b[0;32m---> 64\u001b[0;31m       \u001b[0;32mreturn\u001b[0m \u001b[0mfn\u001b[0m\u001b[0;34m(\u001b[0m\u001b[0;34m*\u001b[0m\u001b[0margs\u001b[0m\u001b[0;34m,\u001b[0m \u001b[0;34m**\u001b[0m\u001b[0mkwargs\u001b[0m\u001b[0;34m)\u001b[0m\u001b[0;34m\u001b[0m\u001b[0;34m\u001b[0m\u001b[0m\n\u001b[0m\u001b[1;32m     65\u001b[0m     \u001b[0;32mexcept\u001b[0m \u001b[0mException\u001b[0m \u001b[0;32mas\u001b[0m \u001b[0me\u001b[0m\u001b[0;34m:\u001b[0m  \u001b[0;31m# pylint: disable=broad-except\u001b[0m\u001b[0;34m\u001b[0m\u001b[0;34m\u001b[0m\u001b[0m\n\u001b[1;32m     66\u001b[0m       \u001b[0mfiltered_tb\u001b[0m \u001b[0;34m=\u001b[0m \u001b[0m_process_traceback_frames\u001b[0m\u001b[0;34m(\u001b[0m\u001b[0me\u001b[0m\u001b[0;34m.\u001b[0m\u001b[0m__traceback__\u001b[0m\u001b[0;34m)\u001b[0m\u001b[0;34m\u001b[0m\u001b[0;34m\u001b[0m\u001b[0m\n",
      "\u001b[0;32m/usr/local/lib/python3.8/dist-packages/keras/engine/training.py\u001b[0m in \u001b[0;36mfit\u001b[0;34m(self, x, y, batch_size, epochs, verbose, callbacks, validation_split, validation_data, shuffle, class_weight, sample_weight, initial_epoch, steps_per_epoch, validation_steps, validation_batch_size, validation_freq, max_queue_size, workers, use_multiprocessing)\u001b[0m\n\u001b[1;32m   1407\u001b[0m                 _r=1):\n\u001b[1;32m   1408\u001b[0m               \u001b[0mcallbacks\u001b[0m\u001b[0;34m.\u001b[0m\u001b[0mon_train_batch_begin\u001b[0m\u001b[0;34m(\u001b[0m\u001b[0mstep\u001b[0m\u001b[0;34m)\u001b[0m\u001b[0;34m\u001b[0m\u001b[0;34m\u001b[0m\u001b[0m\n\u001b[0;32m-> 1409\u001b[0;31m               \u001b[0mtmp_logs\u001b[0m \u001b[0;34m=\u001b[0m \u001b[0mself\u001b[0m\u001b[0;34m.\u001b[0m\u001b[0mtrain_function\u001b[0m\u001b[0;34m(\u001b[0m\u001b[0miterator\u001b[0m\u001b[0;34m)\u001b[0m\u001b[0;34m\u001b[0m\u001b[0;34m\u001b[0m\u001b[0m\n\u001b[0m\u001b[1;32m   1410\u001b[0m               \u001b[0;32mif\u001b[0m \u001b[0mdata_handler\u001b[0m\u001b[0;34m.\u001b[0m\u001b[0mshould_sync\u001b[0m\u001b[0;34m:\u001b[0m\u001b[0;34m\u001b[0m\u001b[0;34m\u001b[0m\u001b[0m\n\u001b[1;32m   1411\u001b[0m                 \u001b[0mcontext\u001b[0m\u001b[0;34m.\u001b[0m\u001b[0masync_wait\u001b[0m\u001b[0;34m(\u001b[0m\u001b[0;34m)\u001b[0m\u001b[0;34m\u001b[0m\u001b[0;34m\u001b[0m\u001b[0m\n",
      "\u001b[0;32m/usr/local/lib/python3.8/dist-packages/tensorflow/python/util/traceback_utils.py\u001b[0m in \u001b[0;36merror_handler\u001b[0;34m(*args, **kwargs)\u001b[0m\n\u001b[1;32m    148\u001b[0m     \u001b[0mfiltered_tb\u001b[0m \u001b[0;34m=\u001b[0m \u001b[0;32mNone\u001b[0m\u001b[0;34m\u001b[0m\u001b[0;34m\u001b[0m\u001b[0m\n\u001b[1;32m    149\u001b[0m     \u001b[0;32mtry\u001b[0m\u001b[0;34m:\u001b[0m\u001b[0;34m\u001b[0m\u001b[0;34m\u001b[0m\u001b[0m\n\u001b[0;32m--> 150\u001b[0;31m       \u001b[0;32mreturn\u001b[0m \u001b[0mfn\u001b[0m\u001b[0;34m(\u001b[0m\u001b[0;34m*\u001b[0m\u001b[0margs\u001b[0m\u001b[0;34m,\u001b[0m \u001b[0;34m**\u001b[0m\u001b[0mkwargs\u001b[0m\u001b[0;34m)\u001b[0m\u001b[0;34m\u001b[0m\u001b[0;34m\u001b[0m\u001b[0m\n\u001b[0m\u001b[1;32m    151\u001b[0m     \u001b[0;32mexcept\u001b[0m \u001b[0mException\u001b[0m \u001b[0;32mas\u001b[0m \u001b[0me\u001b[0m\u001b[0;34m:\u001b[0m\u001b[0;34m\u001b[0m\u001b[0;34m\u001b[0m\u001b[0m\n\u001b[1;32m    152\u001b[0m       \u001b[0mfiltered_tb\u001b[0m \u001b[0;34m=\u001b[0m \u001b[0m_process_traceback_frames\u001b[0m\u001b[0;34m(\u001b[0m\u001b[0me\u001b[0m\u001b[0;34m.\u001b[0m\u001b[0m__traceback__\u001b[0m\u001b[0;34m)\u001b[0m\u001b[0;34m\u001b[0m\u001b[0;34m\u001b[0m\u001b[0m\n",
      "\u001b[0;32m/usr/local/lib/python3.8/dist-packages/tensorflow/python/eager/def_function.py\u001b[0m in \u001b[0;36m__call__\u001b[0;34m(self, *args, **kwds)\u001b[0m\n\u001b[1;32m    913\u001b[0m \u001b[0;34m\u001b[0m\u001b[0m\n\u001b[1;32m    914\u001b[0m       \u001b[0;32mwith\u001b[0m \u001b[0mOptionalXlaContext\u001b[0m\u001b[0;34m(\u001b[0m\u001b[0mself\u001b[0m\u001b[0;34m.\u001b[0m\u001b[0m_jit_compile\u001b[0m\u001b[0;34m)\u001b[0m\u001b[0;34m:\u001b[0m\u001b[0;34m\u001b[0m\u001b[0;34m\u001b[0m\u001b[0m\n\u001b[0;32m--> 915\u001b[0;31m         \u001b[0mresult\u001b[0m \u001b[0;34m=\u001b[0m \u001b[0mself\u001b[0m\u001b[0;34m.\u001b[0m\u001b[0m_call\u001b[0m\u001b[0;34m(\u001b[0m\u001b[0;34m*\u001b[0m\u001b[0margs\u001b[0m\u001b[0;34m,\u001b[0m \u001b[0;34m**\u001b[0m\u001b[0mkwds\u001b[0m\u001b[0;34m)\u001b[0m\u001b[0;34m\u001b[0m\u001b[0;34m\u001b[0m\u001b[0m\n\u001b[0m\u001b[1;32m    916\u001b[0m \u001b[0;34m\u001b[0m\u001b[0m\n\u001b[1;32m    917\u001b[0m       \u001b[0mnew_tracing_count\u001b[0m \u001b[0;34m=\u001b[0m \u001b[0mself\u001b[0m\u001b[0;34m.\u001b[0m\u001b[0mexperimental_get_tracing_count\u001b[0m\u001b[0;34m(\u001b[0m\u001b[0;34m)\u001b[0m\u001b[0;34m\u001b[0m\u001b[0;34m\u001b[0m\u001b[0m\n",
      "\u001b[0;32m/usr/local/lib/python3.8/dist-packages/tensorflow/python/eager/def_function.py\u001b[0m in \u001b[0;36m_call\u001b[0;34m(self, *args, **kwds)\u001b[0m\n\u001b[1;32m    945\u001b[0m       \u001b[0;31m# In this case we have created variables on the first call, so we run the\u001b[0m\u001b[0;34m\u001b[0m\u001b[0;34m\u001b[0m\u001b[0;34m\u001b[0m\u001b[0m\n\u001b[1;32m    946\u001b[0m       \u001b[0;31m# defunned version which is guaranteed to never create variables.\u001b[0m\u001b[0;34m\u001b[0m\u001b[0;34m\u001b[0m\u001b[0;34m\u001b[0m\u001b[0m\n\u001b[0;32m--> 947\u001b[0;31m       \u001b[0;32mreturn\u001b[0m \u001b[0mself\u001b[0m\u001b[0;34m.\u001b[0m\u001b[0m_stateless_fn\u001b[0m\u001b[0;34m(\u001b[0m\u001b[0;34m*\u001b[0m\u001b[0margs\u001b[0m\u001b[0;34m,\u001b[0m \u001b[0;34m**\u001b[0m\u001b[0mkwds\u001b[0m\u001b[0;34m)\u001b[0m  \u001b[0;31m# pylint: disable=not-callable\u001b[0m\u001b[0;34m\u001b[0m\u001b[0;34m\u001b[0m\u001b[0m\n\u001b[0m\u001b[1;32m    948\u001b[0m     \u001b[0;32melif\u001b[0m \u001b[0mself\u001b[0m\u001b[0;34m.\u001b[0m\u001b[0m_stateful_fn\u001b[0m \u001b[0;32mis\u001b[0m \u001b[0;32mnot\u001b[0m \u001b[0;32mNone\u001b[0m\u001b[0;34m:\u001b[0m\u001b[0;34m\u001b[0m\u001b[0;34m\u001b[0m\u001b[0m\n\u001b[1;32m    949\u001b[0m       \u001b[0;31m# Release the lock early so that multiple threads can perform the call\u001b[0m\u001b[0;34m\u001b[0m\u001b[0;34m\u001b[0m\u001b[0;34m\u001b[0m\u001b[0m\n",
      "\u001b[0;32m/usr/local/lib/python3.8/dist-packages/tensorflow/python/eager/function.py\u001b[0m in \u001b[0;36m__call__\u001b[0;34m(self, *args, **kwargs)\u001b[0m\n\u001b[1;32m   2451\u001b[0m       (graph_function,\n\u001b[1;32m   2452\u001b[0m        filtered_flat_args) = self._maybe_define_function(args, kwargs)\n\u001b[0;32m-> 2453\u001b[0;31m     return graph_function._call_flat(\n\u001b[0m\u001b[1;32m   2454\u001b[0m         filtered_flat_args, captured_inputs=graph_function.captured_inputs)  # pylint: disable=protected-access\n\u001b[1;32m   2455\u001b[0m \u001b[0;34m\u001b[0m\u001b[0m\n",
      "\u001b[0;32m/usr/local/lib/python3.8/dist-packages/tensorflow/python/eager/function.py\u001b[0m in \u001b[0;36m_call_flat\u001b[0;34m(self, args, captured_inputs, cancellation_manager)\u001b[0m\n\u001b[1;32m   1858\u001b[0m         and executing_eagerly):\n\u001b[1;32m   1859\u001b[0m       \u001b[0;31m# No tape is watching; skip to running the function.\u001b[0m\u001b[0;34m\u001b[0m\u001b[0;34m\u001b[0m\u001b[0;34m\u001b[0m\u001b[0m\n\u001b[0;32m-> 1860\u001b[0;31m       return self._build_call_outputs(self._inference_function.call(\n\u001b[0m\u001b[1;32m   1861\u001b[0m           ctx, args, cancellation_manager=cancellation_manager))\n\u001b[1;32m   1862\u001b[0m     forward_backward = self._select_forward_and_backward_functions(\n",
      "\u001b[0;32m/usr/local/lib/python3.8/dist-packages/tensorflow/python/eager/function.py\u001b[0m in \u001b[0;36mcall\u001b[0;34m(self, ctx, args, cancellation_manager)\u001b[0m\n\u001b[1;32m    495\u001b[0m       \u001b[0;32mwith\u001b[0m \u001b[0m_InterpolateFunctionError\u001b[0m\u001b[0;34m(\u001b[0m\u001b[0mself\u001b[0m\u001b[0;34m)\u001b[0m\u001b[0;34m:\u001b[0m\u001b[0;34m\u001b[0m\u001b[0;34m\u001b[0m\u001b[0m\n\u001b[1;32m    496\u001b[0m         \u001b[0;32mif\u001b[0m \u001b[0mcancellation_manager\u001b[0m \u001b[0;32mis\u001b[0m \u001b[0;32mNone\u001b[0m\u001b[0;34m:\u001b[0m\u001b[0;34m\u001b[0m\u001b[0;34m\u001b[0m\u001b[0m\n\u001b[0;32m--> 497\u001b[0;31m           outputs = execute.execute(\n\u001b[0m\u001b[1;32m    498\u001b[0m               \u001b[0mstr\u001b[0m\u001b[0;34m(\u001b[0m\u001b[0mself\u001b[0m\u001b[0;34m.\u001b[0m\u001b[0msignature\u001b[0m\u001b[0;34m.\u001b[0m\u001b[0mname\u001b[0m\u001b[0;34m)\u001b[0m\u001b[0;34m,\u001b[0m\u001b[0;34m\u001b[0m\u001b[0;34m\u001b[0m\u001b[0m\n\u001b[1;32m    499\u001b[0m               \u001b[0mnum_outputs\u001b[0m\u001b[0;34m=\u001b[0m\u001b[0mself\u001b[0m\u001b[0;34m.\u001b[0m\u001b[0m_num_outputs\u001b[0m\u001b[0;34m,\u001b[0m\u001b[0;34m\u001b[0m\u001b[0;34m\u001b[0m\u001b[0m\n",
      "\u001b[0;32m/usr/local/lib/python3.8/dist-packages/tensorflow/python/eager/execute.py\u001b[0m in \u001b[0;36mquick_execute\u001b[0;34m(op_name, num_outputs, inputs, attrs, ctx, name)\u001b[0m\n\u001b[1;32m     52\u001b[0m   \u001b[0;32mtry\u001b[0m\u001b[0;34m:\u001b[0m\u001b[0;34m\u001b[0m\u001b[0;34m\u001b[0m\u001b[0m\n\u001b[1;32m     53\u001b[0m     \u001b[0mctx\u001b[0m\u001b[0;34m.\u001b[0m\u001b[0mensure_initialized\u001b[0m\u001b[0;34m(\u001b[0m\u001b[0;34m)\u001b[0m\u001b[0;34m\u001b[0m\u001b[0;34m\u001b[0m\u001b[0m\n\u001b[0;32m---> 54\u001b[0;31m     tensors = pywrap_tfe.TFE_Py_Execute(ctx._handle, device_name, op_name,\n\u001b[0m\u001b[1;32m     55\u001b[0m                                         inputs, attrs, num_outputs)\n\u001b[1;32m     56\u001b[0m   \u001b[0;32mexcept\u001b[0m \u001b[0mcore\u001b[0m\u001b[0;34m.\u001b[0m\u001b[0m_NotOkStatusException\u001b[0m \u001b[0;32mas\u001b[0m \u001b[0me\u001b[0m\u001b[0;34m:\u001b[0m\u001b[0;34m\u001b[0m\u001b[0;34m\u001b[0m\u001b[0m\n",
      "\u001b[0;31mKeyboardInterrupt\u001b[0m: "
     ]
    }
   ],
   "source": [
    "embd_len = 32\n",
    "\n",
    "RNN_model = Sequential(name=\"Simple_RNN\")\n",
    "RNN_model.add(Embedding(len(tokenizer.word_index), embd_len, input_length=max_length))\n",
    "\n",
    "RNN_model.add(SimpleRNN(128, activation='tanh', return_sequences=False))\n",
    "RNN_model.add(Dense(1, activation='sigmoid'))\n",
    "\n",
    "print(RNN_model.summary())\n",
    "\n",
    "RNN_model.compile(loss=\"binary_crossentropy\", optimizer='adam', metrics=['accuracy'])\n",
    "\n",
    "history = RNN_model.fit(x_train_, y_train_, batch_size=64, epochs=20, verbose=1, validation_data=(x_valid, y_valid))\n",
    "\n",
    "# model score on test data\n",
    "print()\n",
    "print(\"Simple_RNN Score---> \", RNN_model.evaluate(x_test, y_test, verbose=0))\n"
   ]
  },
  {
   "cell_type": "code",
   "execution_count": null,
   "id": "f7Iv3YlALEaD",
   "metadata": {
    "colab": {
     "base_uri": "https://localhost:8080/",
     "height": 206
    },
    "id": "f7Iv3YlALEaD",
    "outputId": "b8a3628d-cdac-4c44-9977-eec424a8fefb"
   },
   "outputs": [
    {
     "ename": "NameError",
     "evalue": "ignored",
     "output_type": "error",
     "traceback": [
      "\u001b[0;31m---------------------------------------------------------------------------\u001b[0m",
      "\u001b[0;31mNameError\u001b[0m                                 Traceback (most recent call last)",
      "\u001b[0;32m<ipython-input-21-da12c1abd366>\u001b[0m in \u001b[0;36m<module>\u001b[0;34m\u001b[0m\n\u001b[1;32m     18\u001b[0m     \u001b[0max\u001b[0m\u001b[0;34m[\u001b[0m\u001b[0;36m1\u001b[0m\u001b[0;34m]\u001b[0m\u001b[0;34m.\u001b[0m\u001b[0mlegend\u001b[0m\u001b[0;34m(\u001b[0m\u001b[0;34m[\u001b[0m\u001b[0;34m'train'\u001b[0m\u001b[0;34m,\u001b[0m \u001b[0;34m'validation'\u001b[0m\u001b[0;34m]\u001b[0m\u001b[0;34m,\u001b[0m \u001b[0mloc\u001b[0m\u001b[0;34m=\u001b[0m\u001b[0;34m'best'\u001b[0m\u001b[0;34m)\u001b[0m\u001b[0;34m\u001b[0m\u001b[0;34m\u001b[0m\u001b[0m\n\u001b[1;32m     19\u001b[0m \u001b[0;34m\u001b[0m\u001b[0m\n\u001b[0;32m---> 20\u001b[0;31m \u001b[0mplot_training_hist\u001b[0m\u001b[0;34m(\u001b[0m\u001b[0mhistory\u001b[0m\u001b[0;34m)\u001b[0m\u001b[0;34m\u001b[0m\u001b[0;34m\u001b[0m\u001b[0m\n\u001b[0m",
      "\u001b[0;31mNameError\u001b[0m: name 'history' is not defined"
     ]
    }
   ],
   "source": [
    "  plot_training_hist(history)"
   ]
  },
  {
   "cell_type": "markdown",
   "id": "58ef296b",
   "metadata": {
    "id": "58ef296b"
   },
   "source": [
    "#### GRU (Gated Recurent Units)"
   ]
  },
  {
   "cell_type": "code",
   "execution_count": null,
   "id": "cdae5a76",
   "metadata": {
    "colab": {
     "base_uri": "https://localhost:8080/"
    },
    "id": "cdae5a76",
    "outputId": "bfe1f693-45bb-495f-f4bd-bb9fafe2a2cb"
   },
   "outputs": [
    {
     "name": "stdout",
     "output_type": "stream",
     "text": [
      "Model: \"GRU_Model\"\n",
      "_________________________________________________________________\n",
      " Layer (type)                Output Shape              Param #   \n",
      "=================================================================\n",
      " embedding_2 (Embedding)     (None, 311, 32)           636544    \n",
      "                                                                 \n",
      " gru_1 (GRU)                 (None, 64)                18816     \n",
      "                                                                 \n",
      " dense_3 (Dense)             (None, 16)                1040      \n",
      "                                                                 \n",
      " dense_4 (Dense)             (None, 1)                 17        \n",
      "                                                                 \n",
      "=================================================================\n",
      "Total params: 656,417\n",
      "Trainable params: 656,417\n",
      "Non-trainable params: 0\n",
      "_________________________________________________________________\n",
      "None\n",
      "Epoch 1/20\n",
      "769/769 [==============================] - 12s 14ms/step - loss: 0.6876 - accuracy: 0.5928 - val_loss: 0.7021 - val_accuracy: 0.5312\n",
      "Epoch 2/20\n",
      "769/769 [==============================] - 10s 13ms/step - loss: 0.6755 - accuracy: 0.5970 - val_loss: 0.6933 - val_accuracy: 0.5312\n",
      "Epoch 3/20\n",
      "769/769 [==============================] - 10s 13ms/step - loss: 0.6761 - accuracy: 0.5970 - val_loss: 0.7003 - val_accuracy: 0.5312\n",
      "Epoch 4/20\n",
      "769/769 [==============================] - 10s 13ms/step - loss: 0.6762 - accuracy: 0.5959 - val_loss: 0.7012 - val_accuracy: 0.5312\n",
      "Epoch 5/20\n",
      "769/769 [==============================] - 10s 13ms/step - loss: 0.6756 - accuracy: 0.5970 - val_loss: 0.6937 - val_accuracy: 0.5312\n",
      "Epoch 6/20\n",
      "769/769 [==============================] - 10s 13ms/step - loss: 0.6760 - accuracy: 0.5970 - val_loss: 0.6937 - val_accuracy: 0.5312\n",
      "Epoch 7/20\n",
      "769/769 [==============================] - 11s 15ms/step - loss: 0.6757 - accuracy: 0.5970 - val_loss: 0.6934 - val_accuracy: 0.5312\n",
      "Epoch 8/20\n",
      "769/769 [==============================] - 10s 13ms/step - loss: 0.6752 - accuracy: 0.5970 - val_loss: 0.7078 - val_accuracy: 0.5312\n",
      "Epoch 9/20\n",
      "769/769 [==============================] - 10s 14ms/step - loss: 0.6752 - accuracy: 0.5970 - val_loss: 0.6983 - val_accuracy: 0.5312\n",
      "Epoch 10/20\n",
      "769/769 [==============================] - 10s 13ms/step - loss: 0.6752 - accuracy: 0.5970 - val_loss: 0.6965 - val_accuracy: 0.5312\n",
      "Epoch 11/20\n",
      "769/769 [==============================] - 10s 13ms/step - loss: 0.6752 - accuracy: 0.5970 - val_loss: 0.6924 - val_accuracy: 0.5312\n",
      "Epoch 12/20\n",
      "769/769 [==============================] - 10s 13ms/step - loss: 0.6750 - accuracy: 0.5970 - val_loss: 0.6986 - val_accuracy: 0.5312\n",
      "Epoch 13/20\n",
      "769/769 [==============================] - 12s 15ms/step - loss: 0.6752 - accuracy: 0.5970 - val_loss: 0.7004 - val_accuracy: 0.5312\n",
      "Epoch 14/20\n",
      "769/769 [==============================] - 13s 16ms/step - loss: 0.6750 - accuracy: 0.5970 - val_loss: 0.7052 - val_accuracy: 0.5312\n",
      "Epoch 15/20\n",
      "769/769 [==============================] - 10s 13ms/step - loss: 0.6752 - accuracy: 0.5970 - val_loss: 0.7014 - val_accuracy: 0.5312\n",
      "Epoch 16/20\n",
      "769/769 [==============================] - 10s 13ms/step - loss: 0.6749 - accuracy: 0.5970 - val_loss: 0.6985 - val_accuracy: 0.5312\n",
      "Epoch 17/20\n",
      "769/769 [==============================] - 10s 14ms/step - loss: 0.6750 - accuracy: 0.5970 - val_loss: 0.6978 - val_accuracy: 0.5312\n",
      "Epoch 18/20\n",
      "769/769 [==============================] - 10s 14ms/step - loss: 0.6750 - accuracy: 0.5970 - val_loss: 0.6957 - val_accuracy: 0.5312\n",
      "Epoch 19/20\n",
      "769/769 [==============================] - 10s 13ms/step - loss: 0.6749 - accuracy: 0.5970 - val_loss: 0.7094 - val_accuracy: 0.5312\n",
      "Epoch 20/20\n",
      "769/769 [==============================] - 10s 13ms/step - loss: 0.6748 - accuracy: 0.5970 - val_loss: 0.6974 - val_accuracy: 0.5312\n",
      "\n",
      "GRU model Score--->  [0.6728571057319641, 0.6015098690986633]\n"
     ]
    }
   ],
   "source": [
    "gru_model = Sequential(name=\"GRU_Model\")\n",
    "gru_model.add(Embedding(len(tokenizer.word_index)+1, embd_len, input_length=max_length))\n",
    "gru_model.add(GRU(64, activation='tanh', return_sequences=False))\n",
    "gru_model.add(Dense(16, activation='relu'))\n",
    "gru_model.add(Dense(1, activation='relu'))\n",
    "\n",
    "print(gru_model.summary())\n",
    "\n",
    "gru_model.compile(loss=\"binary_crossentropy\", optimizer='adam', metrics=['accuracy'])\n",
    "\n",
    "history2 = gru_model.fit(x_train_, y_train_, batch_size=64, epochs=20, verbose=1, validation_data=(x_valid, y_valid))\n",
    "\n",
    "print()\n",
    "print(\"GRU model Score---> \", gru_model.evaluate(x_test, y_test, verbose=0))\n"
   ]
  },
  {
   "cell_type": "code",
   "execution_count": null,
   "id": "20t9vulRhzmg",
   "metadata": {
    "colab": {
     "base_uri": "https://localhost:8080/",
     "height": 295
    },
    "id": "20t9vulRhzmg",
    "outputId": "09f3b826-c49a-4537-a725-0b706c28bc6f"
   },
   "outputs": [
    {
     "data": {
      "image/png": "[encoded data removed]",
      "text/plain": [
       "<Figure size 720x288 with 2 Axes>"
      ]
     },
     "metadata": {
      "needs_background": "light"
     },
     "output_type": "display_data"
    }
   ],
   "source": [
    "plot_training_hist(history2)"
   ]
  },
  {
   "cell_type": "markdown",
   "id": "a8d9d234",
   "metadata": {
    "id": "a8d9d234"
   },
   "source": [
    "#### LSTM"
   ]
  },
  {
   "cell_type": "code",
   "execution_count": null,
   "id": "a8702e5c",
   "metadata": {
    "id": "a8702e5c"
   },
   "outputs": [],
   "source": [
    "lstm_model = Sequential(name=\"LSTM_Model\")\n",
    "lstm_model.add(Embedding(len(tokenizer.word_index)+1, embd_len, input_length=max_length))\n",
    "lstm_model.add(LSTM(64, activation='relu', return_sequences=False))\n",
    "lstm_model.add(Dense(16, activation='sigmoid'))\n",
    "lstm_model.add(Dense(1, activation='sigmoid'))\n",
    "\n",
    "print(lstm_model.summary())\n",
    "\n",
    "lstm_model.compile( loss=\"binary_crossentropy\", optimizer='adam', metrics=['accuracy'])\n",
    "\n",
    "history3 = lstm_model.fit(x_train_, y_train_, batch_size=64, epochs=20, verbose=1, validation_data=(x_valid, y_valid))\n",
    "\n",
    "print()\n",
    "print(\"LSTM model Score---> \", lstm_model.evaluate(x_test, y_test, verbose=0))\n"
   ]
  },
  {
   "cell_type": "code",
   "execution_count": null,
   "id": "epW0wwVVLN8b",
   "metadata": {
    "id": "epW0wwVVLN8b"
   },
   "outputs": [],
   "source": [
    "plot_training_hist(history3)"
   ]
  },
  {
   "cell_type": "markdown",
   "id": "s0ViqHM4gaR7",
   "metadata": {
    "id": "s0ViqHM4gaR7"
   },
   "source": [
    "LSTM + Dropout"
   ]
  },
  {
   "cell_type": "code",
   "execution_count": null,
   "id": "eElZovFvgc-u",
   "metadata": {
    "colab": {
     "base_uri": "https://localhost:8080/",
     "height": 1000
    },
    "id": "eElZovFvgc-u",
    "outputId": "b12a219f-2d23-4330-d0b4-444c9a185bca"
   },
   "outputs": [
    {
     "name": "stdout",
     "output_type": "stream",
     "text": [
      "Model: \"LSTM_Model\"\n",
      "_________________________________________________________________\n",
      " Layer (type)                Output Shape              Param #   \n",
      "=================================================================\n",
      " embedding_25 (Embedding)    (None, 311, 32)           636544    \n",
      "                                                                 \n",
      " lstm_22 (LSTM)              (None, 16)                3136      \n",
      "                                                                 \n",
      " dropout_15 (Dropout)        (None, 16)                0         \n",
      "                                                                 \n",
      " dense_49 (Dense)            (None, 16)                272       \n",
      "                                                                 \n",
      " dropout_16 (Dropout)        (None, 16)                0         \n",
      "                                                                 \n",
      " dense_50 (Dense)            (None, 1)                 17        \n",
      "                                                                 \n",
      "=================================================================\n",
      "Total params: 639,969\n",
      "Trainable params: 639,969\n",
      "Non-trainable params: 0\n",
      "_________________________________________________________________\n",
      "None\n",
      "Epoch 1/10\n",
      "769/769 [==============================] - 13s 15ms/step - loss: 0.6766 - accuracy: 0.5970 - val_loss: 0.6991 - val_accuracy: 0.5312\n",
      "Epoch 2/10\n",
      "769/769 [==============================] - 11s 14ms/step - loss: 0.6751 - accuracy: 0.5970 - val_loss: 0.6967 - val_accuracy: 0.5312\n",
      "Epoch 3/10\n",
      "769/769 [==============================] - 14s 19ms/step - loss: 0.6748 - accuracy: 0.5970 - val_loss: 0.6995 - val_accuracy: 0.5312\n",
      "Epoch 4/10\n",
      "769/769 [==============================] - 14s 18ms/step - loss: 0.6745 - accuracy: 0.5970 - val_loss: 0.7003 - val_accuracy: 0.5312\n",
      "Epoch 5/10\n",
      "769/769 [==============================] - 12s 15ms/step - loss: 0.6746 - accuracy: 0.5970 - val_loss: 0.7013 - val_accuracy: 0.5312\n",
      "Epoch 6/10\n",
      "769/769 [==============================] - 12s 16ms/step - loss: 0.6744 - accuracy: 0.5970 - val_loss: 0.6991 - val_accuracy: 0.5312\n",
      "Epoch 7/10\n",
      "769/769 [==============================] - 11s 14ms/step - loss: 0.6743 - accuracy: 0.5970 - val_loss: 0.7017 - val_accuracy: 0.5312\n",
      "Epoch 8/10\n",
      "769/769 [==============================] - 11s 14ms/step - loss: 0.6743 - accuracy: 0.5970 - val_loss: 0.6996 - val_accuracy: 0.5312\n",
      "Epoch 9/10\n",
      "  5/769 [..............................] - ETA: 10s - loss: 0.6671 - accuracy: 0.6156"
     ]
    },
    {
     "ename": "KeyboardInterrupt",
     "evalue": "ignored",
     "output_type": "error",
     "traceback": [
      "\u001b[0;31m---------------------------------------------------------------------------\u001b[0m",
      "\u001b[0;31mKeyboardInterrupt\u001b[0m                         Traceback (most recent call last)",
      "\u001b[0;32m<ipython-input-68-749f46e349e5>\u001b[0m in \u001b[0;36m<module>\u001b[0;34m\u001b[0m\n\u001b[1;32m     15\u001b[0m \u001b[0;34m\u001b[0m\u001b[0m\n\u001b[1;32m     16\u001b[0m \u001b[0;31m# Training the model\u001b[0m\u001b[0;34m\u001b[0m\u001b[0;34m\u001b[0m\u001b[0;34m\u001b[0m\u001b[0m\n\u001b[0;32m---> 17\u001b[0;31m \u001b[0mhistory7\u001b[0m \u001b[0;34m=\u001b[0m \u001b[0mlstm_model\u001b[0m\u001b[0;34m.\u001b[0m\u001b[0mfit\u001b[0m\u001b[0;34m(\u001b[0m\u001b[0mx_train_\u001b[0m\u001b[0;34m,\u001b[0m \u001b[0my_train_\u001b[0m\u001b[0;34m,\u001b[0m \u001b[0mbatch_size\u001b[0m\u001b[0;34m=\u001b[0m\u001b[0;36m64\u001b[0m\u001b[0;34m,\u001b[0m \u001b[0mepochs\u001b[0m\u001b[0;34m=\u001b[0m\u001b[0;36m10\u001b[0m\u001b[0;34m,\u001b[0m \u001b[0mverbose\u001b[0m\u001b[0;34m=\u001b[0m\u001b[0;36m1\u001b[0m\u001b[0;34m,\u001b[0m \u001b[0mvalidation_data\u001b[0m\u001b[0;34m=\u001b[0m\u001b[0;34m(\u001b[0m\u001b[0mx_valid\u001b[0m\u001b[0;34m,\u001b[0m \u001b[0my_valid\u001b[0m\u001b[0;34m)\u001b[0m\u001b[0;34m)\u001b[0m\u001b[0;34m\u001b[0m\u001b[0;34m\u001b[0m\u001b[0m\n\u001b[0m\u001b[1;32m     18\u001b[0m \u001b[0;34m\u001b[0m\u001b[0m\n\u001b[1;32m     19\u001b[0m \u001b[0;31m# Displaying the model accuracy on test data\u001b[0m\u001b[0;34m\u001b[0m\u001b[0;34m\u001b[0m\u001b[0;34m\u001b[0m\u001b[0m\n",
      "\u001b[0;32m/usr/local/lib/python3.8/dist-packages/keras/utils/traceback_utils.py\u001b[0m in \u001b[0;36merror_handler\u001b[0;34m(*args, **kwargs)\u001b[0m\n\u001b[1;32m     62\u001b[0m     \u001b[0mfiltered_tb\u001b[0m \u001b[0;34m=\u001b[0m \u001b[0;32mNone\u001b[0m\u001b[0;34m\u001b[0m\u001b[0;34m\u001b[0m\u001b[0m\n\u001b[1;32m     63\u001b[0m     \u001b[0;32mtry\u001b[0m\u001b[0;34m:\u001b[0m\u001b[0;34m\u001b[0m\u001b[0;34m\u001b[0m\u001b[0m\n\u001b[0;32m---> 64\u001b[0;31m       \u001b[0;32mreturn\u001b[0m \u001b[0mfn\u001b[0m\u001b[0;34m(\u001b[0m\u001b[0;34m*\u001b[0m\u001b[0margs\u001b[0m\u001b[0;34m,\u001b[0m \u001b[0;34m**\u001b[0m\u001b[0mkwargs\u001b[0m\u001b[0;34m)\u001b[0m\u001b[0;34m\u001b[0m\u001b[0;34m\u001b[0m\u001b[0m\n\u001b[0m\u001b[1;32m     65\u001b[0m     \u001b[0;32mexcept\u001b[0m \u001b[0mException\u001b[0m \u001b[0;32mas\u001b[0m \u001b[0me\u001b[0m\u001b[0;34m:\u001b[0m  \u001b[0;31m# pylint: disable=broad-except\u001b[0m\u001b[0;34m\u001b[0m\u001b[0;34m\u001b[0m\u001b[0m\n\u001b[1;32m     66\u001b[0m       \u001b[0mfiltered_tb\u001b[0m \u001b[0;34m=\u001b[0m \u001b[0m_process_traceback_frames\u001b[0m\u001b[0;34m(\u001b[0m\u001b[0me\u001b[0m\u001b[0;34m.\u001b[0m\u001b[0m__traceback__\u001b[0m\u001b[0;34m)\u001b[0m\u001b[0;34m\u001b[0m\u001b[0;34m\u001b[0m\u001b[0m\n",
      "\u001b[0;32m/usr/local/lib/python3.8/dist-packages/keras/engine/training.py\u001b[0m in \u001b[0;36mfit\u001b[0;34m(self, x, y, batch_size, epochs, verbose, callbacks, validation_split, validation_data, shuffle, class_weight, sample_weight, initial_epoch, steps_per_epoch, validation_steps, validation_batch_size, validation_freq, max_queue_size, workers, use_multiprocessing)\u001b[0m\n\u001b[1;32m   1407\u001b[0m                 _r=1):\n\u001b[1;32m   1408\u001b[0m               \u001b[0mcallbacks\u001b[0m\u001b[0;34m.\u001b[0m\u001b[0mon_train_batch_begin\u001b[0m\u001b[0;34m(\u001b[0m\u001b[0mstep\u001b[0m\u001b[0;34m)\u001b[0m\u001b[0;34m\u001b[0m\u001b[0;34m\u001b[0m\u001b[0m\n\u001b[0;32m-> 1409\u001b[0;31m               \u001b[0mtmp_logs\u001b[0m \u001b[0;34m=\u001b[0m \u001b[0mself\u001b[0m\u001b[0;34m.\u001b[0m\u001b[0mtrain_function\u001b[0m\u001b[0;34m(\u001b[0m\u001b[0miterator\u001b[0m\u001b[0;34m)\u001b[0m\u001b[0;34m\u001b[0m\u001b[0;34m\u001b[0m\u001b[0m\n\u001b[0m\u001b[1;32m   1410\u001b[0m               \u001b[0;32mif\u001b[0m \u001b[0mdata_handler\u001b[0m\u001b[0;34m.\u001b[0m\u001b[0mshould_sync\u001b[0m\u001b[0;34m:\u001b[0m\u001b[0;34m\u001b[0m\u001b[0;34m\u001b[0m\u001b[0m\n\u001b[1;32m   1411\u001b[0m                 \u001b[0mcontext\u001b[0m\u001b[0;34m.\u001b[0m\u001b[0masync_wait\u001b[0m\u001b[0;34m(\u001b[0m\u001b[0;34m)\u001b[0m\u001b[0;34m\u001b[0m\u001b[0;34m\u001b[0m\u001b[0m\n",
      "\u001b[0;32m/usr/local/lib/python3.8/dist-packages/tensorflow/python/util/traceback_utils.py\u001b[0m in \u001b[0;36merror_handler\u001b[0;34m(*args, **kwargs)\u001b[0m\n\u001b[1;32m    148\u001b[0m     \u001b[0mfiltered_tb\u001b[0m \u001b[0;34m=\u001b[0m \u001b[0;32mNone\u001b[0m\u001b[0;34m\u001b[0m\u001b[0;34m\u001b[0m\u001b[0m\n\u001b[1;32m    149\u001b[0m     \u001b[0;32mtry\u001b[0m\u001b[0;34m:\u001b[0m\u001b[0;34m\u001b[0m\u001b[0;34m\u001b[0m\u001b[0m\n\u001b[0;32m--> 150\u001b[0;31m       \u001b[0;32mreturn\u001b[0m \u001b[0mfn\u001b[0m\u001b[0;34m(\u001b[0m\u001b[0;34m*\u001b[0m\u001b[0margs\u001b[0m\u001b[0;34m,\u001b[0m \u001b[0;34m**\u001b[0m\u001b[0mkwargs\u001b[0m\u001b[0;34m)\u001b[0m\u001b[0;34m\u001b[0m\u001b[0;34m\u001b[0m\u001b[0m\n\u001b[0m\u001b[1;32m    151\u001b[0m     \u001b[0;32mexcept\u001b[0m \u001b[0mException\u001b[0m \u001b[0;32mas\u001b[0m \u001b[0me\u001b[0m\u001b[0;34m:\u001b[0m\u001b[0;34m\u001b[0m\u001b[0;34m\u001b[0m\u001b[0m\n\u001b[1;32m    152\u001b[0m       \u001b[0mfiltered_tb\u001b[0m \u001b[0;34m=\u001b[0m \u001b[0m_process_traceback_frames\u001b[0m\u001b[0;34m(\u001b[0m\u001b[0me\u001b[0m\u001b[0;34m.\u001b[0m\u001b[0m__traceback__\u001b[0m\u001b[0;34m)\u001b[0m\u001b[0;34m\u001b[0m\u001b[0;34m\u001b[0m\u001b[0m\n",
      "\u001b[0;32m/usr/local/lib/python3.8/dist-packages/tensorflow/python/eager/def_function.py\u001b[0m in \u001b[0;36m__call__\u001b[0;34m(self, *args, **kwds)\u001b[0m\n\u001b[1;32m    913\u001b[0m \u001b[0;34m\u001b[0m\u001b[0m\n\u001b[1;32m    914\u001b[0m       \u001b[0;32mwith\u001b[0m \u001b[0mOptionalXlaContext\u001b[0m\u001b[0;34m(\u001b[0m\u001b[0mself\u001b[0m\u001b[0;34m.\u001b[0m\u001b[0m_jit_compile\u001b[0m\u001b[0;34m)\u001b[0m\u001b[0;34m:\u001b[0m\u001b[0;34m\u001b[0m\u001b[0;34m\u001b[0m\u001b[0m\n\u001b[0;32m--> 915\u001b[0;31m         \u001b[0mresult\u001b[0m \u001b[0;34m=\u001b[0m \u001b[0mself\u001b[0m\u001b[0;34m.\u001b[0m\u001b[0m_call\u001b[0m\u001b[0;34m(\u001b[0m\u001b[0;34m*\u001b[0m\u001b[0margs\u001b[0m\u001b[0;34m,\u001b[0m \u001b[0;34m**\u001b[0m\u001b[0mkwds\u001b[0m\u001b[0;34m)\u001b[0m\u001b[0;34m\u001b[0m\u001b[0;34m\u001b[0m\u001b[0m\n\u001b[0m\u001b[1;32m    916\u001b[0m \u001b[0;34m\u001b[0m\u001b[0m\n\u001b[1;32m    917\u001b[0m       \u001b[0mnew_tracing_count\u001b[0m \u001b[0;34m=\u001b[0m \u001b[0mself\u001b[0m\u001b[0;34m.\u001b[0m\u001b[0mexperimental_get_tracing_count\u001b[0m\u001b[0;34m(\u001b[0m\u001b[0;34m)\u001b[0m\u001b[0;34m\u001b[0m\u001b[0;34m\u001b[0m\u001b[0m\n",
      "\u001b[0;32m/usr/local/lib/python3.8/dist-packages/tensorflow/python/eager/def_function.py\u001b[0m in \u001b[0;36m_call\u001b[0;34m(self, *args, **kwds)\u001b[0m\n\u001b[1;32m    945\u001b[0m       \u001b[0;31m# In this case we have created variables on the first call, so we run the\u001b[0m\u001b[0;34m\u001b[0m\u001b[0;34m\u001b[0m\u001b[0;34m\u001b[0m\u001b[0m\n\u001b[1;32m    946\u001b[0m       \u001b[0;31m# defunned version which is guaranteed to never create variables.\u001b[0m\u001b[0;34m\u001b[0m\u001b[0;34m\u001b[0m\u001b[0;34m\u001b[0m\u001b[0m\n\u001b[0;32m--> 947\u001b[0;31m       \u001b[0;32mreturn\u001b[0m \u001b[0mself\u001b[0m\u001b[0;34m.\u001b[0m\u001b[0m_stateless_fn\u001b[0m\u001b[0;34m(\u001b[0m\u001b[0;34m*\u001b[0m\u001b[0margs\u001b[0m\u001b[0;34m,\u001b[0m \u001b[0;34m**\u001b[0m\u001b[0mkwds\u001b[0m\u001b[0;34m)\u001b[0m  \u001b[0;31m# pylint: disable=not-callable\u001b[0m\u001b[0;34m\u001b[0m\u001b[0;34m\u001b[0m\u001b[0m\n\u001b[0m\u001b[1;32m    948\u001b[0m     \u001b[0;32melif\u001b[0m \u001b[0mself\u001b[0m\u001b[0;34m.\u001b[0m\u001b[0m_stateful_fn\u001b[0m \u001b[0;32mis\u001b[0m \u001b[0;32mnot\u001b[0m \u001b[0;32mNone\u001b[0m\u001b[0;34m:\u001b[0m\u001b[0;34m\u001b[0m\u001b[0;34m\u001b[0m\u001b[0m\n\u001b[1;32m    949\u001b[0m       \u001b[0;31m# Release the lock early so that multiple threads can perform the call\u001b[0m\u001b[0;34m\u001b[0m\u001b[0;34m\u001b[0m\u001b[0;34m\u001b[0m\u001b[0m\n",
      "\u001b[0;32m/usr/local/lib/python3.8/dist-packages/tensorflow/python/eager/function.py\u001b[0m in \u001b[0;36m__call__\u001b[0;34m(self, *args, **kwargs)\u001b[0m\n\u001b[1;32m   2451\u001b[0m       (graph_function,\n\u001b[1;32m   2452\u001b[0m        filtered_flat_args) = self._maybe_define_function(args, kwargs)\n\u001b[0;32m-> 2453\u001b[0;31m     return graph_function._call_flat(\n\u001b[0m\u001b[1;32m   2454\u001b[0m         filtered_flat_args, captured_inputs=graph_function.captured_inputs)  # pylint: disable=protected-access\n\u001b[1;32m   2455\u001b[0m \u001b[0;34m\u001b[0m\u001b[0m\n",
      "\u001b[0;32m/usr/local/lib/python3.8/dist-packages/tensorflow/python/eager/function.py\u001b[0m in \u001b[0;36m_call_flat\u001b[0;34m(self, args, captured_inputs, cancellation_manager)\u001b[0m\n\u001b[1;32m   1858\u001b[0m         and executing_eagerly):\n\u001b[1;32m   1859\u001b[0m       \u001b[0;31m# No tape is watching; skip to running the function.\u001b[0m\u001b[0;34m\u001b[0m\u001b[0;34m\u001b[0m\u001b[0;34m\u001b[0m\u001b[0m\n\u001b[0;32m-> 1860\u001b[0;31m       return self._build_call_outputs(self._inference_function.call(\n\u001b[0m\u001b[1;32m   1861\u001b[0m           ctx, args, cancellation_manager=cancellation_manager))\n\u001b[1;32m   1862\u001b[0m     forward_backward = self._select_forward_and_backward_functions(\n",
      "\u001b[0;32m/usr/local/lib/python3.8/dist-packages/tensorflow/python/eager/function.py\u001b[0m in \u001b[0;36mcall\u001b[0;34m(self, ctx, args, cancellation_manager)\u001b[0m\n\u001b[1;32m    495\u001b[0m       \u001b[0;32mwith\u001b[0m \u001b[0m_InterpolateFunctionError\u001b[0m\u001b[0;34m(\u001b[0m\u001b[0mself\u001b[0m\u001b[0;34m)\u001b[0m\u001b[0;34m:\u001b[0m\u001b[0;34m\u001b[0m\u001b[0;34m\u001b[0m\u001b[0m\n\u001b[1;32m    496\u001b[0m         \u001b[0;32mif\u001b[0m \u001b[0mcancellation_manager\u001b[0m \u001b[0;32mis\u001b[0m \u001b[0;32mNone\u001b[0m\u001b[0;34m:\u001b[0m\u001b[0;34m\u001b[0m\u001b[0;34m\u001b[0m\u001b[0m\n\u001b[0;32m--> 497\u001b[0;31m           outputs = execute.execute(\n\u001b[0m\u001b[1;32m    498\u001b[0m               \u001b[0mstr\u001b[0m\u001b[0;34m(\u001b[0m\u001b[0mself\u001b[0m\u001b[0;34m.\u001b[0m\u001b[0msignature\u001b[0m\u001b[0;34m.\u001b[0m\u001b[0mname\u001b[0m\u001b[0;34m)\u001b[0m\u001b[0;34m,\u001b[0m\u001b[0;34m\u001b[0m\u001b[0;34m\u001b[0m\u001b[0m\n\u001b[1;32m    499\u001b[0m               \u001b[0mnum_outputs\u001b[0m\u001b[0;34m=\u001b[0m\u001b[0mself\u001b[0m\u001b[0;34m.\u001b[0m\u001b[0m_num_outputs\u001b[0m\u001b[0;34m,\u001b[0m\u001b[0;34m\u001b[0m\u001b[0;34m\u001b[0m\u001b[0m\n",
      "\u001b[0;32m/usr/local/lib/python3.8/dist-packages/tensorflow/python/eager/execute.py\u001b[0m in \u001b[0;36mquick_execute\u001b[0;34m(op_name, num_outputs, inputs, attrs, ctx, name)\u001b[0m\n\u001b[1;32m     52\u001b[0m   \u001b[0;32mtry\u001b[0m\u001b[0;34m:\u001b[0m\u001b[0;34m\u001b[0m\u001b[0;34m\u001b[0m\u001b[0m\n\u001b[1;32m     53\u001b[0m     \u001b[0mctx\u001b[0m\u001b[0;34m.\u001b[0m\u001b[0mensure_initialized\u001b[0m\u001b[0;34m(\u001b[0m\u001b[0;34m)\u001b[0m\u001b[0;34m\u001b[0m\u001b[0;34m\u001b[0m\u001b[0m\n\u001b[0;32m---> 54\u001b[0;31m     tensors = pywrap_tfe.TFE_Py_Execute(ctx._handle, device_name, op_name,\n\u001b[0m\u001b[1;32m     55\u001b[0m                                         inputs, attrs, num_outputs)\n\u001b[1;32m     56\u001b[0m   \u001b[0;32mexcept\u001b[0m \u001b[0mcore\u001b[0m\u001b[0;34m.\u001b[0m\u001b[0m_NotOkStatusException\u001b[0m \u001b[0;32mas\u001b[0m \u001b[0me\u001b[0m\u001b[0;34m:\u001b[0m\u001b[0;34m\u001b[0m\u001b[0;34m\u001b[0m\u001b[0m\n",
      "\u001b[0;31mKeyboardInterrupt\u001b[0m: "
     ]
    }
   ],
   "source": [
    "lstm_model = Sequential(name=\"LSTM_Model\")\n",
    "lstm_model.add(Embedding(len(tokenizer.word_index)+1, embd_len, input_length=max_length))\n",
    "lstm_model.add(LSTM(16, activation='tanh', return_sequences=False))\n",
    "lstm_model.add(Dropout(0.5))\n",
    "lstm_model.add(Dense(16, activation='relu'))\n",
    "lstm_model.add(Dropout(0.5))\n",
    "lstm_model.add(Dense(1, activation='softmax'))\n",
    "\n",
    "print(lstm_model.summary())\n",
    "\n",
    "lstm_model.compile( loss=\"binary_crossentropy\", optimizer='adam', metrics=['accuracy'])\n",
    "\n",
    "history4 = lstm_model.fit(x_train_, y_train_, batch_size=64, epochs=10, verbose=1, validation_data=(x_valid, y_valid))\n",
    "\n",
    "print()\n",
    "print(\"LSTM model Score---> \", lstm_model.evaluate(x_test, y_test, verbose=0))\n"
   ]
  },
  {
   "cell_type": "code",
   "execution_count": null,
   "id": "ewlye-F4gd4L",
   "metadata": {
    "id": "ewlye-F4gd4L"
   },
   "outputs": [],
   "source": [
    "plot_training_hist(history4)"
   ]
  },
  {
   "cell_type": "markdown",
   "id": "78427bf2",
   "metadata": {
    "id": "78427bf2"
   },
   "source": [
    "#### Bi-Directional LSTM"
   ]
  },
  {
   "cell_type": "code",
   "execution_count": null,
   "id": "2d2a7782",
   "metadata": {
    "colab": {
     "base_uri": "https://localhost:8080/"
    },
    "id": "2d2a7782",
    "outputId": "0506ffbd-1568-4765-e2da-30b4662f5f91"
   },
   "outputs": [
    {
     "name": "stdout",
     "output_type": "stream",
     "text": [
      "Model: \"Bidirectional_LSTM\"\n",
      "_________________________________________________________________\n",
      " Layer (type)                Output Shape              Param #   \n",
      "=================================================================\n",
      " embedding_5 (Embedding)     (None, 311, 32)           636544    \n",
      "                                                                 \n",
      " bidirectional_2 (Bidirectio  (None, 311, 128)         49664     \n",
      " nal)                                                            \n",
      "                                                                 \n",
      " bidirectional_3 (Bidirectio  (None, 64)               41216     \n",
      " nal)                                                            \n",
      "                                                                 \n",
      " dense_9 (Dense)             (None, 16)                1040      \n",
      "                                                                 \n",
      " dense_10 (Dense)            (None, 1)                 17        \n",
      "                                                                 \n",
      "=================================================================\n",
      "Total params: 728,481\n",
      "Trainable params: 728,481\n",
      "Non-trainable params: 0\n",
      "_________________________________________________________________\n",
      "None\n",
      "Epoch 1/10\n",
      "769/769 [==============================] - 45s 52ms/step - loss: 0.5077 - accuracy: 0.7679 - val_loss: 0.4201 - val_accuracy: 0.8227\n",
      "Epoch 2/10\n",
      "769/769 [==============================] - 38s 49ms/step - loss: 0.4175 - accuracy: 0.8176 - val_loss: 0.4824 - val_accuracy: 0.8219\n",
      "Epoch 3/10\n",
      "769/769 [==============================] - 38s 49ms/step - loss: 0.3699 - accuracy: 0.8526 - val_loss: 0.4652 - val_accuracy: 0.7925\n",
      "Epoch 4/10\n",
      "769/769 [==============================] - 38s 49ms/step - loss: 0.3726 - accuracy: 0.8457 - val_loss: 0.5089 - val_accuracy: 0.8060\n",
      "Epoch 5/10\n",
      "769/769 [==============================] - 38s 49ms/step - loss: 0.3658 - accuracy: 0.8555 - val_loss: 0.4475 - val_accuracy: 0.8205\n",
      "Epoch 6/10\n",
      "769/769 [==============================] - 38s 49ms/step - loss: 0.3371 - accuracy: 0.8664 - val_loss: 0.6278 - val_accuracy: 0.6551\n",
      "Epoch 7/10\n",
      "769/769 [==============================] - 38s 50ms/step - loss: 0.3120 - accuracy: 0.8803 - val_loss: 0.5989 - val_accuracy: 0.8156\n",
      "Epoch 8/10\n",
      "769/769 [==============================] - 40s 52ms/step - loss: 0.2960 - accuracy: 0.8892 - val_loss: 0.4364 - val_accuracy: 0.8204\n",
      "Epoch 9/10\n",
      "769/769 [==============================] - 42s 55ms/step - loss: 0.2967 - accuracy: 0.8843 - val_loss: 0.5099 - val_accuracy: 0.8098\n",
      "Epoch 10/10\n",
      "769/769 [==============================] - 41s 54ms/step - loss: 0.2608 - accuracy: 0.9010 - val_loss: 0.6967 - val_accuracy: 0.8114\n",
      "\n",
      "Bidirectional LSTM model Score--->  [0.6967310905456543, 0.811429500579834]\n"
     ]
    }
   ],
   "source": [
    "bi_lstm_model = Sequential(name=\"Bidirectional_LSTM\")\n",
    "bi_lstm_model.add(Embedding(len(tokenizer.word_index)+1, embd_len, input_length=max_length))\n",
    "bi_lstm_model.add(Bidirectional(LSTM(64, activation='tanh', return_sequences=True)))\n",
    "bi_lstm_model.add(Bidirectional(LSTM(32)))\n",
    "bi_lstm_model.add(Dense(16, activation='relu'))\n",
    "bi_lstm_model.add(Dense(1, activation='relu'))\n",
    "\n",
    "print(bi_lstm_model.summary())\n",
    "\n",
    "bi_lstm_model.compile(\n",
    "loss=\"binary_crossentropy\",\n",
    "optimizer='adam',\n",
    "metrics=['accuracy']\n",
    ")\n",
    "\n",
    "history5 = bi_lstm_model.fit(x_train_, y_train_, batch_size=64, epochs=10, verbose=1, validation_data=(x_test, y_test))\n",
    "\n",
    "print()\n",
    "print(\"Bidirectional LSTM model Score---> \", bi_lstm_model.evaluate(x_test, y_test, verbose=0))\n"
   ]
  },
  {
   "cell_type": "code",
   "execution_count": null,
   "id": "dqscNIC_LOjd",
   "metadata": {
    "colab": {
     "base_uri": "https://localhost:8080/",
     "height": 295
    },
    "id": "dqscNIC_LOjd",
    "outputId": "0be3f3b5-b2fc-45e6-c9d8-b7739c55b12b"
   },
   "outputs": [
    {
     "data": {
      "image/png": "[encoded data removed]",
      "text/plain": [
       "<Figure size 720x288 with 2 Axes>"
      ]
     },
     "metadata": {
      "needs_background": "light"
     },
     "output_type": "display_data"
    }
   ],
   "source": [
    "plot_training_hist(history5)"
   ]
  },
  {
   "cell_type": "markdown",
   "id": "SyXIbQeyr1Ax",
   "metadata": {
    "id": "SyXIbQeyr1Ax"
   },
   "source": [
    "Bi Directional 2"
   ]
  },
  {
   "cell_type": "code",
   "execution_count": null,
   "id": "_lt_1vrdL3Xr",
   "metadata": {
    "colab": {
     "base_uri": "https://localhost:8080/"
    },
    "id": "_lt_1vrdL3Xr",
    "outputId": "13bf4c8c-0ed4-4e8b-8d2c-c2b5d5d9438b"
   },
   "outputs": [
    {
     "name": "stdout",
     "output_type": "stream",
     "text": [
      "Model: \"Bidirectional_LSTM\"\n",
      "_________________________________________________________________\n",
      " Layer (type)                Output Shape              Param #   \n",
      "=================================================================\n",
      " embedding_10 (Embedding)    (None, 311, 32)           636544    \n",
      "                                                                 \n",
      " bidirectional_8 (Bidirectio  (None, 128)              49664     \n",
      " nal)                                                            \n",
      "                                                                 \n",
      " dense_17 (Dense)            (None, 16)                2064      \n",
      "                                                                 \n",
      " dense_18 (Dense)            (None, 1)                 17        \n",
      "                                                                 \n",
      "=================================================================\n",
      "Total params: 688,289\n",
      "Trainable params: 688,289\n",
      "Non-trainable params: 0\n",
      "_________________________________________________________________\n",
      "None\n",
      "Epoch 1/10\n",
      "769/769 [==============================] - 25s 29ms/step - loss: 0.4853 - accuracy: 0.7782 - val_loss: 0.6918 - val_accuracy: 0.5801\n",
      "Epoch 2/10\n",
      "769/769 [==============================] - 21s 27ms/step - loss: 0.4353 - accuracy: 0.8136 - val_loss: 0.4383 - val_accuracy: 0.8267\n",
      "Epoch 3/10\n",
      "769/769 [==============================] - 21s 28ms/step - loss: 0.3753 - accuracy: 0.8456 - val_loss: 0.4269 - val_accuracy: 0.8225\n",
      "Epoch 4/10\n",
      "769/769 [==============================] - 21s 27ms/step - loss: 0.3539 - accuracy: 0.8624 - val_loss: 0.4937 - val_accuracy: 0.8235\n",
      "Epoch 5/10\n",
      "769/769 [==============================] - 21s 27ms/step - loss: 0.3567 - accuracy: 0.8548 - val_loss: 0.5039 - val_accuracy: 0.8140\n",
      "Epoch 6/10\n",
      "769/769 [==============================] - 21s 27ms/step - loss: 0.3193 - accuracy: 0.8780 - val_loss: 0.5467 - val_accuracy: 0.8195\n",
      "Epoch 7/10\n",
      "769/769 [==============================] - 20s 26ms/step - loss: 0.3605 - accuracy: 0.8541 - val_loss: 0.5103 - val_accuracy: 0.8197\n",
      "Epoch 8/10\n",
      "769/769 [==============================] - 21s 27ms/step - loss: 0.3153 - accuracy: 0.8766 - val_loss: 0.5596 - val_accuracy: 0.8125\n",
      "Epoch 9/10\n",
      "769/769 [==============================] - 21s 27ms/step - loss: 0.3093 - accuracy: 0.8789 - val_loss: 0.6926 - val_accuracy: 0.8126\n",
      "Epoch 10/10\n",
      "769/769 [==============================] - 20s 26ms/step - loss: 0.3011 - accuracy: 0.8835 - val_loss: 0.5485 - val_accuracy: 0.8016\n",
      "\n",
      "Bidirectional LSTM model Score--->  [0.5485439896583557, 0.8016072511672974]\n"
     ]
    }
   ],
   "source": [
    "bi_lstm_model = Sequential(name=\"Bidirectional_LSTM\")\n",
    "bi_lstm_model.add(Embedding(len(tokenizer.word_index)+1, embd_len, input_length=max_length))\n",
    "bi_lstm_model.add(Bidirectional(LSTM(64, activation='tanh', return_sequences=False)))\n",
    "# bi_lstm_model.add(Bidirectional(LSTM(32)))\n",
    "bi_lstm_model.add(Dense(16, activation='relu'))\n",
    "bi_lstm_model.add(Dense(1, activation='relu'))\n",
    "\n",
    "print(bi_lstm_model.summary())\n",
    "\n",
    "bi_lstm_model.compile(\n",
    "loss=\"binary_crossentropy\",\n",
    "optimizer='adam',\n",
    "metrics=['accuracy']\n",
    ")\n",
    "\n",
    "history6 = bi_lstm_model.fit(x_train_, y_train_, batch_size=64, epochs=10, verbose=1, validation_data=(x_test, y_test))\n",
    "\n",
    "print()\n",
    "print(\"Bidirectional LSTM model Score---> \", bi_lstm_model.evaluate(x_test, y_test, verbose=0))\n"
   ]
  },
  {
   "cell_type": "code",
   "execution_count": null,
   "id": "QcpmYBXhsESG",
   "metadata": {
    "colab": {
     "base_uri": "https://localhost:8080/",
     "height": 295
    },
    "id": "QcpmYBXhsESG",
    "outputId": "638fec54-431f-4fde-f2d0-06ad2b057f2b"
   },
   "outputs": [
    {
     "data": {
      "image/png": "[encoded data removed]",
      "text/plain": [
       "<Figure size 720x288 with 2 Axes>"
      ]
     },
     "metadata": {
      "needs_background": "light"
     },
     "output_type": "display_data"
    }
   ],
   "source": [
    "plot_training_hist(history6)"
   ]
  },
  {
   "cell_type": "code",
   "execution_count": null,
   "id": "XheskZUZuM6F",
   "metadata": {
    "id": "XheskZUZuM6F"
   },
   "outputs": [],
   "source": []
  },
  {
   "cell_type": "markdown",
   "id": "RasdjuHHuVxb",
   "metadata": {
    "id": "RasdjuHHuVxb"
   },
   "source": [
    "Bi 3"
   ]
  },
  {
   "cell_type": "code",
   "execution_count": null,
   "id": "2R4uvmgQuW2O",
   "metadata": {
    "colab": {
     "base_uri": "https://localhost:8080/"
    },
    "id": "2R4uvmgQuW2O",
    "outputId": "cbaf83e0-7d29-42da-94db-b4fd33c1eade"
   },
   "outputs": [
    {
     "name": "stdout",
     "output_type": "stream",
     "text": [
      "Model: \"Bidirectional_LSTM\"\n",
      "_________________________________________________________________\n",
      " Layer (type)                Output Shape              Param #   \n",
      "=================================================================\n",
      " embedding_11 (Embedding)    (None, 311, 32)           636544    \n",
      "                                                                 \n",
      " bidirectional_9 (Bidirectio  (None, 311, 128)         49664     \n",
      " nal)                                                            \n",
      "                                                                 \n",
      " bidirectional_10 (Bidirecti  (None, 128)              98816     \n",
      " onal)                                                           \n",
      "                                                                 \n",
      " dense_19 (Dense)            (None, 16)                2064      \n",
      "                                                                 \n",
      " dense_20 (Dense)            (None, 1)                 17        \n",
      "                                                                 \n",
      "=================================================================\n",
      "Total params: 787,105\n",
      "Trainable params: 787,105\n",
      "Non-trainable params: 0\n",
      "_________________________________________________________________\n",
      "None\n",
      "Epoch 1/10\n",
      "769/769 [==============================] - 48s 54ms/step - loss: 0.4867 - accuracy: 0.7711 - val_loss: 0.4071 - val_accuracy: 0.8274\n",
      "Epoch 2/10\n",
      "769/769 [==============================] - 41s 53ms/step - loss: 0.4184 - accuracy: 0.8253 - val_loss: 0.4209 - val_accuracy: 0.8273\n",
      "Epoch 3/10\n",
      "769/769 [==============================] - 40s 52ms/step - loss: 0.4353 - accuracy: 0.8245 - val_loss: 0.4171 - val_accuracy: 0.8243\n",
      "Epoch 4/10\n",
      "769/769 [==============================] - 41s 53ms/step - loss: 0.4980 - accuracy: 0.7738 - val_loss: 0.8827 - val_accuracy: 0.4064\n",
      "Epoch 5/10\n",
      "769/769 [==============================] - 39s 51ms/step - loss: 0.4140 - accuracy: 0.8255 - val_loss: 0.4737 - val_accuracy: 0.8214\n",
      "Epoch 6/10\n",
      "769/769 [==============================] - 39s 51ms/step - loss: 0.3875 - accuracy: 0.8344 - val_loss: 0.4786 - val_accuracy: 0.8208\n",
      "Epoch 7/10\n",
      "769/769 [==============================] - 39s 51ms/step - loss: 0.3401 - accuracy: 0.8689 - val_loss: 0.5018 - val_accuracy: 0.8213\n",
      "Epoch 8/10\n",
      "769/769 [==============================] - 39s 51ms/step - loss: 0.3231 - accuracy: 0.8760 - val_loss: 0.6153 - val_accuracy: 0.8185\n",
      "Epoch 9/10\n",
      "769/769 [==============================] - 47s 61ms/step - loss: 0.3332 - accuracy: 0.8776 - val_loss: 0.5604 - val_accuracy: 0.8139\n",
      "Epoch 10/10\n",
      "769/769 [==============================] - 45s 58ms/step - loss: 0.3318 - accuracy: 0.8744 - val_loss: 0.5066 - val_accuracy: 0.8122\n",
      "\n",
      "Bidirectional LSTM model Score--->  [0.5066367387771606, 0.812160074710846]\n"
     ]
    }
   ],
   "source": [
    "bi_lstm_model = Sequential(name=\"Bidirectional_LSTM\")\n",
    "bi_lstm_model.add(Embedding(len(tokenizer.word_index)+1, embd_len, input_length=max_length))\n",
    "bi_lstm_model.add(Bidirectional(LSTM(64, activation='tanh', return_sequences=True)))\n",
    "bi_lstm_model.add(Bidirectional(LSTM(64)))\n",
    "bi_lstm_model.add(Dense(16, activation='relu'))\n",
    "bi_lstm_model.add(Dense(1, activation='relu'))\n",
    "\n",
    "print(bi_lstm_model.summary())\n",
    "\n",
    "bi_lstm_model.compile(\n",
    "loss=\"binary_crossentropy\",\n",
    "optimizer='adam',\n",
    "metrics=['accuracy']\n",
    ")\n",
    "\n",
    "history7 = bi_lstm_model.fit(x_train_, y_train_, batch_size=64, epochs=10, verbose=1, validation_data=(x_test, y_test))\n",
    "\n",
    "# Printing model score on test data\n",
    "print()\n",
    "print(\"Bidirectional LSTM model Score---> \", bi_lstm_model.evaluate(x_test, y_test, verbose=0))\n"
   ]
  },
  {
   "cell_type": "code",
   "execution_count": null,
   "id": "Ln-PqA9pubzn",
   "metadata": {
    "colab": {
     "base_uri": "https://localhost:8080/",
     "height": 295
    },
    "id": "Ln-PqA9pubzn",
    "outputId": "0ba65bff-094c-4803-dfb2-e9d78e3c4edb"
   },
   "outputs": [
    {
     "data": {
      "image/png": "[encoded data removed]",
      "text/plain": [
       "<Figure size 720x288 with 2 Axes>"
      ]
     },
     "metadata": {
      "needs_background": "light"
     },
     "output_type": "display_data"
    }
   ],
   "source": [
    "plot_training_hist(history7)"
   ]
  },
  {
   "cell_type": "markdown",
   "id": "D8NTxTVBvwmS",
   "metadata": {
    "id": "D8NTxTVBvwmS"
   },
   "source": [
    "Bi 4"
   ]
  },
  {
   "cell_type": "code",
   "execution_count": null,
   "id": "fmVXdt0Av67P",
   "metadata": {
    "colab": {
     "base_uri": "https://localhost:8080/"
    },
    "id": "fmVXdt0Av67P",
    "outputId": "ffa071a0-b227-4540-9e41-fce4673ed51a"
   },
   "outputs": [
    {
     "name": "stdout",
     "output_type": "stream",
     "text": [
      "Model: \"Bidirectional_LSTM\"\n",
      "_________________________________________________________________\n",
      " Layer (type)                Output Shape              Param #   \n",
      "=================================================================\n",
      " embedding_13 (Embedding)    (None, 311, 100)          1989200   \n",
      "                                                                 \n",
      " bidirectional_12 (Bidirecti  (None, 256)              234496    \n",
      " onal)                                                           \n",
      "                                                                 \n",
      " dense_23 (Dense)            (None, 16)                4112      \n",
      "                                                                 \n",
      " dense_24 (Dense)            (None, 1)                 17        \n",
      "                                                                 \n",
      "=================================================================\n",
      "Total params: 2,227,825\n",
      "Trainable params: 2,227,825\n",
      "Non-trainable params: 0\n",
      "_________________________________________________________________\n",
      "None\n",
      "Epoch 1/20\n",
      "769/769 [==============================] - 37s 43ms/step - loss: 0.4840 - accuracy: 0.7760 - val_loss: 0.4854 - val_accuracy: 0.8144\n",
      "Epoch 2/20\n",
      "769/769 [==============================] - 33s 43ms/step - loss: 0.4174 - accuracy: 0.8259 - val_loss: 0.4910 - val_accuracy: 0.8230\n",
      "Epoch 3/20\n",
      "769/769 [==============================] - 32s 41ms/step - loss: 0.4003 - accuracy: 0.8374 - val_loss: 0.4565 - val_accuracy: 0.8252\n",
      "Epoch 4/20\n",
      "769/769 [==============================] - 32s 42ms/step - loss: 0.3833 - accuracy: 0.8525 - val_loss: 0.5499 - val_accuracy: 0.8174\n",
      "Epoch 5/20\n",
      "769/769 [==============================] - 33s 43ms/step - loss: 0.3432 - accuracy: 0.8703 - val_loss: 0.5173 - val_accuracy: 0.8052\n",
      "Epoch 6/20\n",
      "769/769 [==============================] - 31s 40ms/step - loss: 0.3450 - accuracy: 0.8698 - val_loss: 0.5985 - val_accuracy: 0.8036\n",
      "Epoch 7/20\n",
      "769/769 [==============================] - 34s 44ms/step - loss: 0.3358 - accuracy: 0.8692 - val_loss: 0.5003 - val_accuracy: 0.7707\n",
      "Epoch 8/20\n",
      "769/769 [==============================] - 33s 43ms/step - loss: 0.3407 - accuracy: 0.8732 - val_loss: 0.6118 - val_accuracy: 0.8066\n",
      "Epoch 9/20\n",
      "769/769 [==============================] - 33s 42ms/step - loss: 0.3207 - accuracy: 0.8813 - val_loss: 0.7866 - val_accuracy: 0.8119\n",
      "Epoch 10/20\n",
      "769/769 [==============================] - 33s 43ms/step - loss: 0.3058 - accuracy: 0.8887 - val_loss: 0.6871 - val_accuracy: 0.8083\n",
      "Epoch 11/20\n",
      "769/769 [==============================] - 33s 43ms/step - loss: 0.2622 - accuracy: 0.9049 - val_loss: 0.8535 - val_accuracy: 0.8063\n",
      "Epoch 12/20\n",
      "769/769 [==============================] - 32s 42ms/step - loss: 0.2722 - accuracy: 0.9021 - val_loss: 0.5732 - val_accuracy: 0.7884\n",
      "Epoch 13/20\n",
      "769/769 [==============================] - 33s 43ms/step - loss: 0.2683 - accuracy: 0.9062 - val_loss: 0.8975 - val_accuracy: 0.8000\n",
      "Epoch 14/20\n",
      "769/769 [==============================] - 32s 41ms/step - loss: 0.2633 - accuracy: 0.9078 - val_loss: 0.6691 - val_accuracy: 0.7935\n",
      "Epoch 15/20\n",
      "769/769 [==============================] - 32s 42ms/step - loss: 0.2623 - accuracy: 0.9091 - val_loss: 0.8465 - val_accuracy: 0.8010\n",
      "Epoch 16/20\n",
      "769/769 [==============================] - 32s 41ms/step - loss: 0.2259 - accuracy: 0.9230 - val_loss: 1.0450 - val_accuracy: 0.7984\n",
      "Epoch 17/20\n",
      "769/769 [==============================] - 33s 42ms/step - loss: 0.2297 - accuracy: 0.9251 - val_loss: 1.2568 - val_accuracy: 0.7937\n",
      "Epoch 18/20\n",
      "769/769 [==============================] - 33s 43ms/step - loss: 0.2105 - accuracy: 0.9316 - val_loss: 1.4047 - val_accuracy: 0.7906\n",
      "Epoch 19/20\n",
      "769/769 [==============================] - 33s 43ms/step - loss: 0.2130 - accuracy: 0.9306 - val_loss: 1.3466 - val_accuracy: 0.7880\n",
      "Epoch 20/20\n",
      "769/769 [==============================] - 33s 43ms/step - loss: 0.2464 - accuracy: 0.9237 - val_loss: 1.3051 - val_accuracy: 0.7904\n",
      "\n",
      "Bidirectional LSTM model Score--->  [1.3050888776779175, 0.7904050946235657]\n"
     ]
    }
   ],
   "source": [
    "bi_lstm_model = Sequential(name=\"Bidirectional_LSTM\")\n",
    "bi_lstm_model.add(Embedding(len(tokenizer.word_index)+1, 100, input_length=max_length))\n",
    "bi_lstm_model.add(Bidirectional(LSTM(128, activation='tanh', return_sequences=False)))\n",
    "# bi_lstm_model.add(Bidirectional(LSTM(64)))\n",
    "bi_lstm_model.add(Dense(16, activation='relu'))\n",
    "bi_lstm_model.add(Dense(1, activation='relu'))\n",
    "\n",
    "print(bi_lstm_model.summary())\n",
    "\n",
    "bi_lstm_model.compile(\n",
    "loss=\"binary_crossentropy\",\n",
    "optimizer='adam',\n",
    "metrics=['accuracy']\n",
    ")\n",
    "\n",
    "history8 = bi_lstm_model.fit(x_train_, y_train_, batch_size=64, epochs=20, verbose=1, validation_data=(x_test, y_test))\n",
    "\n",
    "print()\n",
    "print(\"Bidirectional LSTM model Score---> \", bi_lstm_model.evaluate(x_test, y_test, verbose=0))\n"
   ]
  },
  {
   "cell_type": "code",
   "execution_count": null,
   "id": "6sqdGA1QwBHC",
   "metadata": {
    "colab": {
     "base_uri": "https://localhost:8080/",
     "height": 295
    },
    "id": "6sqdGA1QwBHC",
    "outputId": "b425e2ff-3abe-44c4-f847-dcfc6ad95702"
   },
   "outputs": [
    {
     "data": {
      "image/png": "[encoded data removed]",
      "text/plain": [
       "<Figure size 720x288 with 2 Axes>"
      ]
     },
     "metadata": {
      "needs_background": "light"
     },
     "output_type": "display_data"
    }
   ],
   "source": [
    "plot_training_hist(history8)"
   ]
  },
  {
   "cell_type": "code",
   "execution_count": null,
   "id": "XkVV-ls1wDJ3",
   "metadata": {
    "id": "XkVV-ls1wDJ3"
   },
   "outputs": [],
   "source": []
  },
  {
   "cell_type": "markdown",
   "id": "teK0NPMZFOus",
   "metadata": {
    "id": "teK0NPMZFOus"
   },
   "source": [
    "BI 5"
   ]
  },
  {
   "cell_type": "code",
   "execution_count": null,
   "id": "wRr8tUxQIjF5",
   "metadata": {
    "colab": {
     "base_uri": "https://localhost:8080/"
    },
    "id": "wRr8tUxQIjF5",
    "outputId": "3e7ba5d7-ce91-4404-f3a3-ce32b068faa9"
   },
   "outputs": [
    {
     "name": "stdout",
     "output_type": "stream",
     "text": [
      "Model: \"LSTM_Model\"\n",
      "_________________________________________________________________\n",
      " Layer (type)                Output Shape              Param #   \n",
      "=================================================================\n",
      " embedding_25 (Embedding)    (None, 311, 32)           636544    \n",
      "                                                                 \n",
      " lstm_22 (LSTM)              (None, 16)                3136      \n",
      "                                                                 \n",
      " dropout_15 (Dropout)        (None, 16)                0         \n",
      "                                                                 \n",
      " dense_49 (Dense)            (None, 16)                272       \n",
      "                                                                 \n",
      " dropout_16 (Dropout)        (None, 16)                0         \n",
      "                                                                 \n",
      " dense_50 (Dense)            (None, 1)                 17        \n",
      "                                                                 \n",
      "=================================================================\n",
      "Total params: 639,969\n",
      "Trainable params: 639,969\n",
      "Non-trainable params: 0\n",
      "_________________________________________________________________\n",
      "None\n",
      "Epoch 1/10\n",
      "769/769 [==============================] - 13s 14ms/step - loss: 0.6742 - accuracy: 0.5970 - val_loss: 0.6999 - val_accuracy: 0.5312\n",
      "Epoch 2/10\n",
      "769/769 [==============================] - 11s 14ms/step - loss: 0.6742 - accuracy: 0.5970 - val_loss: 0.6995 - val_accuracy: 0.5312\n",
      "Epoch 3/10\n",
      "769/769 [==============================] - 11s 14ms/step - loss: 0.6742 - accuracy: 0.5970 - val_loss: 0.6997 - val_accuracy: 0.5312\n",
      "Epoch 4/10\n",
      "769/769 [==============================] - 10s 13ms/step - loss: 0.6742 - accuracy: 0.5970 - val_loss: 0.6997 - val_accuracy: 0.5312\n",
      "Epoch 5/10\n",
      "769/769 [==============================] - 12s 15ms/step - loss: 0.6742 - accuracy: 0.5970 - val_loss: 0.7003 - val_accuracy: 0.5312\n",
      "Epoch 6/10\n",
      "769/769 [==============================] - 11s 14ms/step - loss: 0.6742 - accuracy: 0.5970 - val_loss: 0.7002 - val_accuracy: 0.5312\n",
      "Epoch 7/10\n",
      "769/769 [==============================] - 10s 14ms/step - loss: 0.6742 - accuracy: 0.5970 - val_loss: 0.6996 - val_accuracy: 0.5312\n",
      "Epoch 8/10\n",
      "769/769 [==============================] - 11s 14ms/step - loss: 0.6742 - accuracy: 0.5970 - val_loss: 0.6999 - val_accuracy: 0.5312\n",
      "Epoch 9/10\n",
      "769/769 [==============================] - 11s 14ms/step - loss: 0.6742 - accuracy: 0.5970 - val_loss: 0.6993 - val_accuracy: 0.5312\n",
      "Epoch 10/10\n",
      "769/769 [==============================] - 10s 13ms/step - loss: 0.6742 - accuracy: 0.5970 - val_loss: 0.7002 - val_accuracy: 0.5312\n",
      "\n",
      "LSTM model Score--->  [0.6724251508712769, 0.6015098690986633]\n"
     ]
    }
   ],
   "source": [
    "# Defining LSTM model\n",
    "bilstm_model = Sequential(name=\"BI LSTM_Model\")\n",
    "bilstm_model.add(Embedding(len(tokenizer.word_index)+1, 32, input_length=max_length))\n",
    "bilstm_model.add(LSTM(64, return_sequences=True))\n",
    "bilstm_model.add(LSTM(32))\n",
    "bilstm_model.add(Dense(16, activation=\"relu\"))\n",
    "bilstm_model.add(Dense(1, activation=\"relu\"))\n",
    "\n",
    "# Printing Model Summary\n",
    "print(lstm_model.summary())\n",
    "\n",
    "# Compiling the model\n",
    "lstm_model.compile( loss=\"binary_crossentropy\", optimizer='adam', metrics=['accuracy'])\n",
    "\n",
    "# Training the model\n",
    "history7 = lstm_model.fit(x_train_, y_train_, batch_size=64, epochs=50, verbose=1, validation_data=(x_valid, y_valid))\n",
    "\n",
    "# Displaying the model accuracy on test data\n",
    "print()\n",
    "print(\"LSTM model Score---> \", lstm_model.evaluate(x_test, y_test, verbose=0))\n"
   ]
  },
  {
   "cell_type": "markdown",
   "id": "9G-PwDSTzSuQ",
   "metadata": {
    "id": "9G-PwDSTzSuQ"
   },
   "source": [
    "LSTM 2"
   ]
  },
  {
   "cell_type": "code",
   "execution_count": null,
   "id": "sZ-9Gi6jzT2T",
   "metadata": {
    "id": "sZ-9Gi6jzT2T"
   },
   "outputs": [],
   "source": [
    "lstm2 = Sequential()\n",
    "lstm2.add(Embedding(len(tokenizer.word_index)+1, 32, input_length=max_length))\n",
    "lstm2.add(Bidirectional(LSTM(32)))\n",
    "lstm2.add(Dropout(0.5))\n",
    "lstm2.add(Dense(16, activation='relu'))\n",
    "lstm2.add(Dense(1, activation='softmax'))\n",
    "\n",
    "# Printing model summary\n",
    "print(lstm2.summary())\n",
    "\n",
    "# Compiling model summary\n",
    "lstm2.compile(\n",
    "loss=\"binary_crossentropy\",\n",
    "optimizer='adam',\n",
    "metrics=['accuracy']\n",
    ")\n",
    "\n",
    "# Training the model\n",
    "history6 = lstm2.fit(x_train_, y_train_, batch_size=64, epochs=10, verbose=1, validation_data=(x_test, y_test))\n",
    "\n",
    "# Printing model score on test data\n",
    "print()\n",
    "print(\"Bidirectional LSTM model Score---> \", lstm2.evaluate(x_test, y_test, verbose=0))"
   ]
  },
  {
   "cell_type": "code",
   "execution_count": null,
   "id": "5nBMGgEgz7YZ",
   "metadata": {
    "id": "5nBMGgEgz7YZ"
   },
   "outputs": [],
   "source": []
  },
  {
   "cell_type": "markdown",
   "id": "8oC3tJeh068E",
   "metadata": {
    "id": "8oC3tJeh068E"
   },
   "source": [
    "###Prediction"
   ]
  },
  {
   "cell_type": "code",
   "execution_count": null,
   "id": "nqO2IgNa1Bjp",
   "metadata": {
    "colab": {
     "base_uri": "https://localhost:8080/"
    },
    "id": "nqO2IgNa1Bjp",
    "outputId": "72338621-ca59-4028-8bec-052cfc667c95"
   },
   "outputs": [
    {
     "name": "stdout",
     "output_type": "stream",
     "text": [
      "1/1 [==============================] - 0s 57ms/step\n",
      "[[0.5071797]]\n",
      "Positive sentiment\n"
     ]
    }
   ],
   "source": [
    "def encode_text(tokenizer, text, max_length):\n",
    "    encoded = tokenizer.texts_to_sequences([text])\n",
    "    padded = pad_sequences(encoded, maxlen=max_length)\n",
    "    return padded\n",
    "\n",
    "# Example text to classify\n",
    "example_text = \"positive\"\n",
    "\n",
    "# Encode the example text\n",
    "encoded_text = encode_text(tokenizer, example_text, max_length)\n",
    "\n",
    "# Make predictions\n",
    "prediction = bi_lstm_model.predict(encoded_text)\n",
    "\n",
    "# Round the prediction to get a binary sentiment label\n",
    "\n",
    "sentiment = prediction\n",
    "print(sentiment)\n",
    "\n",
    "sentiment = np.round(prediction[0,0])\n",
    "\n",
    "if sentiment == 0:\n",
    "    print(\"Negative sentiment\")\n",
    "else:\n",
    "    print(\"Positive sentiment\")"
   ]
  },
  {
   "cell_type": "code",
   "execution_count": null,
   "id": "p9uEgMvRDlbL",
   "metadata": {
    "id": "p9uEgMvRDlbL"
   },
   "outputs": [],
   "source": []
  },
  {
   "cell_type": "code",
   "execution_count": null,
   "id": "etET2KN-MceK",
   "metadata": {
    "id": "etET2KN-MceK"
   },
   "outputs": [],
   "source": []
  }
 ],
 "metadata": {
  "accelerator": "GPU",
  "colab": {
   "provenance": [],
   "toc_visible": true
  },
  "gpuClass": "standard",
  "kernelspec": {
   "display_name": "Python 3 (ipykernel)",
   "language": "python",
   "name": "python3"
  },
  "language_info": {
   "codemirror_mode": {
    "name": "ipython",
    "version": 3
   },
   "file_extension": ".py",
   "mimetype": "text/x-python",
   "name": "python",
   "nbconvert_exporter": "python",
   "pygments_lexer": "ipython3",
   "version": "3.10.6"
  }
 },
 "nbformat": 4,
 "nbformat_minor": 5
}
