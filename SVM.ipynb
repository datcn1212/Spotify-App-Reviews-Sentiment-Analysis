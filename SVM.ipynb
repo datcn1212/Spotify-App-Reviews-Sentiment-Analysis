{
 "cells": [
  {
   "cell_type": "markdown",
   "id": "92d18a89",
   "metadata": {},
   "source": [
    "## Spotify App Reviews Sentiment Analysis"
   ]
  },
  {
   "cell_type": "code",
   "execution_count": 3,
   "id": "0c17717e",
   "metadata": {},
   "outputs": [],
   "source": [
    "import numpy as np\n",
    "import pandas as pd\n",
    "import matplotlib.pyplot as plt\n",
    "import seaborn as sns"
   ]
  },
  {
   "cell_type": "code",
   "execution_count": 4,
   "id": "8b75b9e8",
   "metadata": {},
   "outputs": [],
   "source": [
    "stf = pd.read_csv('reviews.csv')"
   ]
  },
  {
   "cell_type": "markdown",
   "id": "f4d6e51b",
   "metadata": {},
   "source": [
    "### Data PreProcessing"
   ]
  },
  {
   "cell_type": "code",
   "execution_count": 47,
   "id": "e68a6286",
   "metadata": {
    "scrolled": false
   },
   "outputs": [
    {
     "name": "stdout",
     "output_type": "stream",
     "text": [
      "Defaulting to user installation because normal site-packages is not writeable\n",
      "Requirement already satisfied: nltk in /home/canada/.local/lib/python3.10/site-packages (3.8.1)\n",
      "Requirement already satisfied: gensim in /home/canada/.local/lib/python3.10/site-packages (4.3.0)\n",
      "Requirement already satisfied: click in /usr/lib/python3/dist-packages (from nltk) (8.0.3)\n",
      "Requirement already satisfied: regex>=2021.8.3 in /home/canada/.local/lib/python3.10/site-packages (from nltk) (2022.10.31)\n",
      "Requirement already satisfied: joblib in /home/canada/.local/lib/python3.10/site-packages (from nltk) (1.2.0)\n",
      "Requirement already satisfied: tqdm in /home/canada/.local/lib/python3.10/site-packages (from nltk) (4.64.1)\n",
      "Requirement already satisfied: numpy>=1.18.5 in /home/canada/.local/lib/python3.10/site-packages (from gensim) (1.23.4)\n",
      "Requirement already satisfied: FuzzyTM>=0.4.0 in /home/canada/.local/lib/python3.10/site-packages (from gensim) (2.0.5)\n",
      "Requirement already satisfied: smart-open>=1.8.1 in /home/canada/.local/lib/python3.10/site-packages (from gensim) (6.3.0)\n",
      "Requirement already satisfied: scipy>=1.7.0 in /home/canada/.local/lib/python3.10/site-packages (from gensim) (1.10.0)\n",
      "Requirement already satisfied: pyfume in /home/canada/.local/lib/python3.10/site-packages (from FuzzyTM>=0.4.0->gensim) (0.2.25)\n",
      "Requirement already satisfied: pandas in /home/canada/.local/lib/python3.10/site-packages (from FuzzyTM>=0.4.0->gensim) (1.5.2)\n",
      "Requirement already satisfied: python-dateutil>=2.8.1 in /home/canada/.local/lib/python3.10/site-packages (from pandas->FuzzyTM>=0.4.0->gensim) (2.8.2)\n",
      "Requirement already satisfied: pytz>=2020.1 in /usr/lib/python3/dist-packages (from pandas->FuzzyTM>=0.4.0->gensim) (2022.1)\n",
      "Requirement already satisfied: fst-pso in /home/canada/.local/lib/python3.10/site-packages (from pyfume->FuzzyTM>=0.4.0->gensim) (1.8.1)\n",
      "Requirement already satisfied: simpful in /home/canada/.local/lib/python3.10/site-packages (from pyfume->FuzzyTM>=0.4.0->gensim) (2.9.0)\n",
      "Requirement already satisfied: six>=1.5 in /usr/lib/python3/dist-packages (from python-dateutil>=2.8.1->pandas->FuzzyTM>=0.4.0->gensim) (1.16.0)\n",
      "Requirement already satisfied: miniful in /home/canada/.local/lib/python3.10/site-packages (from fst-pso->pyfume->FuzzyTM>=0.4.0->gensim) (0.0.6)\n",
      "Requirement already satisfied: requests in /home/canada/.local/lib/python3.10/site-packages (from simpful->pyfume->FuzzyTM>=0.4.0->gensim) (2.28.1)\n",
      "Requirement already satisfied: urllib3<1.27,>=1.21.1 in /usr/lib/python3/dist-packages (from requests->simpful->pyfume->FuzzyTM>=0.4.0->gensim) (1.26.5)\n",
      "Requirement already satisfied: charset-normalizer<3,>=2 in /home/canada/.local/lib/python3.10/site-packages (from requests->simpful->pyfume->FuzzyTM>=0.4.0->gensim) (2.1.1)\n",
      "Requirement already satisfied: certifi>=2017.4.17 in /usr/lib/python3/dist-packages (from requests->simpful->pyfume->FuzzyTM>=0.4.0->gensim) (2020.6.20)\n",
      "Requirement already satisfied: idna<4,>=2.5 in /usr/lib/python3/dist-packages (from requests->simpful->pyfume->FuzzyTM>=0.4.0->gensim) (3.3)\n"
     ]
    }
   ],
   "source": [
    "!pip install nltk gensim"
   ]
  },
  {
   "cell_type": "code",
   "execution_count": 5,
   "id": "12eaa80b",
   "metadata": {},
   "outputs": [
    {
     "data": {
      "text/plain": [
       "0    Great music service, the audio is high quality...\n",
       "1    Please ignore previous negative rating. This a...\n",
       "2    This pop-up \"Get the best Spotify experience o...\n",
       "3      Really buggy and terrible to use as of recently\n",
       "4    Dear Spotify why do I get songs that I didn't ...\n",
       "Name: Review, dtype: object"
      ]
     },
     "execution_count": 5,
     "metadata": {},
     "output_type": "execute_result"
    }
   ],
   "source": [
    "stf['Review'].head()"
   ]
  },
  {
   "cell_type": "code",
   "execution_count": 6,
   "id": "da55e5ce",
   "metadata": {},
   "outputs": [
    {
     "name": "stderr",
     "output_type": "stream",
     "text": [
      "[nltk_data] Downloading package stopwords to /home/canada/nltk_data...\n",
      "[nltk_data]   Package stopwords is already up-to-date!\n"
     ]
    }
   ],
   "source": [
    "import gensim\n",
    "from gensim.parsing.preprocessing import strip_non_alphanum, strip_multiple_whitespaces, preprocess_string, split_alphanum, strip_short, strip_numeric\n",
    "import re \n",
    "import nltk\n",
    "from nltk.corpus import stopwords\n",
    "nltk.download('stopwords')\n",
    "stop_words = stopwords.words('english')"
   ]
  },
  {
   "cell_type": "code",
   "execution_count": 7,
   "id": "45914ccb",
   "metadata": {},
   "outputs": [],
   "source": [
    "def lower_case(docs):\n",
    "  return [doc.lower() for doc in docs]\n",
    "\n",
    "def remove_punc(docs):\n",
    "  return [strip_non_alphanum(doc).strip() for doc in docs]\n",
    "\n",
    "def separate_num(docs):\n",
    "  return [split_alphanum(doc) for doc in docs]\n",
    "\n",
    "def remove_one_letter_word(docs):\n",
    "  return [strip_short(doc) for doc in docs]\n",
    "\n",
    "def remove_number(docs):\n",
    "  return [strip_numeric(doc) for doc in docs]\n",
    "\n",
    "def replace_multiple_whitespaces(docs):\n",
    "  return [strip_multiple_whitespaces(doc) for doc in docs]\n",
    "\n",
    "def remove_stopwords(docs):\n",
    "    return [\" \".join([word for word in doc.split() if word not in stop_words]) for doc in docs]\n",
    "\n",
    "doc = lower_case(stf['Review'])\n",
    "doc = remove_punc(doc)\n",
    "doc = separate_num(doc)\n",
    "doc = remove_one_letter_word(doc)\n",
    "doc = remove_number(doc)\n",
    "doc = replace_multiple_whitespaces(doc)\n",
    "doc = remove_stopwords(doc)\n",
    "\n",
    "stf['Review'] = doc"
   ]
  },
  {
   "cell_type": "code",
   "execution_count": 8,
   "id": "06270d44",
   "metadata": {},
   "outputs": [
    {
     "data": {
      "text/plain": [
       "0    great music service audio high quality app eas...\n",
       "1    please ignore previous negative rating app sup...\n",
       "2    pop get best spotify experience android annoyi...\n",
       "3                   really buggy terrible use recently\n",
       "4     dear spotify get songs put playlist shuffle play\n",
       "Name: Review, dtype: object"
      ]
     },
     "execution_count": 8,
     "metadata": {},
     "output_type": "execute_result"
    }
   ],
   "source": [
    "stf['Review'].head()"
   ]
  },
  {
   "cell_type": "code",
   "execution_count": 9,
   "id": "a0b87123",
   "metadata": {},
   "outputs": [],
   "source": [
    "stf1 = stf.copy()\n",
    "rate = [1,2,3,4,5]\n",
    "sentiment = [0, 0, 1, 1, 1]\n",
    "for i in range(5):\n",
    "    stf1[\"Rating\"].replace(rate[i], sentiment[i],inplace=True)"
   ]
  },
  {
   "cell_type": "code",
   "execution_count": 10,
   "id": "09d34668",
   "metadata": {},
   "outputs": [
    {
     "data": {
      "text/html": [
       "<div>\n",
       "<style scoped>\n",
       "    .dataframe tbody tr th:only-of-type {\n",
       "        vertical-align: middle;\n",
       "    }\n",
       "\n",
       "    .dataframe tbody tr th {\n",
       "        vertical-align: top;\n",
       "    }\n",
       "\n",
       "    .dataframe thead th {\n",
       "        text-align: right;\n",
       "    }\n",
       "</style>\n",
       "<table border=\"1\" class=\"dataframe\">\n",
       "  <thead>\n",
       "    <tr style=\"text-align: right;\">\n",
       "      <th></th>\n",
       "      <th>Time_submitted</th>\n",
       "      <th>Review</th>\n",
       "      <th>Rating</th>\n",
       "      <th>Total_thumbsup</th>\n",
       "      <th>Reply</th>\n",
       "    </tr>\n",
       "  </thead>\n",
       "  <tbody>\n",
       "    <tr>\n",
       "      <th>0</th>\n",
       "      <td>2022-07-09 15:00:00</td>\n",
       "      <td>great music service audio high quality app eas...</td>\n",
       "      <td>1</td>\n",
       "      <td>2</td>\n",
       "      <td>NaN</td>\n",
       "    </tr>\n",
       "    <tr>\n",
       "      <th>1</th>\n",
       "      <td>2022-07-09 14:21:22</td>\n",
       "      <td>please ignore previous negative rating app sup...</td>\n",
       "      <td>1</td>\n",
       "      <td>1</td>\n",
       "      <td>NaN</td>\n",
       "    </tr>\n",
       "    <tr>\n",
       "      <th>2</th>\n",
       "      <td>2022-07-09 13:27:32</td>\n",
       "      <td>pop get best spotify experience android annoyi...</td>\n",
       "      <td>1</td>\n",
       "      <td>0</td>\n",
       "      <td>NaN</td>\n",
       "    </tr>\n",
       "    <tr>\n",
       "      <th>3</th>\n",
       "      <td>2022-07-09 13:26:45</td>\n",
       "      <td>really buggy terrible use recently</td>\n",
       "      <td>0</td>\n",
       "      <td>1</td>\n",
       "      <td>NaN</td>\n",
       "    </tr>\n",
       "    <tr>\n",
       "      <th>4</th>\n",
       "      <td>2022-07-09 13:20:49</td>\n",
       "      <td>dear spotify get songs put playlist shuffle play</td>\n",
       "      <td>0</td>\n",
       "      <td>1</td>\n",
       "      <td>NaN</td>\n",
       "    </tr>\n",
       "  </tbody>\n",
       "</table>\n",
       "</div>"
      ],
      "text/plain": [
       "        Time_submitted                                             Review  \\\n",
       "0  2022-07-09 15:00:00  great music service audio high quality app eas...   \n",
       "1  2022-07-09 14:21:22  please ignore previous negative rating app sup...   \n",
       "2  2022-07-09 13:27:32  pop get best spotify experience android annoyi...   \n",
       "3  2022-07-09 13:26:45                 really buggy terrible use recently   \n",
       "4  2022-07-09 13:20:49   dear spotify get songs put playlist shuffle play   \n",
       "\n",
       "   Rating  Total_thumbsup Reply  \n",
       "0       1               2   NaN  \n",
       "1       1               1   NaN  \n",
       "2       1               0   NaN  \n",
       "3       0               1   NaN  \n",
       "4       0               1   NaN  "
      ]
     },
     "execution_count": 10,
     "metadata": {},
     "output_type": "execute_result"
    }
   ],
   "source": [
    "stf1.head()"
   ]
  },
  {
   "cell_type": "markdown",
   "id": "0e6e6129",
   "metadata": {},
   "source": [
    "### SVM"
   ]
  },
  {
   "cell_type": "code",
   "execution_count": 84,
   "id": "3c0b5dc4",
   "metadata": {},
   "outputs": [
    {
     "name": "stdout",
     "output_type": "stream",
     "text": [
      "[LibSVM]................................*..................*.*\n",
      "optimization finished, #iter = 51535\n",
      "obj = -17712.833044, rho = 0.451040\n",
      "nSV = 21613, nBSV = 17734\n",
      "Total nSV = 21613\n",
      "Train accuracy: 0.870339928970066\n",
      "Test accuracy: 0.8098871661660849\n"
     ]
    }
   ],
   "source": [
    "import pandas as pd\n",
    "from sklearn.model_selection import train_test_split\n",
    "from sklearn.feature_extraction.text import TfidfVectorizer\n",
    "from sklearn.svm import SVC\n",
    "from sklearn.metrics import accuracy_score\n",
    "\n",
    "X_train, X_test, y_train, y_test = train_test_split(stf1['Review'], stf1['Rating'], test_size=0.2, random_state=42)\n",
    "\n",
    "# TfidfVectorizer\n",
    "vectorizer = TfidfVectorizer()\n",
    "X_train_vectors = vectorizer.fit_transform(X_train)\n",
    "X_test_vectors = vectorizer.transform(X_test)\n",
    "\n",
    "svm = SVC(kernel='linear', verbose=True)\n",
    "svm.fit(X_train_vectors, y_train)\n",
    "\n",
    "y_pred = svm.predict(X_test_vectors)\n",
    "\n",
    "train_accuracy_0 = accuracy_score(y_train, svm.predict(X_train_vectors))\n",
    "test_accuracy_0 = accuracy_score(y_test, y_pred)\n",
    "\n",
    "print(\"Train accuracy:\", train_accuracy_0)\n",
    "print(\"Test accuracy:\", test_accuracy_0)"
   ]
  },
  {
   "cell_type": "code",
   "execution_count": 88,
   "id": "7eee50f1",
   "metadata": {
    "scrolled": true
   },
   "outputs": [
    {
     "name": "stdout",
     "output_type": "stream",
     "text": [
      "F1 score: 0.8506212480804132\n"
     ]
    }
   ],
   "source": [
    "f1 = f1_score(y_test, y_pred, average='binary')\n",
    "print(\"F1 score:\", f1)"
   ]
  },
  {
   "cell_type": "code",
   "execution_count": 18,
   "id": "2a68ccf8",
   "metadata": {},
   "outputs": [
    {
     "name": "stdout",
     "output_type": "stream",
     "text": [
      "Predictions: ['negative']\n"
     ]
    }
   ],
   "source": [
    "new_data = [\"terrible\"]\n",
    "\n",
    "new_data_vectors = vectorizer.transform(new_data)\n",
    "\n",
    "new_predictions = svm.predict(new_data_vectors)\n",
    "\n",
    "print(\"Predictions:\", new_predictions)"
   ]
  },
  {
   "cell_type": "markdown",
   "id": "6becabe2",
   "metadata": {},
   "source": [
    "### Logistic Regression"
   ]
  },
  {
   "cell_type": "code",
   "execution_count": 86,
   "id": "c07f6097",
   "metadata": {},
   "outputs": [
    {
     "name": "stdout",
     "output_type": "stream",
     "text": [
      "Train accuracy: 0.8558295281582953\n",
      "Test accuracy: 0.8318045295884406\n"
     ]
    }
   ],
   "source": [
    "import pandas as pd\n",
    "from sklearn.model_selection import train_test_split\n",
    "from sklearn.feature_extraction.text import TfidfVectorizer\n",
    "from sklearn.linear_model import LogisticRegression\n",
    "from sklearn.metrics import accuracy_score, f1_score\n",
    "\n",
    "X_train, X_test, y_train, y_test = train_test_split(stf1['Review'], stf1['Rating'], test_size=0.2, random_state=42)\n",
    "\n",
    "vectorizer = TfidfVectorizer()\n",
    "X_train_vectors = vectorizer.fit_transform(X_train)\n",
    "X_test_vectors = vectorizer.transform(X_test)\n",
    "\n",
    "clf = LogisticRegression(solver='lbfgs')\n",
    "clf.fit(X_train_vectors, y_train)\n",
    "\n",
    "y_pred = clf.predict(X_test_vectors)\n",
    "\n",
    "train_accuracy = accuracy_score(y_train, clf.predict(X_train_vectors))\n",
    "test_accuracy = accuracy_score(y_test, y_pred)\n",
    "\n",
    "print(\"Train accuracy:\", train_accuracy)\n",
    "print(\"Test accuracy:\", test_accuracy)"
   ]
  },
  {
   "cell_type": "code",
   "execution_count": 62,
   "id": "b51d00f8",
   "metadata": {},
   "outputs": [
    {
     "name": "stdout",
     "output_type": "stream",
     "text": [
      "F1 score: 0.8573592179540135\n"
     ]
    }
   ],
   "source": [
    "y_pred = clf.predict(X_test_vectors)\n",
    "\n",
    "f1 = f1_score(y_test, y_pred, average='binary')\n",
    "print(\"F1 score:\", f1)"
   ]
  },
  {
   "cell_type": "code",
   "execution_count": 67,
   "id": "c3ed138a",
   "metadata": {},
   "outputs": [
    {
     "name": "stdout",
     "output_type": "stream",
     "text": [
      "Predictions: Positve\n"
     ]
    }
   ],
   "source": [
    "new_data = [\"I feel this app is an exciting app\"]\n",
    "\n",
    "new_data_vectors = vectorizer.transform(new_data)\n",
    "\n",
    "new_predictions = 'Positve' if (clf.predict(new_data_vectors) == 1) else 'Negative'\n",
    "\n",
    "print(\"Predictions:\", new_predictions)"
   ]
  },
  {
   "cell_type": "markdown",
   "id": "dc94f99b",
   "metadata": {},
   "source": [
    "### Random Forest & Naive Bayes"
   ]
  },
  {
   "cell_type": "code",
   "execution_count": 68,
   "id": "959116a2",
   "metadata": {},
   "outputs": [],
   "source": [
    "import pandas as pd\n",
    "from sklearn.model_selection import train_test_split\n",
    "from sklearn.feature_extraction.text import TfidfVectorizer\n",
    "from sklearn.metrics import accuracy_score\n",
    "from sklearn.ensemble import RandomForestClassifier\n",
    "from sklearn.naive_bayes import MultinomialNB"
   ]
  },
  {
   "cell_type": "code",
   "execution_count": 79,
   "id": "d13c9646",
   "metadata": {},
   "outputs": [
    {
     "name": "stdout",
     "output_type": "stream",
     "text": [
      "Train accuracy: 0.9986605783866058\n",
      "Test accuracy: 0.8155694455718808\n",
      "F1 score: 0.8415841584158416\n"
     ]
    }
   ],
   "source": [
    "rf = RandomForestClassifier()\n",
    "rf.fit(X_train_vectors, y_train)\n",
    "\n",
    "y_pred = rf.predict(X_test_vectors)\n",
    "\n",
    "train_accuracy_1 = accuracy_score(y_train, rf.predict(X_train_vectors))\n",
    "test_accuracy_1 = accuracy_score(y_test, y_pred)\n",
    "f1 = f1_score(y_test, y_pred, average='binary')\n",
    "\n",
    "print(\"Train accuracy:\", train_accuracy_1)\n",
    "print(\"Test accuracy:\", test_accuracy_1)\n",
    "print(\"F1 score:\", f1)"
   ]
  },
  {
   "cell_type": "code",
   "execution_count": 80,
   "id": "0da528bc",
   "metadata": {},
   "outputs": [
    {
     "name": "stdout",
     "output_type": "stream",
     "text": [
      "Train accuracy: 0.8343581938102486\n",
      "Test accuracy: 0.8098871661660849\n",
      "F1 score: 0.8418422474338195\n"
     ]
    }
   ],
   "source": [
    "mnb = MultinomialNB()\n",
    "mnb.fit(X_train_vectors, y_train)\n",
    "\n",
    "y_pred = mnb.predict(X_test_vectors)\n",
    "\n",
    "train_accuracy_2 = accuracy_score(y_train, mnb.predict(X_train_vectors))\n",
    "test_accuracy_2 = accuracy_score(y_test, y_pred)\n",
    "f1 = f1_score(y_test, y_pred, average='binary')\n",
    "\n",
    "print(\"Train accuracy:\", train_accuracy_2)\n",
    "print(\"Test accuracy:\", test_accuracy_2)\n",
    "print(\"F1 score:\", f1)"
   ]
  },
  {
   "cell_type": "code",
   "execution_count": 91,
   "id": "505b7452",
   "metadata": {},
   "outputs": [
    {
     "data": {
      "text/html": [
       "<div>\n",
       "<style scoped>\n",
       "    .dataframe tbody tr th:only-of-type {\n",
       "        vertical-align: middle;\n",
       "    }\n",
       "\n",
       "    .dataframe tbody tr th {\n",
       "        vertical-align: top;\n",
       "    }\n",
       "\n",
       "    .dataframe thead th {\n",
       "        text-align: right;\n",
       "    }\n",
       "</style>\n",
       "<table border=\"1\" class=\"dataframe\">\n",
       "  <thead>\n",
       "    <tr style=\"text-align: right;\">\n",
       "      <th></th>\n",
       "      <th>Model</th>\n",
       "      <th>Accuracy</th>\n",
       "    </tr>\n",
       "  </thead>\n",
       "  <tbody>\n",
       "    <tr>\n",
       "      <th>0</th>\n",
       "      <td>RandomForestClassifier-train</td>\n",
       "      <td>0.998661</td>\n",
       "    </tr>\n",
       "    <tr>\n",
       "      <th>1</th>\n",
       "      <td>RandomForestClassifier-test</td>\n",
       "      <td>0.815569</td>\n",
       "    </tr>\n",
       "    <tr>\n",
       "      <th>2</th>\n",
       "      <td>MultinomialNBClassifier-train</td>\n",
       "      <td>0.834358</td>\n",
       "    </tr>\n",
       "    <tr>\n",
       "      <th>3</th>\n",
       "      <td>MultinomialNBClassifier-test</td>\n",
       "      <td>0.809887</td>\n",
       "    </tr>\n",
       "    <tr>\n",
       "      <th>4</th>\n",
       "      <td>LogisticRegression-train</td>\n",
       "      <td>0.855830</td>\n",
       "    </tr>\n",
       "    <tr>\n",
       "      <th>5</th>\n",
       "      <td>LogisticRegression-test</td>\n",
       "      <td>0.831805</td>\n",
       "    </tr>\n",
       "    <tr>\n",
       "      <th>6</th>\n",
       "      <td>SVM-train</td>\n",
       "      <td>0.870340</td>\n",
       "    </tr>\n",
       "    <tr>\n",
       "      <th>7</th>\n",
       "      <td>SVM-test</td>\n",
       "      <td>0.826285</td>\n",
       "    </tr>\n",
       "  </tbody>\n",
       "</table>\n",
       "</div>"
      ],
      "text/plain": [
       "                           Model  Accuracy\n",
       "0   RandomForestClassifier-train  0.998661\n",
       "1    RandomForestClassifier-test  0.815569\n",
       "2  MultinomialNBClassifier-train  0.834358\n",
       "3   MultinomialNBClassifier-test  0.809887\n",
       "4       LogisticRegression-train  0.855830\n",
       "5        LogisticRegression-test  0.831805\n",
       "6                      SVM-train  0.870340\n",
       "7                       SVM-test  0.826285"
      ]
     },
     "execution_count": 91,
     "metadata": {},
     "output_type": "execute_result"
    }
   ],
   "source": [
    "model = {'Model':['RandomForestClassifier-train','RandomForestClassifier-test', \n",
    "                  'MultinomialNBClassifier-train', 'MultinomialNBClassifier-test',\n",
    "                  'LogisticRegression-train','LogisticRegression-test',\n",
    "                  'SVM-train','SVM-test'],\n",
    "         'Accuracy':[train_accuracy_1,test_accuracy_1,train_accuracy_2,test_accuracy_2, \n",
    "                     train_accuracy,test_accuracy,\n",
    "                     train_accuracy_0,test_accuracy_0]\n",
    "         }\n",
    "model_df = pd.DataFrame(model)\n",
    "model_df"
   ]
  },
  {
   "cell_type": "code",
   "execution_count": null,
   "id": "95108b1b",
   "metadata": {},
   "outputs": [],
   "source": []
  }
 ],
 "metadata": {
  "kernelspec": {
   "display_name": "Python 3 (ipykernel)",
   "language": "python",
   "name": "python3"
  },
  "language_info": {
   "codemirror_mode": {
    "name": "ipython",
    "version": 3
   },
   "file_extension": ".py",
   "mimetype": "text/x-python",
   "name": "python",
   "nbconvert_exporter": "python",
   "pygments_lexer": "ipython3",
   "version": "3.10.6"
  }
 },
 "nbformat": 4,
 "nbformat_minor": 5
}
