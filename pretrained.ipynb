{
 "cells": [
  {
   "cell_type": "code",
   "execution_count": null,
   "id": "587c56b5",
   "metadata": {},
   "outputs": [
    {
     "name": "stdout",
     "output_type": "stream",
     "text": [
      "Defaulting to user installation because normal site-packages is not writeable\n",
      "Requirement already satisfied: transformers in /home/canada/.local/lib/python3.10/site-packages (4.26.0)\n",
      "Collecting torch\n",
      "  Downloading torch-1.13.1-cp310-cp310-manylinux1_x86_64.whl (887.5 MB)\n",
      "\u001b[2K     \u001b[38;2;249;38;114m━━━━━━━━━━━━━━━━\u001b[0m\u001b[38;2;249;38;114m╸\u001b[0m\u001b[38;5;237m━━━━━━━━━━━━━━━━━━━━\u001b[0m \u001b[32m403.6/887.5 MB\u001b[0m \u001b[31m311.7 kB/s\u001b[0m eta \u001b[36m0:25:53\u001b[0m"
     ]
    }
   ],
   "source": [
    "# Install the transformers library\n",
    "!pip install transformers torch\n",
    "\n",
    "# Load the BERT model\n",
    "from transformers import AutoTokenizer, AutoModel\n",
    "tokenizer = AutoTokenizer.from_pretrained(\"bert-base-uncased\")\n",
    "model = AutoModel.from_pretrained(\"bert-base-uncased\")\n",
    "\n",
    "# Encode the text input\n",
    "input_ids = tokenizer.encode('very good', return_tensors=\"pt\")\n",
    "\n",
    "# Make predictions\n",
    "with torch.no_grad():\n",
    "    logits = model(input_ids).last_hidden_state.mean(dim=1)\n",
    "    sentiment = torch.sigmoid(logits)\n",
    "\n",
    "# Round the prediction to get a binary sentiment label\n",
    "sentiment = np.round(sentiment.numpy().flatten())\n",
    "\n",
    "if sentiment == 0:\n",
    "    print(\"Negative sentiment\")\n",
    "else:\n",
    "    print(\"Positive sentiment\")\n"
   ]
  },
  {
   "cell_type": "code",
   "execution_count": null,
   "id": "3fe60290",
   "metadata": {},
   "outputs": [],
   "source": []
  }
 ],
 "metadata": {
  "kernelspec": {
   "display_name": "Python 3 (ipykernel)",
   "language": "python",
   "name": "python3"
  },
  "language_info": {
   "codemirror_mode": {
    "name": "ipython",
    "version": 3
   },
   "file_extension": ".py",
   "mimetype": "text/x-python",
   "name": "python",
   "nbconvert_exporter": "python",
   "pygments_lexer": "ipython3",
   "version": "3.10.6"
  }
 },
 "nbformat": 4,
 "nbformat_minor": 5
}
